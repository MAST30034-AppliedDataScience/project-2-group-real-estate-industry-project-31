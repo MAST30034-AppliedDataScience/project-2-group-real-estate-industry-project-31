{
 "cells": [
  {
   "cell_type": "markdown",
   "metadata": {},
   "source": [
    "### Importing Libraries and Functions"
   ]
  },
  {
   "cell_type": "code",
   "execution_count": 1,
   "metadata": {},
   "outputs": [],
   "source": [
    "import sys\n",
    "sys.path.append(\"../\")\n",
    "import overpy\n",
    "from scripts.amenities_functions import fetch_amenities\n",
    "import pandas as pd\n",
    "import geopandas as gpd\n",
    "from shapely.geometry import Point"
   ]
  },
  {
   "cell_type": "markdown",
   "metadata": {},
   "source": [
    "### Accessing OverPass API"
   ]
  },
  {
   "cell_type": "code",
   "execution_count": 2,
   "metadata": {},
   "outputs": [],
   "source": [
    "# Initialize the Overpass API\n",
    "overpass_api = overpy.Overpass()\n"
   ]
  },
  {
   "cell_type": "markdown",
   "metadata": {},
   "source": [
    "### Reading in the Datasets (I'm not using these datasets yet)"
   ]
  },
  {
   "cell_type": "markdown",
   "metadata": {},
   "source": [
    "- I only have oldlisting data\n",
    "- I used the finalised preprocessed one"
   ]
  },
  {
   "cell_type": "code",
   "execution_count": 4,
   "metadata": {},
   "outputs": [],
   "source": [
    "# Domain datasets\n",
    "#gm_domain_df = pd.read_csv(\"../data/raw/all_domain_properties.parquet\")\n",
    "#rv_domain_df = pd.read_csv(\"../data/raw/all_domain_properties.parquet\")\n",
    "\n",
    "# oldlistings datasets\n",
    "gm_oldlisting_df = pd.read_csv(\"../data/raw/oldlisting/gm_oldlisting_final.csv\")\n",
    "rv_oldlisting_df = pd.read_csv(\"../data/raw/oldlisting/rv_oldlisting_final.csv\")"
   ]
  },
  {
   "cell_type": "code",
   "execution_count": 5,
   "metadata": {},
   "outputs": [],
   "source": [
    "# SA2 Shapefile\n",
    "sa2_gdf = gpd.read_file(\"../data/SA2/extracted_SA2/SA2_2021_AUST_GDA2020.shp\")"
   ]
  },
  {
   "cell_type": "markdown",
   "metadata": {},
   "source": [
    "### Fetching the Amenities"
   ]
  },
  {
   "cell_type": "markdown",
   "metadata": {},
   "source": [
    "* I made a dictionary to separate the datasets between amenities\n",
    "* Paste this query into ChatGPT and ask it to use the same format to give you a query for whatever amenities you want.\n",
    "* If you do, just double check what it gives, sometimes it'll add more then what you want\n",
    "    - e.g It game me pharmacies when I asked for healthcare, so I removed it and kept only clinics and hospitals"
   ]
  },
  {
   "cell_type": "code",
   "execution_count": 6,
   "metadata": {},
   "outputs": [],
   "source": [
    "# Dictionary storing the queries for different amenities (nodes and ways)\n",
    "queries = {\n",
    "    \"education\": [\"\"\"\n",
    "        node[\"amenity\"=\"kindergarten\"](area.searchArea);\n",
    "        node[\"amenity\"=\"school\"](area.searchArea);\n",
    "    \"\"\", \n",
    "    \"\"\"\n",
    "        way[\"amenity\"=\"kindergarten\"](area.searchArea);\n",
    "        way[\"amenity\"=\"school\"](area.searchArea);\n",
    "    \"\"\"],\n",
    "    \"parks_and_gardens\": [\"\"\"\n",
    "        node[\"leisure\"=\"park\"](area.searchArea);\n",
    "        node[\"leisure\"=\"garden\"](area.searchArea);\n",
    "    \"\"\",\n",
    "    \"\"\"\n",
    "        way[\"leisure\"=\"park\"](area.searchArea);\n",
    "        way[\"leisure\"=\"garden\"](area.searchArea);\n",
    "    \"\"\"],\n",
    "    \"train_station\": [\"\"\"\n",
    "        node[\"railway\"=\"station\"](area.searchArea);\n",
    "    \"\"\", \n",
    "    \"\"\"\n",
    "        way[\"railway\"=\"station\"](area.searchArea);\n",
    "    \"\"\"],\n",
    "    \"shopping\": [\"\"\"\n",
    "        node[\"shop\"=\"supermarket\"](area.searchArea);\n",
    "        node[\"shop\"=\"mall\"](area.searchArea);\n",
    "    \"\"\", \n",
    "    \"\"\"\n",
    "        way[\"shop\"=\"supermarket\"](area.searchArea);\n",
    "        way[\"shop\"=\"mall\"](area.searchArea);\n",
    "    \"\"\"],\n",
    "    \"healthcare\": [\"\"\"\n",
    "        node[\"amenity\"=\"hospital\"](area.searchArea);\n",
    "        node[\"amenity\"=\"clinic\"](area.searchArea);\n",
    "    \"\"\",\n",
    "    \"\"\"\n",
    "        way[\"amenity\"=\"hospital\"](area.searchArea);\n",
    "        way[\"amenity\"=\"clinic\"](area.searchArea);\n",
    "    \"\"\"]\n",
    "}\n"
   ]
  },
  {
   "cell_type": "code",
   "execution_count": 20,
   "metadata": {},
   "outputs": [
    {
     "name": "stdout",
     "output_type": "stream",
     "text": [
      "Successfully fetched data for education\n",
      "Successfully fetched data for parks_and_gardens\n",
      "Successfully fetched data for train_station\n",
      "Successfully fetched data for shopping\n",
      "Successfully fetched data for healthcare\n"
     ]
    }
   ],
   "source": [
    "# Dictionary to store DataFrames for each amenity\n",
    "amenities_dfs = {}\n",
    "\n",
    "# Iterate through the queries and fetch data for each\n",
    "for amenity_type, query in queries.items():\n",
    "    try:\n",
    "        df = fetch_amenities(overpass_api, query[0], query[1])\n",
    "        amenities_dfs[amenity_type] = df\n",
    "        print(f\"Successfully fetched data for {amenity_type}\")\n",
    "    except Exception as e:\n",
    "        print(f\"Error fetching data for {amenity_type}: {e}\")"
   ]
  },
  {
   "cell_type": "markdown",
   "metadata": {},
   "source": [
    "### Finding Which SA2 it belongs to"
   ]
  },
  {
   "cell_type": "code",
   "execution_count": 17,
   "metadata": {},
   "outputs": [],
   "source": [
    "# Added this function now\n",
    "# Will eventually move it to a script if it works\n",
    "\n",
    "import geopandas as gpd\n",
    "import pandas as pd\n",
    "\n",
    "def map_amenities_to_sa2(df_amenities, sa2_gdf):\n",
    "    '''\n",
    "    Maps amenities to SA2 regions and returns a Pandas DataFrame with the SA2 name appended.\n",
    "    '''\n",
    "    \n",
    "    # Create a GeoDataFrame for amenities\n",
    "    gdf_amenities = gpd.GeoDataFrame(df_amenities, \n",
    "                                     geometry=gpd.points_from_xy(df_amenities.lon, df_amenities.lat),\n",
    "                                     crs=\"EPSG:4326\")\n",
    "    \n",
    "    # Perform a spatial join to find which SA2 region each amenity belongs to\n",
    "    gdf_amenities_with_sa2 = gpd.sjoin(gdf_amenities, sa2_gdf[['SA2_NAME21', 'geometry']], how=\"left\", op=\"within\")\n",
    "    \n",
    "    # Convert the GeoDataFrame back to a Pandas DataFrame and keep only the necessary columns\n",
    "    df_amenities_with_sa2 = pd.DataFrame(gdf_amenities_with_sa2.drop(columns=['geometry']))\n",
    "\n",
    "    # Return only the original columns and the SA2 name\n",
    "    return df_amenities_with_sa2[['id', 'name', 'amenity', 'lat', 'lon', 'SA2_NAME21']]\n",
    "\n"
   ]
  },
  {
   "cell_type": "code",
   "execution_count": 21,
   "metadata": {},
   "outputs": [
    {
     "name": "stderr",
     "output_type": "stream",
     "text": [
      "/Users/nassermostafa/anaconda3/lib/python3.11/site-packages/IPython/core/interactiveshell.py:3577: FutureWarning: The `op` parameter is deprecated and will be removed in a future release. Please use the `predicate` parameter instead.\n",
      "  exec(code_obj, self.user_global_ns, self.user_ns)\n",
      "/var/folders/kn/3m39_0zj0_324wtprlw_bd940000gn/T/ipykernel_71944/4115493854.py:18: UserWarning: CRS mismatch between the CRS of left geometries and the CRS of right geometries.\n",
      "Use `to_crs()` to reproject one of the input geometries to match the CRS of the other.\n",
      "\n",
      "Left CRS: EPSG:4326\n",
      "Right CRS: EPSG:7844\n",
      "\n",
      "  gdf_amenities_with_sa2 = gpd.sjoin(gdf_amenities, sa2_gdf[['SA2_NAME21', 'geometry']], how=\"left\", op=\"within\")\n"
     ]
    },
    {
     "name": "stdout",
     "output_type": "stream",
     "text": [
      "Successfully fetched SA2 regions for education\n",
      "Successfully fetched SA2 regions for parks_and_gardens\n"
     ]
    },
    {
     "name": "stderr",
     "output_type": "stream",
     "text": [
      "/Users/nassermostafa/anaconda3/lib/python3.11/site-packages/IPython/core/interactiveshell.py:3577: FutureWarning: The `op` parameter is deprecated and will be removed in a future release. Please use the `predicate` parameter instead.\n",
      "  exec(code_obj, self.user_global_ns, self.user_ns)\n",
      "/var/folders/kn/3m39_0zj0_324wtprlw_bd940000gn/T/ipykernel_71944/4115493854.py:18: UserWarning: CRS mismatch between the CRS of left geometries and the CRS of right geometries.\n",
      "Use `to_crs()` to reproject one of the input geometries to match the CRS of the other.\n",
      "\n",
      "Left CRS: EPSG:4326\n",
      "Right CRS: EPSG:7844\n",
      "\n",
      "  gdf_amenities_with_sa2 = gpd.sjoin(gdf_amenities, sa2_gdf[['SA2_NAME21', 'geometry']], how=\"left\", op=\"within\")\n",
      "/Users/nassermostafa/anaconda3/lib/python3.11/site-packages/IPython/core/interactiveshell.py:3577: FutureWarning: The `op` parameter is deprecated and will be removed in a future release. Please use the `predicate` parameter instead.\n",
      "  exec(code_obj, self.user_global_ns, self.user_ns)\n",
      "/var/folders/kn/3m39_0zj0_324wtprlw_bd940000gn/T/ipykernel_71944/4115493854.py:18: UserWarning: CRS mismatch between the CRS of left geometries and the CRS of right geometries.\n",
      "Use `to_crs()` to reproject one of the input geometries to match the CRS of the other.\n",
      "\n",
      "Left CRS: EPSG:4326\n",
      "Right CRS: EPSG:7844\n",
      "\n",
      "  gdf_amenities_with_sa2 = gpd.sjoin(gdf_amenities, sa2_gdf[['SA2_NAME21', 'geometry']], how=\"left\", op=\"within\")\n"
     ]
    },
    {
     "name": "stdout",
     "output_type": "stream",
     "text": [
      "Successfully fetched SA2 regions for train_station\n",
      "Successfully fetched SA2 regions for shopping\n"
     ]
    },
    {
     "name": "stderr",
     "output_type": "stream",
     "text": [
      "/Users/nassermostafa/anaconda3/lib/python3.11/site-packages/IPython/core/interactiveshell.py:3577: FutureWarning: The `op` parameter is deprecated and will be removed in a future release. Please use the `predicate` parameter instead.\n",
      "  exec(code_obj, self.user_global_ns, self.user_ns)\n",
      "/var/folders/kn/3m39_0zj0_324wtprlw_bd940000gn/T/ipykernel_71944/4115493854.py:18: UserWarning: CRS mismatch between the CRS of left geometries and the CRS of right geometries.\n",
      "Use `to_crs()` to reproject one of the input geometries to match the CRS of the other.\n",
      "\n",
      "Left CRS: EPSG:4326\n",
      "Right CRS: EPSG:7844\n",
      "\n",
      "  gdf_amenities_with_sa2 = gpd.sjoin(gdf_amenities, sa2_gdf[['SA2_NAME21', 'geometry']], how=\"left\", op=\"within\")\n",
      "/Users/nassermostafa/anaconda3/lib/python3.11/site-packages/IPython/core/interactiveshell.py:3577: FutureWarning: The `op` parameter is deprecated and will be removed in a future release. Please use the `predicate` parameter instead.\n",
      "  exec(code_obj, self.user_global_ns, self.user_ns)\n",
      "/var/folders/kn/3m39_0zj0_324wtprlw_bd940000gn/T/ipykernel_71944/4115493854.py:18: UserWarning: CRS mismatch between the CRS of left geometries and the CRS of right geometries.\n",
      "Use `to_crs()` to reproject one of the input geometries to match the CRS of the other.\n",
      "\n",
      "Left CRS: EPSG:4326\n",
      "Right CRS: EPSG:7844\n",
      "\n",
      "  gdf_amenities_with_sa2 = gpd.sjoin(gdf_amenities, sa2_gdf[['SA2_NAME21', 'geometry']], how=\"left\", op=\"within\")\n"
     ]
    },
    {
     "name": "stdout",
     "output_type": "stream",
     "text": [
      "Successfully fetched SA2 regions for healthcare\n"
     ]
    }
   ],
   "source": [
    "# Iterates through each amenity and adds SA2 region\n",
    "\n",
    "for amenity_type, amenity_df in amenities_dfs.items():\n",
    "    try:\n",
    "        df = map_amenities_to_sa2(amenity_df, sa2_gdf)\n",
    "        amenities_dfs[amenity_type] = df\n",
    "        print(f\"Successfully fetched SA2 regions for {amenity_type}\")\n",
    "    except Exception as e:\n",
    "        print(f\"Error fetching SA2 region for {amenity_type}: {e}\")"
   ]
  },
  {
   "cell_type": "code",
   "execution_count": 23,
   "metadata": {},
   "outputs": [
    {
     "data": {
      "text/html": [
       "<div>\n",
       "<style scoped>\n",
       "    .dataframe tbody tr th:only-of-type {\n",
       "        vertical-align: middle;\n",
       "    }\n",
       "\n",
       "    .dataframe tbody tr th {\n",
       "        vertical-align: top;\n",
       "    }\n",
       "\n",
       "    .dataframe thead th {\n",
       "        text-align: right;\n",
       "    }\n",
       "</style>\n",
       "<table border=\"1\" class=\"dataframe\">\n",
       "  <thead>\n",
       "    <tr style=\"text-align: right;\">\n",
       "      <th></th>\n",
       "      <th>id</th>\n",
       "      <th>name</th>\n",
       "      <th>amenity</th>\n",
       "      <th>lat</th>\n",
       "      <th>lon</th>\n",
       "      <th>SA2_NAME21</th>\n",
       "    </tr>\n",
       "  </thead>\n",
       "  <tbody>\n",
       "    <tr>\n",
       "      <th>0</th>\n",
       "      <td>148544339</td>\n",
       "      <td>Syndal Pre-School</td>\n",
       "      <td>kindergarten</td>\n",
       "      <td>-37.8741972</td>\n",
       "      <td>145.1487815</td>\n",
       "      <td>Glen Waverley - West</td>\n",
       "    </tr>\n",
       "    <tr>\n",
       "      <th>1</th>\n",
       "      <td>191834621</td>\n",
       "      <td>Tally Ho Preschool</td>\n",
       "      <td>kindergarten</td>\n",
       "      <td>-37.8691111</td>\n",
       "      <td>145.1642861</td>\n",
       "      <td>Glen Waverley - West</td>\n",
       "    </tr>\n",
       "    <tr>\n",
       "      <th>2</th>\n",
       "      <td>207718805</td>\n",
       "      <td>St Johns Pre-School</td>\n",
       "      <td>kindergarten</td>\n",
       "      <td>-37.8979989</td>\n",
       "      <td>145.1137432</td>\n",
       "      <td>Oakleigh - Huntingdale</td>\n",
       "    </tr>\n",
       "    <tr>\n",
       "      <th>3</th>\n",
       "      <td>246969693</td>\n",
       "      <td>Waverley Foothills Preschool</td>\n",
       "      <td>kindergarten</td>\n",
       "      <td>-37.9316411</td>\n",
       "      <td>145.2000972</td>\n",
       "      <td>Mulgrave</td>\n",
       "    </tr>\n",
       "    <tr>\n",
       "      <th>4</th>\n",
       "      <td>247169615</td>\n",
       "      <td>Brunswick Crèche &amp; Day Nursery</td>\n",
       "      <td>kindergarten</td>\n",
       "      <td>-37.7722530</td>\n",
       "      <td>144.9662900</td>\n",
       "      <td>Brunswick - South</td>\n",
       "    </tr>\n",
       "    <tr>\n",
       "      <th>...</th>\n",
       "      <td>...</td>\n",
       "      <td>...</td>\n",
       "      <td>...</td>\n",
       "      <td>...</td>\n",
       "      <td>...</td>\n",
       "      <td>...</td>\n",
       "    </tr>\n",
       "    <tr>\n",
       "      <th>3475</th>\n",
       "      <td>1315871094</td>\n",
       "      <td>Shine Bright St Margaret's Kindergarten</td>\n",
       "      <td>kindergarten</td>\n",
       "      <td>-34.19080758</td>\n",
       "      <td>142.1574592</td>\n",
       "      <td>Mildura - North</td>\n",
       "    </tr>\n",
       "    <tr>\n",
       "      <th>3476</th>\n",
       "      <td>1316142653</td>\n",
       "      <td>St Albans East Preschool</td>\n",
       "      <td>kindergarten</td>\n",
       "      <td>-37.74306644285714285714285714</td>\n",
       "      <td>144.8165961571428571428571429</td>\n",
       "      <td>St Albans - North</td>\n",
       "    </tr>\n",
       "    <tr>\n",
       "      <th>3477</th>\n",
       "      <td>1318009340</td>\n",
       "      <td>Country Bunch Early Learning</td>\n",
       "      <td>kindergarten</td>\n",
       "      <td>-34.23471761666666666666666667</td>\n",
       "      <td>142.18055925</td>\n",
       "      <td>Irymple</td>\n",
       "    </tr>\n",
       "    <tr>\n",
       "      <th>3478</th>\n",
       "      <td>1318025539</td>\n",
       "      <td>Montessori Beginnings</td>\n",
       "      <td>kindergarten</td>\n",
       "      <td>-34.22681335</td>\n",
       "      <td>142.1609060</td>\n",
       "      <td>Irymple</td>\n",
       "    </tr>\n",
       "    <tr>\n",
       "      <th>3479</th>\n",
       "      <td>1318235998</td>\n",
       "      <td>Happy Turtle Childcare</td>\n",
       "      <td>kindergarten</td>\n",
       "      <td>-34.20066442222222222222222222</td>\n",
       "      <td>142.1244222555555555555555556</td>\n",
       "      <td>Mildura - South</td>\n",
       "    </tr>\n",
       "  </tbody>\n",
       "</table>\n",
       "<p>3480 rows × 6 columns</p>\n",
       "</div>"
      ],
      "text/plain": [
       "              id                                     name       amenity  \\\n",
       "0      148544339                        Syndal Pre-School  kindergarten   \n",
       "1      191834621                       Tally Ho Preschool  kindergarten   \n",
       "2      207718805                      St Johns Pre-School  kindergarten   \n",
       "3      246969693             Waverley Foothills Preschool  kindergarten   \n",
       "4      247169615           Brunswick Crèche & Day Nursery  kindergarten   \n",
       "...          ...                                      ...           ...   \n",
       "3475  1315871094  Shine Bright St Margaret's Kindergarten  kindergarten   \n",
       "3476  1316142653                 St Albans East Preschool  kindergarten   \n",
       "3477  1318009340             Country Bunch Early Learning  kindergarten   \n",
       "3478  1318025539                    Montessori Beginnings  kindergarten   \n",
       "3479  1318235998                   Happy Turtle Childcare  kindergarten   \n",
       "\n",
       "                                 lat                            lon  \\\n",
       "0                        -37.8741972                    145.1487815   \n",
       "1                        -37.8691111                    145.1642861   \n",
       "2                        -37.8979989                    145.1137432   \n",
       "3                        -37.9316411                    145.2000972   \n",
       "4                        -37.7722530                    144.9662900   \n",
       "...                              ...                            ...   \n",
       "3475                    -34.19080758                    142.1574592   \n",
       "3476  -37.74306644285714285714285714  144.8165961571428571428571429   \n",
       "3477  -34.23471761666666666666666667                   142.18055925   \n",
       "3478                    -34.22681335                    142.1609060   \n",
       "3479  -34.20066442222222222222222222  142.1244222555555555555555556   \n",
       "\n",
       "                  SA2_NAME21  \n",
       "0       Glen Waverley - West  \n",
       "1       Glen Waverley - West  \n",
       "2     Oakleigh - Huntingdale  \n",
       "3                   Mulgrave  \n",
       "4          Brunswick - South  \n",
       "...                      ...  \n",
       "3475         Mildura - North  \n",
       "3476       St Albans - North  \n",
       "3477                 Irymple  \n",
       "3478                 Irymple  \n",
       "3479         Mildura - South  \n",
       "\n",
       "[3480 rows x 6 columns]"
      ]
     },
     "execution_count": 23,
     "metadata": {},
     "output_type": "execute_result"
    }
   ],
   "source": [
    "# Test to see if SA2 was added\n",
    "amenities_dfs['education']"
   ]
  }
 ],
 "metadata": {
  "kernelspec": {
   "display_name": "base",
   "language": "python",
   "name": "python3"
  },
  "language_info": {
   "codemirror_mode": {
    "name": "ipython",
    "version": 3
   },
   "file_extension": ".py",
   "mimetype": "text/x-python",
   "name": "python",
   "nbconvert_exporter": "python",
   "pygments_lexer": "ipython3",
   "version": "3.11.9"
  }
 },
 "nbformat": 4,
 "nbformat_minor": 2
}
