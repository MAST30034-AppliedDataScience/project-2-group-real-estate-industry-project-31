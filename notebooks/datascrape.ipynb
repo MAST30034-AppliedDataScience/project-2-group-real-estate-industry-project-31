{
 "cells": [
  {
   "cell_type": "markdown",
   "metadata": {},
   "source": [
    "# Data Scraping"
   ]
  },
  {
   "cell_type": "markdown",
   "metadata": {},
   "source": [
    "In this notebook, we will fetch and download all the necessary datasets and store them in their associated files within the \"data\" directory"
   ]
  },
  {
   "cell_type": "markdown",
   "metadata": {},
   "source": [
    "### Importing Libraries and Functions"
   ]
  },
  {
   "cell_type": "code",
   "execution_count": 2,
   "metadata": {},
   "outputs": [],
   "source": [
    "import os\n",
    "from json import dump\n",
    "import sys\n",
    "sys.path.append('../')\n",
    "from scripts.external_scrape_functions import get_xlsx, get_zip\n",
    "from scripts.parallelised_scrape import generate_url_list, fetch_all_rental_data\n",
    "from scripts.scrape_oldlistings import scrape_postcodes, get_oldlisting_data, get_remaining_oldlisting_data\n"
   ]
  },
  {
   "cell_type": "markdown",
   "metadata": {},
   "source": [
    "### Defining Global Variables"
   ]
  },
  {
   "cell_type": "code",
   "execution_count": 15,
   "metadata": {},
   "outputs": [],
   "source": [
    "BASE_URL = \"https://www.domain.com.au\"\n",
    "LANDING_PATH = \"data/landing\"\n",
    "RAW_PATH = \"data/raw\""
   ]
  },
  {
   "cell_type": "markdown",
   "metadata": {},
   "source": [
    "### *domain.com* Rental Property Data"
   ]
  },
  {
   "cell_type": "markdown",
   "metadata": {},
   "source": [
    "1. Fetching all of the '*domain.com*' Rental Property URLs"
   ]
  },
  {
   "cell_type": "code",
   "execution_count": 3,
   "metadata": {},
   "outputs": [
    {
     "name": "stdout",
     "output_type": "stream",
     "text": [
      "\n",
      "Generating the list of links...\n",
      "\n",
      "\n",
      "Fetching listings for price range: 150-200\n",
      "\n",
      "Found 53 listings for price range 150-200\n",
      "\n",
      "Fetching listings for sub-range: 150-200\n",
      "\n",
      "Fetching https://www.domain.com.au/rent/?price=150-200&excludedeposittaken=1&sort=price-asc&state=vic&page=1\n",
      "Fetching https://www.domain.com.au/rent/?price=150-200&excludedeposittaken=1&sort=price-asc&state=vic&page=2\n",
      "Fetching https://www.domain.com.au/rent/?price=150-200&excludedeposittaken=1&sort=price-asc&state=vic&page=3\n",
      "Fetching https://www.domain.com.au/rent/?price=150-200&excludedeposittaken=1&sort=price-asc&state=vic&page=4\n",
      "Fetching https://www.domain.com.au/rent/?price=150-200&excludedeposittaken=1&sort=price-asc&state=vic&page=5\n",
      "Fetching https://www.domain.com.au/rent/?price=150-200&excludedeposittaken=1&sort=price-asc&state=vic&page=6\n",
      "Fetching https://www.domain.com.au/rent/?price=150-200&excludedeposittaken=1&sort=price-asc&state=vic&page=7\n",
      "Fetching https://www.domain.com.au/rent/?price=150-200&excludedeposittaken=1&sort=price-asc&state=vic&page=8\n",
      "Fetching https://www.domain.com.au/rent/?price=150-200&excludedeposittaken=1&sort=price-asc&state=vic&page=9\n",
      "Fetching https://www.domain.com.au/rent/?price=150-200&excludedeposittaken=1&sort=price-asc&state=vic&page=10\n",
      "Fetching https://www.domain.com.au/rent/?price=150-200&excludedeposittaken=1&sort=price-asc&state=vic&page=11\n",
      "Fetching https://www.domain.com.au/rent/?price=150-200&excludedeposittaken=1&sort=price-asc&state=vic&page=12\n",
      "Fetching https://www.domain.com.au/rent/?price=150-200&excludedeposittaken=1&sort=price-asc&state=vic&page=13\n",
      "Fetching https://www.domain.com.au/rent/?price=150-200&excludedeposittaken=1&sort=price-asc&state=vic&page=14\n",
      "Fetching https://www.domain.com.au/rent/?price=150-200&excludedeposittaken=1&sort=price-asc&state=vic&page=15\n",
      "Fetching https://www.domain.com.au/rent/?price=150-200&excludedeposittaken=1&sort=price-asc&state=vic&page=16\n",
      "Fetching https://www.domain.com.au/rent/?price=150-200&excludedeposittaken=1&sort=price-asc&state=vic&page=17\n",
      "Fetching https://www.domain.com.au/rent/?price=150-200&excludedeposittaken=1&sort=price-asc&state=vic&page=18\n",
      "Fetching https://www.domain.com.au/rent/?price=150-200&excludedeposittaken=1&sort=price-asc&state=vic&page=19\n",
      "Fetching https://www.domain.com.au/rent/?price=150-200&excludedeposittaken=1&sort=price-asc&state=vic&page=20\n",
      "\n",
      "Fetching listings for price range: 200-250\n",
      "\n",
      "No listings found on page 9 for price range 150-200.\n",
      "Fetching https://www.domain.com.au/rent/?price=150-200&excludedeposittaken=1&sort=price-asc&state=vic&page=21\n",
      "No listings found on page 5 for price range 150-200.\n",
      "Fetching https://www.domain.com.au/rent/?price=150-200&excludedeposittaken=1&sort=price-asc&state=vic&page=22\n",
      "No listings found on page 12 for price range 150-200.\n",
      "Fetching https://www.domain.com.au/rent/?price=150-200&excludedeposittaken=1&sort=price-asc&state=vic&page=23\n",
      "No listings found on page 6 for price range 150-200.\n",
      "Fetching https://www.domain.com.au/rent/?price=150-200&excludedeposittaken=1&sort=price-asc&state=vic&page=24\n",
      "No listings found on page 17 for price range 150-200.\n",
      "Fetching https://www.domain.com.au/rent/?price=150-200&excludedeposittaken=1&sort=price-asc&state=vic&page=25\n",
      "No listings found on page 15 for price range 150-200.\n",
      "Fetching https://www.domain.com.au/rent/?price=150-200&excludedeposittaken=1&sort=price-asc&state=vic&page=26\n",
      "No listings found on page 13 for price range 150-200.\n",
      "Fetching https://www.domain.com.au/rent/?price=150-200&excludedeposittaken=1&sort=price-asc&state=vic&page=27\n",
      "No listings found on page 20 for price range 150-200.\n",
      "Fetching https://www.domain.com.au/rent/?price=150-200&excludedeposittaken=1&sort=price-asc&state=vic&page=28\n",
      "No listings found on page 7 for price range 150-200.\n",
      "Fetching https://www.domain.com.au/rent/?price=150-200&excludedeposittaken=1&sort=price-asc&state=vic&page=29\n",
      "No listings found on page 10 for price range 150-200.\n",
      "Fetching https://www.domain.com.au/rent/?price=150-200&excludedeposittaken=1&sort=price-asc&state=vic&page=30\n",
      "No listings found on page 4 for price range 150-200.\n",
      "Fetching https://www.domain.com.au/rent/?price=150-200&excludedeposittaken=1&sort=price-asc&state=vic&page=31\n",
      "No listings found on page 19 for price range 150-200.\n",
      "Fetching https://www.domain.com.au/rent/?price=150-200&excludedeposittaken=1&sort=price-asc&state=vic&page=32\n",
      "No listings found on page 11 for price range 150-200.\n",
      "Fetching https://www.domain.com.au/rent/?price=150-200&excludedeposittaken=1&sort=price-asc&state=vic&page=33\n",
      "No listings found on page 14 for price range 150-200.\n",
      "Fetching https://www.domain.com.au/rent/?price=150-200&excludedeposittaken=1&sort=price-asc&state=vic&page=34\n",
      "No listings found on page 18 for price range 150-200.\n",
      "Fetching https://www.domain.com.au/rent/?price=150-200&excludedeposittaken=1&sort=price-asc&state=vic&page=35\n",
      "No listings found on page 16 for price range 150-200.\n",
      "Fetching https://www.domain.com.au/rent/?price=150-200&excludedeposittaken=1&sort=price-asc&state=vic&page=36\n",
      "No listings found on page 21 for price range 150-200.\n",
      "Fetching https://www.domain.com.au/rent/?price=150-200&excludedeposittaken=1&sort=price-asc&state=vic&page=37\n",
      "No listings found on page 22 for price range 150-200.\n",
      "Fetching https://www.domain.com.au/rent/?price=150-200&excludedeposittaken=1&sort=price-asc&state=vic&page=38\n",
      "Fetching https://www.domain.com.au/rent/?price=150-200&excludedeposittaken=1&sort=price-asc&state=vic&page=39\n",
      "Found 85 listings for price range 200-250\n",
      "\n",
      "Fetching listings for sub-range: 200-250\n",
      "\n",
      "\n",
      "Fetching listings for price range: 250-300\n",
      "\n",
      "No listings found on page 8 for price range 150-200.\n",
      "Fetching https://www.domain.com.au/rent/?price=150-200&excludedeposittaken=1&sort=price-asc&state=vic&page=40\n",
      "No listings found on page 24 for price range 150-200.\n",
      "Fetching https://www.domain.com.au/rent/?price=150-200&excludedeposittaken=1&sort=price-asc&state=vic&page=41\n",
      "No listings found on page 25 for price range 150-200.\n",
      "Fetching https://www.domain.com.au/rent/?price=150-200&excludedeposittaken=1&sort=price-asc&state=vic&page=42\n",
      "No listings found on page 29 for price range 150-200.\n",
      "Fetching https://www.domain.com.au/rent/?price=150-200&excludedeposittaken=1&sort=price-asc&state=vic&page=43\n",
      "No listings found on page 30 for price range 150-200.\n",
      "Fetching https://www.domain.com.au/rent/?price=150-200&excludedeposittaken=1&sort=price-asc&state=vic&page=44\n",
      "Fetching https://www.domain.com.au/rent/?price=150-200&excludedeposittaken=1&sort=price-asc&state=vic&page=45\n",
      "No listings found on page 23 for price range 150-200.\n",
      "Fetching https://www.domain.com.au/rent/?price=150-200&excludedeposittaken=1&sort=price-asc&state=vic&page=46\n",
      "No listings found on page 31 for price range 150-200.\n",
      "Fetching https://www.domain.com.au/rent/?price=150-200&excludedeposittaken=1&sort=price-asc&state=vic&page=47\n",
      "No listings found on page 37 for price range 150-200.\n",
      "Fetching https://www.domain.com.au/rent/?price=150-200&excludedeposittaken=1&sort=price-asc&state=vic&page=48\n",
      "No listings found on page 32 for price range 150-200.\n",
      "Fetching https://www.domain.com.au/rent/?price=150-200&excludedeposittaken=1&sort=price-asc&state=vic&page=49\n",
      "Fetching https://www.domain.com.au/rent/?price=150-200&excludedeposittaken=1&sort=price-asc&state=vic&page=50\n",
      "No listings found on page 34 for price range 150-200.\n",
      "Fetching https://www.domain.com.au/rent/?price=200-250&excludedeposittaken=1&sort=price-asc&state=vic&page=1\n",
      "No listings found on page 26 for price range 150-200.\n",
      "Fetching https://www.domain.com.au/rent/?price=200-250&excludedeposittaken=1&sort=price-asc&state=vic&page=2\n",
      "No listings found on page 35 for price range 150-200.\n",
      "Fetching https://www.domain.com.au/rent/?price=200-250&excludedeposittaken=1&sort=price-asc&state=vic&page=3\n",
      "No listings found on page 33 for price range 150-200.\n",
      "Fetching https://www.domain.com.au/rent/?price=200-250&excludedeposittaken=1&sort=price-asc&state=vic&page=4\n",
      "No listings found on page 27 for price range 150-200.\n",
      "Fetching https://www.domain.com.au/rent/?price=200-250&excludedeposittaken=1&sort=price-asc&state=vic&page=5\n",
      "No listings found on page 38 for price range 150-200.\n",
      "Fetching https://www.domain.com.au/rent/?price=200-250&excludedeposittaken=1&sort=price-asc&state=vic&page=6\n",
      "No listings found on page 40 for price range 150-200.\n",
      "Fetching https://www.domain.com.au/rent/?price=200-250&excludedeposittaken=1&sort=price-asc&state=vic&page=7\n",
      "No listings found on page 28 for price range 150-200.\n",
      "Fetching https://www.domain.com.au/rent/?price=200-250&excludedeposittaken=1&sort=price-asc&state=vic&page=8\n",
      "No listings found on page 45 for price range 150-200.\n",
      "Fetching https://www.domain.com.au/rent/?price=200-250&excludedeposittaken=1&sort=price-asc&state=vic&page=9\n",
      "No listings found on page 41 for price range 150-200.\n",
      "Fetching https://www.domain.com.au/rent/?price=200-250&excludedeposittaken=1&sort=price-asc&state=vic&page=10\n",
      "No listings found on page 39 for price range 150-200.\n",
      "Fetching https://www.domain.com.au/rent/?price=200-250&excludedeposittaken=1&sort=price-asc&state=vic&page=11\n",
      "No listings found on page 47 for price range 150-200.\n",
      "Fetching https://www.domain.com.au/rent/?price=200-250&excludedeposittaken=1&sort=price-asc&state=vic&page=12\n",
      "No listings found on page 46 for price range 150-200.\n",
      "Fetching https://www.domain.com.au/rent/?price=200-250&excludedeposittaken=1&sort=price-asc&state=vic&page=13\n",
      "No listings found on page 44 for price range 150-200.\n",
      "Fetching https://www.domain.com.au/rent/?price=200-250&excludedeposittaken=1&sort=price-asc&state=vic&page=14\n",
      "No listings found on page 48 for price range 150-200.\n",
      "Fetching https://www.domain.com.au/rent/?price=200-250&excludedeposittaken=1&sort=price-asc&state=vic&page=15\n",
      "No listings found on page 42 for price range 150-200.\n",
      "Fetching https://www.domain.com.au/rent/?price=200-250&excludedeposittaken=1&sort=price-asc&state=vic&page=16\n",
      "Found 218 listings for price range 250-300\n",
      "\n",
      "Fetching listings for sub-range: 250-300\n",
      "\n",
      "\n",
      "Fetching listings for price range: 300-350\n",
      "\n",
      "No listings found on page 49 for price range 150-200.\n",
      "Fetching https://www.domain.com.au/rent/?price=200-250&excludedeposittaken=1&sort=price-asc&state=vic&page=17\n",
      "Fetching https://www.domain.com.au/rent/?price=200-250&excludedeposittaken=1&sort=price-asc&state=vic&page=18\n",
      "Fetching https://www.domain.com.au/rent/?price=200-250&excludedeposittaken=1&sort=price-asc&state=vic&page=19\n",
      "No listings found on page 50 for price range 150-200.\n",
      "Fetching https://www.domain.com.au/rent/?price=200-250&excludedeposittaken=1&sort=price-asc&state=vic&page=20\n",
      "Fetching https://www.domain.com.au/rent/?price=200-250&excludedeposittaken=1&sort=price-asc&state=vic&page=21\n",
      "Fetching https://www.domain.com.au/rent/?price=200-250&excludedeposittaken=1&sort=price-asc&state=vic&page=22\n",
      "No listings found on page 6 for price range 200-250.\n",
      "Fetching https://www.domain.com.au/rent/?price=200-250&excludedeposittaken=1&sort=price-asc&state=vic&page=23\n",
      "No listings found on page 14 for price range 200-250.\n",
      "Fetching https://www.domain.com.au/rent/?price=200-250&excludedeposittaken=1&sort=price-asc&state=vic&page=24\n",
      "No listings found on page 9 for price range 200-250.\n",
      "Fetching https://www.domain.com.au/rent/?price=200-250&excludedeposittaken=1&sort=price-asc&state=vic&page=25\n",
      "No listings found on page 15 for price range 200-250.\n",
      "Fetching https://www.domain.com.au/rent/?price=200-250&excludedeposittaken=1&sort=price-asc&state=vic&page=26\n",
      "No listings found on page 13 for price range 200-250.\n",
      "Fetching https://www.domain.com.au/rent/?price=200-250&excludedeposittaken=1&sort=price-asc&state=vic&page=27\n",
      "No listings found on page 8 for price range 200-250.\n",
      "Fetching https://www.domain.com.au/rent/?price=200-250&excludedeposittaken=1&sort=price-asc&state=vic&page=28\n",
      "No listings found on page 7 for price range 200-250.\n",
      "Fetching https://www.domain.com.au/rent/?price=200-250&excludedeposittaken=1&sort=price-asc&state=vic&page=29\n",
      "No listings found on page 18 for price range 200-250.\n",
      "Fetching https://www.domain.com.au/rent/?price=200-250&excludedeposittaken=1&sort=price-asc&state=vic&page=30\n",
      "No listings found on page 11 for price range 200-250.\n",
      "Fetching https://www.domain.com.au/rent/?price=200-250&excludedeposittaken=1&sort=price-asc&state=vic&page=31\n",
      "No listings found on page 16 for price range 200-250.\n",
      "Fetching https://www.domain.com.au/rent/?price=200-250&excludedeposittaken=1&sort=price-asc&state=vic&page=32\n",
      "No listings found on page 17 for price range 200-250.\n",
      "Fetching https://www.domain.com.au/rent/?price=200-250&excludedeposittaken=1&sort=price-asc&state=vic&page=33\n",
      "No listings found on page 19 for price range 200-250.\n",
      "Fetching https://www.domain.com.au/rent/?price=200-250&excludedeposittaken=1&sort=price-asc&state=vic&page=34\n",
      "No listings found on page 22 for price range 200-250.\n",
      "Fetching https://www.domain.com.au/rent/?price=200-250&excludedeposittaken=1&sort=price-asc&state=vic&page=35\n",
      "Fetching https://www.domain.com.au/rent/?price=200-250&excludedeposittaken=1&sort=price-asc&state=vic&page=36\n",
      "No listings found on page 10 for price range 200-250.\n",
      "Fetching https://www.domain.com.au/rent/?price=200-250&excludedeposittaken=1&sort=price-asc&state=vic&page=37\n",
      "Found 487 listings for price range 300-350\n",
      "\n",
      "Fetching listings for sub-range: 300-350\n",
      "\n",
      "\n",
      "Fetching listings for price range: 350-400\n",
      "\n",
      "No listings found on page 27 for price range 200-250.\n",
      "Fetching https://www.domain.com.au/rent/?price=200-250&excludedeposittaken=1&sort=price-asc&state=vic&page=38\n",
      "No listings found on page 26 for price range 200-250.\n",
      "Fetching https://www.domain.com.au/rent/?price=200-250&excludedeposittaken=1&sort=price-asc&state=vic&page=39\n",
      "No listings found on page 28 for price range 200-250.\n",
      "Fetching https://www.domain.com.au/rent/?price=200-250&excludedeposittaken=1&sort=price-asc&state=vic&page=40\n",
      "No listings found on page 23 for price range 200-250.\n",
      "Fetching https://www.domain.com.au/rent/?price=200-250&excludedeposittaken=1&sort=price-asc&state=vic&page=41\n",
      "No listings found on page 24 for price range 200-250.\n",
      "Fetching https://www.domain.com.au/rent/?price=200-250&excludedeposittaken=1&sort=price-asc&state=vic&page=42\n",
      "No listings found on page 29 for price range 200-250.\n",
      "Fetching https://www.domain.com.au/rent/?price=200-250&excludedeposittaken=1&sort=price-asc&state=vic&page=43\n",
      "No listings found on page 25 for price range 200-250.\n",
      "Fetching https://www.domain.com.au/rent/?price=200-250&excludedeposittaken=1&sort=price-asc&state=vic&page=44\n",
      "No listings found on page 20 for price range 200-250.\n",
      "Fetching https://www.domain.com.au/rent/?price=200-250&excludedeposittaken=1&sort=price-asc&state=vic&page=45\n",
      "No listings found on page 21 for price range 200-250.\n",
      "Fetching https://www.domain.com.au/rent/?price=200-250&excludedeposittaken=1&sort=price-asc&state=vic&page=46\n",
      "No listings found on page 31 for price range 200-250.\n",
      "Fetching https://www.domain.com.au/rent/?price=200-250&excludedeposittaken=1&sort=price-asc&state=vic&page=47\n",
      "No listings found on page 37 for price range 200-250.\n",
      "Fetching https://www.domain.com.au/rent/?price=200-250&excludedeposittaken=1&sort=price-asc&state=vic&page=48\n",
      "No listings found on page 38 for price range 200-250.\n",
      "Fetching https://www.domain.com.au/rent/?price=200-250&excludedeposittaken=1&sort=price-asc&state=vic&page=49\n",
      "No listings found on page 39 for price range 200-250.\n",
      "Fetching https://www.domain.com.au/rent/?price=200-250&excludedeposittaken=1&sort=price-asc&state=vic&page=50\n",
      "No listings found on page 34 for price range 200-250.\n",
      "Fetching https://www.domain.com.au/rent/?price=250-300&excludedeposittaken=1&sort=price-asc&state=vic&page=1\n",
      "No listings found on page 36 for price range 200-250.\n",
      "Fetching https://www.domain.com.au/rent/?price=250-300&excludedeposittaken=1&sort=price-asc&state=vic&page=2\n",
      "Found 843 listings for price range 350-400\n",
      "\n",
      "Fetching listings for sub-range: 350-400\n",
      "\n",
      "\n",
      "Fetching listings for price range: 400-450\n",
      "\n",
      "No listings found on page 43 for price range 150-200.\n",
      "Fetching https://www.domain.com.au/rent/?price=250-300&excludedeposittaken=1&sort=price-asc&state=vic&page=3\n",
      "No listings found on page 46 for price range 200-250.\n",
      "Fetching https://www.domain.com.au/rent/?price=250-300&excludedeposittaken=1&sort=price-asc&state=vic&page=4\n",
      "No listings found on page 44 for price range 200-250.\n",
      "Fetching https://www.domain.com.au/rent/?price=250-300&excludedeposittaken=1&sort=price-asc&state=vic&page=5\n",
      "No listings found on page 42 for price range 200-250.\n",
      "Fetching https://www.domain.com.au/rent/?price=250-300&excludedeposittaken=1&sort=price-asc&state=vic&page=6\n",
      "No listings found on page 45 for price range 200-250.\n",
      "Fetching https://www.domain.com.au/rent/?price=250-300&excludedeposittaken=1&sort=price-asc&state=vic&page=7\n",
      "No listings found on page 36 for price range 150-200.\n",
      "Fetching https://www.domain.com.au/rent/?price=250-300&excludedeposittaken=1&sort=price-asc&state=vic&page=8\n",
      "No listings found on page 48 for price range 200-250.\n",
      "Fetching https://www.domain.com.au/rent/?price=250-300&excludedeposittaken=1&sort=price-asc&state=vic&page=9\n",
      "No listings found on page 33 for price range 200-250.\n",
      "Fetching https://www.domain.com.au/rent/?price=250-300&excludedeposittaken=1&sort=price-asc&state=vic&page=10\n",
      "No listings found on page 32 for price range 200-250.\n",
      "Fetching https://www.domain.com.au/rent/?price=250-300&excludedeposittaken=1&sort=price-asc&state=vic&page=11\n",
      "No listings found on page 41 for price range 200-250.\n",
      "Fetching https://www.domain.com.au/rent/?price=250-300&excludedeposittaken=1&sort=price-asc&state=vic&page=12\n",
      "No listings found on page 47 for price range 200-250.\n",
      "Fetching https://www.domain.com.au/rent/?price=250-300&excludedeposittaken=1&sort=price-asc&state=vic&page=13\n",
      "No listings found on page 49 for price range 200-250.\n",
      "Fetching https://www.domain.com.au/rent/?price=250-300&excludedeposittaken=1&sort=price-asc&state=vic&page=14\n",
      "No listings found on page 43 for price range 200-250.\n",
      "Fetching https://www.domain.com.au/rent/?price=250-300&excludedeposittaken=1&sort=price-asc&state=vic&page=15\n",
      "No listings found on page 40 for price range 200-250.\n",
      "Fetching https://www.domain.com.au/rent/?price=250-300&excludedeposittaken=1&sort=price-asc&state=vic&page=16\n",
      "Fetching https://www.domain.com.au/rent/?price=250-300&excludedeposittaken=1&sort=price-asc&state=vic&page=17\n",
      "No listings found on page 50 for price range 200-250.\n",
      "Fetching https://www.domain.com.au/rent/?price=250-300&excludedeposittaken=1&sort=price-asc&state=vic&page=18\n",
      "No listings found on page 16 for price range 250-300.\n",
      "Fetching https://www.domain.com.au/rent/?price=250-300&excludedeposittaken=1&sort=price-asc&state=vic&page=19\n",
      "Found 1497 listings for price range 400-450\n",
      "\n",
      "Fetching listings for sub-range: 400-405\n",
      "\n",
      "\n",
      "Fetching listings for sub-range: 405-410\n",
      "\n",
      "\n",
      "Fetching listings for sub-range: 410-415\n",
      "\n",
      "\n",
      "Fetching listings for sub-range: 415-420\n",
      "\n",
      "\n",
      "Fetching listings for sub-range: 420-425\n",
      "\n",
      "\n",
      "Fetching listings for sub-range: 425-430\n",
      "\n",
      "\n",
      "Fetching listings for sub-range: 430-435\n",
      "\n",
      "\n",
      "Fetching listings for sub-range: 435-440\n",
      "\n",
      "\n",
      "Fetching listings for sub-range: 440-445\n",
      "\n",
      "\n",
      "Fetching listings for sub-range: 445-450\n",
      "\n",
      "\n",
      "Fetching listings for price range: 450-500\n",
      "\n",
      "No listings found on page 14 for price range 250-300.\n",
      "Fetching https://www.domain.com.au/rent/?price=250-300&excludedeposittaken=1&sort=price-asc&state=vic&page=20\n",
      "No listings found on page 12 for price range 250-300.\n",
      "Fetching https://www.domain.com.au/rent/?price=250-300&excludedeposittaken=1&sort=price-asc&state=vic&page=21\n",
      "Fetching https://www.domain.com.au/rent/?price=250-300&excludedeposittaken=1&sort=price-asc&state=vic&page=22\n",
      "No listings found on page 13 for price range 250-300.\n",
      "Fetching https://www.domain.com.au/rent/?price=250-300&excludedeposittaken=1&sort=price-asc&state=vic&page=23\n",
      "No listings found on page 30 for price range 200-250.\n",
      "Fetching https://www.domain.com.au/rent/?price=250-300&excludedeposittaken=1&sort=price-asc&state=vic&page=24\n",
      "No listings found on page 17 for price range 250-300.\n",
      "Fetching https://www.domain.com.au/rent/?price=250-300&excludedeposittaken=1&sort=price-asc&state=vic&page=25\n",
      "No listings found on page 15 for price range 250-300.\n",
      "Fetching https://www.domain.com.au/rent/?price=250-300&excludedeposittaken=1&sort=price-asc&state=vic&page=26\n",
      "Fetching https://www.domain.com.au/rent/?price=250-300&excludedeposittaken=1&sort=price-asc&state=vic&page=27\n",
      "Fetching https://www.domain.com.au/rent/?price=250-300&excludedeposittaken=1&sort=price-asc&state=vic&page=28\n",
      "No listings found on page 18 for price range 250-300.\n",
      "Fetching https://www.domain.com.au/rent/?price=250-300&excludedeposittaken=1&sort=price-asc&state=vic&page=29\n",
      "No listings found on page 19 for price range 250-300.\n",
      "Fetching https://www.domain.com.au/rent/?price=250-300&excludedeposittaken=1&sort=price-asc&state=vic&page=30\n",
      "Fetching https://www.domain.com.au/rent/?price=250-300&excludedeposittaken=1&sort=price-asc&state=vic&page=31\n",
      "Fetching https://www.domain.com.au/rent/?price=250-300&excludedeposittaken=1&sort=price-asc&state=vic&page=32\n",
      "Fetching https://www.domain.com.au/rent/?price=250-300&excludedeposittaken=1&sort=price-asc&state=vic&page=33\n",
      "Fetching https://www.domain.com.au/rent/?price=250-300&excludedeposittaken=1&sort=price-asc&state=vic&page=34\n",
      "Fetching https://www.domain.com.au/rent/?price=250-300&excludedeposittaken=1&sort=price-asc&state=vic&page=35\n",
      "Fetching https://www.domain.com.au/rent/?price=250-300&excludedeposittaken=1&sort=price-asc&state=vic&page=36\n",
      "No listings found on page 35 for price range 200-250.\n",
      "Fetching https://www.domain.com.au/rent/?price=250-300&excludedeposittaken=1&sort=price-asc&state=vic&page=37\n",
      "No listings found on page 28 for price range 250-300.\n",
      "Fetching https://www.domain.com.au/rent/?price=250-300&excludedeposittaken=1&sort=price-asc&state=vic&page=38\n",
      "No listings found on page 30 for price range 250-300.\n",
      "Fetching https://www.domain.com.au/rent/?price=250-300&excludedeposittaken=1&sort=price-asc&state=vic&page=39\n",
      "No listings found on page 31 for price range 250-300.\n",
      "Fetching https://www.domain.com.au/rent/?price=250-300&excludedeposittaken=1&sort=price-asc&state=vic&page=40\n",
      "Fetching https://www.domain.com.au/rent/?price=250-300&excludedeposittaken=1&sort=price-asc&state=vic&page=41\n",
      "No listings found on page 32 for price range 250-300.\n",
      "Fetching https://www.domain.com.au/rent/?price=250-300&excludedeposittaken=1&sort=price-asc&state=vic&page=42\n",
      "No listings found on page 36 for price range 250-300.\n",
      "Fetching https://www.domain.com.au/rent/?price=250-300&excludedeposittaken=1&sort=price-asc&state=vic&page=43\n",
      "No listings found on page 34 for price range 250-300.\n",
      "Fetching https://www.domain.com.au/rent/?price=250-300&excludedeposittaken=1&sort=price-asc&state=vic&page=44\n",
      "No listings found on page 33 for price range 250-300.\n",
      "Fetching https://www.domain.com.au/rent/?price=250-300&excludedeposittaken=1&sort=price-asc&state=vic&page=45\n",
      "No listings found on page 29 for price range 250-300.\n",
      "Fetching https://www.domain.com.au/rent/?price=250-300&excludedeposittaken=1&sort=price-asc&state=vic&page=46\n",
      "No listings found on page 39 for price range 250-300.\n",
      "Fetching https://www.domain.com.au/rent/?price=250-300&excludedeposittaken=1&sort=price-asc&state=vic&page=47\n",
      "No listings found on page 40 for price range 250-300.\n",
      "Fetching https://www.domain.com.au/rent/?price=250-300&excludedeposittaken=1&sort=price-asc&state=vic&page=48\n",
      "No listings found on page 35 for price range 250-300.\n",
      "Fetching https://www.domain.com.au/rent/?price=250-300&excludedeposittaken=1&sort=price-asc&state=vic&page=49\n",
      "No listings found on page 37 for price range 250-300.\n",
      "Fetching https://www.domain.com.au/rent/?price=250-300&excludedeposittaken=1&sort=price-asc&state=vic&page=50\n",
      "No listings found on page 42 for price range 250-300.\n",
      "Fetching https://www.domain.com.au/rent/?price=300-350&excludedeposittaken=1&sort=price-asc&state=vic&page=1\n",
      "No listings found on page 41 for price range 250-300.\n",
      "Fetching https://www.domain.com.au/rent/?price=300-350&excludedeposittaken=1&sort=price-asc&state=vic&page=2\n",
      "No listings found on page 38 for price range 250-300.\n",
      "Fetching https://www.domain.com.au/rent/?price=300-350&excludedeposittaken=1&sort=price-asc&state=vic&page=3\n",
      "No listings found on page 21 for price range 250-300.\n",
      "Fetching https://www.domain.com.au/rent/?price=300-350&excludedeposittaken=1&sort=price-asc&state=vic&page=4\n",
      "No listings found on page 43 for price range 250-300.\n",
      "Fetching https://www.domain.com.au/rent/?price=300-350&excludedeposittaken=1&sort=price-asc&state=vic&page=5\n",
      "No listings found on page 44 for price range 250-300.\n",
      "Fetching https://www.domain.com.au/rent/?price=300-350&excludedeposittaken=1&sort=price-asc&state=vic&page=6\n",
      "No listings found on page 20 for price range 250-300.\n",
      "Fetching https://www.domain.com.au/rent/?price=300-350&excludedeposittaken=1&sort=price-asc&state=vic&page=7\n",
      "No listings found on page 45 for price range 250-300.\n",
      "Fetching https://www.domain.com.au/rent/?price=300-350&excludedeposittaken=1&sort=price-asc&state=vic&page=8\n",
      "No listings found on page 48 for price range 250-300.\n",
      "Fetching https://www.domain.com.au/rent/?price=300-350&excludedeposittaken=1&sort=price-asc&state=vic&page=9\n",
      "No listings found on page 47 for price range 250-300.\n",
      "Fetching https://www.domain.com.au/rent/?price=300-350&excludedeposittaken=1&sort=price-asc&state=vic&page=10\n",
      "No listings found on page 46 for price range 250-300.\n",
      "Fetching https://www.domain.com.au/rent/?price=300-350&excludedeposittaken=1&sort=price-asc&state=vic&page=11\n",
      "No listings found on page 49 for price range 250-300.\n",
      "Fetching https://www.domain.com.au/rent/?price=300-350&excludedeposittaken=1&sort=price-asc&state=vic&page=12\n",
      "No listings found on page 27 for price range 250-300.\n",
      "Fetching https://www.domain.com.au/rent/?price=300-350&excludedeposittaken=1&sort=price-asc&state=vic&page=13\n",
      "Fetching https://www.domain.com.au/rent/?price=300-350&excludedeposittaken=1&sort=price-asc&state=vic&page=14\n",
      "No listings found on page 26 for price range 250-300.\n",
      "Fetching https://www.domain.com.au/rent/?price=300-350&excludedeposittaken=1&sort=price-asc&state=vic&page=15\n",
      "Fetching https://www.domain.com.au/rent/?price=300-350&excludedeposittaken=1&sort=price-asc&state=vic&page=16\n",
      "Fetching https://www.domain.com.au/rent/?price=300-350&excludedeposittaken=1&sort=price-asc&state=vic&page=17\n",
      "No listings found on page 22 for price range 250-300.\n",
      "Fetching https://www.domain.com.au/rent/?price=300-350&excludedeposittaken=1&sort=price-asc&state=vic&page=18\n",
      "No listings found on page 25 for price range 250-300.\n",
      "Fetching https://www.domain.com.au/rent/?price=300-350&excludedeposittaken=1&sort=price-asc&state=vic&page=19\n",
      "No listings found on page 24 for price range 250-300.\n",
      "Fetching https://www.domain.com.au/rent/?price=300-350&excludedeposittaken=1&sort=price-asc&state=vic&page=20\n",
      "No listings found on page 23 for price range 250-300.\n",
      "Fetching https://www.domain.com.au/rent/?price=300-350&excludedeposittaken=1&sort=price-asc&state=vic&page=21\n",
      "No listings found on page 50 for price range 250-300.\n",
      "Fetching https://www.domain.com.au/rent/?price=300-350&excludedeposittaken=1&sort=price-asc&state=vic&page=22\n",
      "Fetching https://www.domain.com.au/rent/?price=300-350&excludedeposittaken=1&sort=price-asc&state=vic&page=23\n",
      "Fetching https://www.domain.com.au/rent/?price=300-350&excludedeposittaken=1&sort=price-asc&state=vic&page=24\n",
      "Fetching https://www.domain.com.au/rent/?price=300-350&excludedeposittaken=1&sort=price-asc&state=vic&page=25\n",
      "Fetching https://www.domain.com.au/rent/?price=300-350&excludedeposittaken=1&sort=price-asc&state=vic&page=26\n",
      "Fetching https://www.domain.com.au/rent/?price=300-350&excludedeposittaken=1&sort=price-asc&state=vic&page=27\n",
      "Found 2541 listings for price range 450-500\n",
      "\n",
      "Fetching listings for sub-range: 450-455\n",
      "\n",
      "\n",
      "Fetching listings for sub-range: 455-460\n",
      "\n",
      "\n",
      "Fetching listings for sub-range: 460-465\n",
      "\n",
      "\n",
      "Fetching listings for sub-range: 465-470\n",
      "\n",
      "\n",
      "Fetching listings for sub-range: 470-475\n",
      "\n",
      "\n",
      "Fetching listings for sub-range: 475-480\n",
      "\n",
      "\n",
      "Fetching listings for sub-range: 480-485\n",
      "\n",
      "\n",
      "Fetching listings for sub-range: 485-490\n",
      "\n",
      "\n",
      "Fetching listings for sub-range: 490-495\n",
      "\n",
      "\n",
      "Fetching listings for sub-range: 495-500\n",
      "\n",
      "\n",
      "Fetching listings for price range: 500-550\n",
      "\n",
      "Fetching https://www.domain.com.au/rent/?price=300-350&excludedeposittaken=1&sort=price-asc&state=vic&page=28\n",
      "Fetching https://www.domain.com.au/rent/?price=300-350&excludedeposittaken=1&sort=price-asc&state=vic&page=29\n",
      "Fetching https://www.domain.com.au/rent/?price=300-350&excludedeposittaken=1&sort=price-asc&state=vic&page=30\n",
      "Fetching https://www.domain.com.au/rent/?price=300-350&excludedeposittaken=1&sort=price-asc&state=vic&page=31\n",
      "Fetching https://www.domain.com.au/rent/?price=300-350&excludedeposittaken=1&sort=price-asc&state=vic&page=32\n",
      "Fetching https://www.domain.com.au/rent/?price=300-350&excludedeposittaken=1&sort=price-asc&state=vic&page=33\n",
      "Fetching https://www.domain.com.au/rent/?price=300-350&excludedeposittaken=1&sort=price-asc&state=vic&page=34\n",
      "Fetching https://www.domain.com.au/rent/?price=300-350&excludedeposittaken=1&sort=price-asc&state=vic&page=35\n",
      "No listings found on page 26 for price range 300-350.\n",
      "Fetching https://www.domain.com.au/rent/?price=300-350&excludedeposittaken=1&sort=price-asc&state=vic&page=36\n",
      "Fetching https://www.domain.com.au/rent/?price=300-350&excludedeposittaken=1&sort=price-asc&state=vic&page=37\n",
      "No listings found on page 29 for price range 300-350.\n",
      "Fetching https://www.domain.com.au/rent/?price=300-350&excludedeposittaken=1&sort=price-asc&state=vic&page=38\n",
      "Fetching https://www.domain.com.au/rent/?price=300-350&excludedeposittaken=1&sort=price-asc&state=vic&page=39\n",
      "No listings found on page 30 for price range 300-350.\n",
      "Fetching https://www.domain.com.au/rent/?price=300-350&excludedeposittaken=1&sort=price-asc&state=vic&page=40\n",
      "No listings found on page 28 for price range 300-350.\n",
      "Fetching https://www.domain.com.au/rent/?price=300-350&excludedeposittaken=1&sort=price-asc&state=vic&page=41\n",
      "Fetching https://www.domain.com.au/rent/?price=300-350&excludedeposittaken=1&sort=price-asc&state=vic&page=42\n",
      "Fetching https://www.domain.com.au/rent/?price=300-350&excludedeposittaken=1&sort=price-asc&state=vic&page=43\n",
      "No listings found on page 27 for price range 300-350.\n",
      "Fetching https://www.domain.com.au/rent/?price=300-350&excludedeposittaken=1&sort=price-asc&state=vic&page=44\n",
      "No listings found on page 35 for price range 300-350.\n",
      "Fetching https://www.domain.com.au/rent/?price=300-350&excludedeposittaken=1&sort=price-asc&state=vic&page=45\n",
      "Fetching https://www.domain.com.au/rent/?price=300-350&excludedeposittaken=1&sort=price-asc&state=vic&page=46\n",
      "No listings found on page 32 for price range 300-350.\n",
      "Fetching https://www.domain.com.au/rent/?price=300-350&excludedeposittaken=1&sort=price-asc&state=vic&page=47\n",
      "No listings found on page 33 for price range 300-350.\n",
      "Fetching https://www.domain.com.au/rent/?price=300-350&excludedeposittaken=1&sort=price-asc&state=vic&page=48\n",
      "Fetching https://www.domain.com.au/rent/?price=300-350&excludedeposittaken=1&sort=price-asc&state=vic&page=49\n",
      "No listings found on page 37 for price range 300-350.\n",
      "Fetching https://www.domain.com.au/rent/?price=300-350&excludedeposittaken=1&sort=price-asc&state=vic&page=50\n",
      "Fetching https://www.domain.com.au/rent/?price=350-400&excludedeposittaken=1&sort=price-asc&state=vic&page=1\n",
      "Fetching https://www.domain.com.au/rent/?price=350-400&excludedeposittaken=1&sort=price-asc&state=vic&page=2\n",
      "No listings found on page 40 for price range 300-350.\n",
      "Fetching https://www.domain.com.au/rent/?price=350-400&excludedeposittaken=1&sort=price-asc&state=vic&page=3\n",
      "Found 2723 listings for price range 500-550\n",
      "\n",
      "Fetching listings for sub-range: 500-505\n",
      "\n",
      "\n",
      "Fetching listings for sub-range: 505-510\n",
      "\n",
      "\n",
      "Fetching listings for sub-range: 510-515\n",
      "\n",
      "\n",
      "Fetching listings for sub-range: 515-520\n",
      "\n",
      "\n",
      "Fetching listings for sub-range: 520-525\n",
      "\n",
      "\n",
      "Fetching listings for sub-range: 525-530\n",
      "\n",
      "\n",
      "Fetching listings for sub-range: 530-535\n",
      "\n",
      "\n",
      "Fetching listings for sub-range: 535-540\n",
      "\n",
      "\n",
      "Fetching listings for sub-range: 540-545\n",
      "\n",
      "\n",
      "Fetching listings for sub-range: 545-550\n",
      "\n",
      "\n",
      "Fetching listings for price range: 550-600\n",
      "\n",
      "No listings found on page 39 for price range 300-350.\n",
      "Fetching https://www.domain.com.au/rent/?price=350-400&excludedeposittaken=1&sort=price-asc&state=vic&page=4\n",
      "No listings found on page 36 for price range 300-350.\n",
      "Fetching https://www.domain.com.au/rent/?price=350-400&excludedeposittaken=1&sort=price-asc&state=vic&page=5\n",
      "No listings found on page 41 for price range 300-350.\n",
      "Fetching https://www.domain.com.au/rent/?price=350-400&excludedeposittaken=1&sort=price-asc&state=vic&page=6\n",
      "No listings found on page 42 for price range 300-350.\n",
      "Fetching https://www.domain.com.au/rent/?price=350-400&excludedeposittaken=1&sort=price-asc&state=vic&page=7\n",
      "No listings found on page 38 for price range 300-350.\n",
      "Fetching https://www.domain.com.au/rent/?price=350-400&excludedeposittaken=1&sort=price-asc&state=vic&page=8\n",
      "No listings found on page 34 for price range 300-350.\n",
      "Fetching https://www.domain.com.au/rent/?price=350-400&excludedeposittaken=1&sort=price-asc&state=vic&page=9\n",
      "No listings found on page 44 for price range 300-350.\n",
      "Fetching https://www.domain.com.au/rent/?price=350-400&excludedeposittaken=1&sort=price-asc&state=vic&page=10\n",
      "No listings found on page 45 for price range 300-350.\n",
      "Fetching https://www.domain.com.au/rent/?price=350-400&excludedeposittaken=1&sort=price-asc&state=vic&page=11\n",
      "No listings found on page 47 for price range 300-350.\n",
      "Fetching https://www.domain.com.au/rent/?price=350-400&excludedeposittaken=1&sort=price-asc&state=vic&page=12\n",
      "No listings found on page 49 for price range 300-350.\n",
      "Fetching https://www.domain.com.au/rent/?price=350-400&excludedeposittaken=1&sort=price-asc&state=vic&page=13\n",
      "No listings found on page 50 for price range 300-350.\n",
      "Fetching https://www.domain.com.au/rent/?price=350-400&excludedeposittaken=1&sort=price-asc&state=vic&page=14\n",
      "No listings found on page 46 for price range 300-350.\n",
      "Fetching https://www.domain.com.au/rent/?price=350-400&excludedeposittaken=1&sort=price-asc&state=vic&page=15\n",
      "No listings found on page 43 for price range 300-350.\n",
      "Fetching https://www.domain.com.au/rent/?price=350-400&excludedeposittaken=1&sort=price-asc&state=vic&page=16\n",
      "No listings found on page 48 for price range 300-350.\n",
      "Fetching https://www.domain.com.au/rent/?price=350-400&excludedeposittaken=1&sort=price-asc&state=vic&page=17\n",
      "Fetching https://www.domain.com.au/rent/?price=350-400&excludedeposittaken=1&sort=price-asc&state=vic&page=18\n",
      "Fetching https://www.domain.com.au/rent/?price=350-400&excludedeposittaken=1&sort=price-asc&state=vic&page=19\n",
      "Fetching https://www.domain.com.au/rent/?price=350-400&excludedeposittaken=1&sort=price-asc&state=vic&page=20\n",
      "No listings found on page 31 for price range 300-350.\n",
      "Fetching https://www.domain.com.au/rent/?price=350-400&excludedeposittaken=1&sort=price-asc&state=vic&page=21\n",
      "Fetching https://www.domain.com.au/rent/?price=350-400&excludedeposittaken=1&sort=price-asc&state=vic&page=22\n",
      "Fetching https://www.domain.com.au/rent/?price=350-400&excludedeposittaken=1&sort=price-asc&state=vic&page=23\n",
      "Fetching https://www.domain.com.au/rent/?price=350-400&excludedeposittaken=1&sort=price-asc&state=vic&page=24\n",
      "Fetching https://www.domain.com.au/rent/?price=350-400&excludedeposittaken=1&sort=price-asc&state=vic&page=25\n",
      "Fetching https://www.domain.com.au/rent/?price=350-400&excludedeposittaken=1&sort=price-asc&state=vic&page=26\n",
      "Fetching https://www.domain.com.au/rent/?price=350-400&excludedeposittaken=1&sort=price-asc&state=vic&page=27\n",
      "Fetching https://www.domain.com.au/rent/?price=350-400&excludedeposittaken=1&sort=price-asc&state=vic&page=28\n",
      "Fetching https://www.domain.com.au/rent/?price=350-400&excludedeposittaken=1&sort=price-asc&state=vic&page=29\n",
      "Fetching https://www.domain.com.au/rent/?price=350-400&excludedeposittaken=1&sort=price-asc&state=vic&page=30\n",
      "Fetching https://www.domain.com.au/rent/?price=350-400&excludedeposittaken=1&sort=price-asc&state=vic&page=31\n",
      "Fetching https://www.domain.com.au/rent/?price=350-400&excludedeposittaken=1&sort=price-asc&state=vic&page=32\n",
      "Fetching https://www.domain.com.au/rent/?price=350-400&excludedeposittaken=1&sort=price-asc&state=vic&page=33\n",
      "Fetching https://www.domain.com.au/rent/?price=350-400&excludedeposittaken=1&sort=price-asc&state=vic&page=34\n",
      "Fetching https://www.domain.com.au/rent/?price=350-400&excludedeposittaken=1&sort=price-asc&state=vic&page=35\n",
      "Fetching https://www.domain.com.au/rent/?price=350-400&excludedeposittaken=1&sort=price-asc&state=vic&page=36\n",
      "Fetching https://www.domain.com.au/rent/?price=350-400&excludedeposittaken=1&sort=price-asc&state=vic&page=37\n",
      "Fetching https://www.domain.com.au/rent/?price=350-400&excludedeposittaken=1&sort=price-asc&state=vic&page=38\n",
      "Fetching https://www.domain.com.au/rent/?price=350-400&excludedeposittaken=1&sort=price-asc&state=vic&page=39\n",
      "Fetching https://www.domain.com.au/rent/?price=350-400&excludedeposittaken=1&sort=price-asc&state=vic&page=40\n",
      "Fetching https://www.domain.com.au/rent/?price=350-400&excludedeposittaken=1&sort=price-asc&state=vic&page=41\n",
      "Fetching https://www.domain.com.au/rent/?price=350-400&excludedeposittaken=1&sort=price-asc&state=vic&page=42\n",
      "No listings found on page 12 for price range 200-250.\n",
      "Fetching https://www.domain.com.au/rent/?price=350-400&excludedeposittaken=1&sort=price-asc&state=vic&page=43\n",
      "Fetching https://www.domain.com.au/rent/?price=350-400&excludedeposittaken=1&sort=price-asc&state=vic&page=44\n",
      "Fetching https://www.domain.com.au/rent/?price=350-400&excludedeposittaken=1&sort=price-asc&state=vic&page=45\n",
      "Fetching https://www.domain.com.au/rent/?price=350-400&excludedeposittaken=1&sort=price-asc&state=vic&page=46\n",
      "Fetching https://www.domain.com.au/rent/?price=350-400&excludedeposittaken=1&sort=price-asc&state=vic&page=47\n",
      "Fetching https://www.domain.com.au/rent/?price=350-400&excludedeposittaken=1&sort=price-asc&state=vic&page=48\n",
      "Fetching https://www.domain.com.au/rent/?price=350-400&excludedeposittaken=1&sort=price-asc&state=vic&page=49\n",
      "Fetching https://www.domain.com.au/rent/?price=350-400&excludedeposittaken=1&sort=price-asc&state=vic&page=50\n",
      "Fetching https://www.domain.com.au/rent/?price=400-405&excludedeposittaken=1&sort=price-asc&state=vic&page=1\n",
      "Fetching https://www.domain.com.au/rent/?price=400-405&excludedeposittaken=1&sort=price-asc&state=vic&page=2\n",
      "Fetching https://www.domain.com.au/rent/?price=400-405&excludedeposittaken=1&sort=price-asc&state=vic&page=3\n",
      "Fetching https://www.domain.com.au/rent/?price=400-405&excludedeposittaken=1&sort=price-asc&state=vic&page=4\n",
      "Fetching https://www.domain.com.au/rent/?price=400-405&excludedeposittaken=1&sort=price-asc&state=vic&page=5\n",
      "Fetching https://www.domain.com.au/rent/?price=400-405&excludedeposittaken=1&sort=price-asc&state=vic&page=6\n",
      "No listings found on page 47 for price range 350-400.\n",
      "Fetching https://www.domain.com.au/rent/?price=400-405&excludedeposittaken=1&sort=price-asc&state=vic&page=7\n",
      "No listings found on page 44 for price range 350-400.\n",
      "Fetching https://www.domain.com.au/rent/?price=400-405&excludedeposittaken=1&sort=price-asc&state=vic&page=8\n",
      "No listings found on page 45 for price range 350-400.\n",
      "Fetching https://www.domain.com.au/rent/?price=400-405&excludedeposittaken=1&sort=price-asc&state=vic&page=9\n",
      "No listings found on page 46 for price range 350-400.\n",
      "Fetching https://www.domain.com.au/rent/?price=400-405&excludedeposittaken=1&sort=price-asc&state=vic&page=10\n",
      "Fetching https://www.domain.com.au/rent/?price=400-405&excludedeposittaken=1&sort=price-asc&state=vic&page=11\n",
      "No listings found on page 49 for price range 350-400.\n",
      "Fetching https://www.domain.com.au/rent/?price=400-405&excludedeposittaken=1&sort=price-asc&state=vic&page=12\n",
      "No listings found on page 50 for price range 350-400.\n",
      "Fetching https://www.domain.com.au/rent/?price=400-405&excludedeposittaken=1&sort=price-asc&state=vic&page=13\n",
      "Fetching https://www.domain.com.au/rent/?price=400-405&excludedeposittaken=1&sort=price-asc&state=vic&page=14\n",
      "Fetching https://www.domain.com.au/rent/?price=400-405&excludedeposittaken=1&sort=price-asc&state=vic&page=15\n",
      "Fetching https://www.domain.com.au/rent/?price=400-405&excludedeposittaken=1&sort=price-asc&state=vic&page=16\n",
      "Fetching https://www.domain.com.au/rent/?price=400-405&excludedeposittaken=1&sort=price-asc&state=vic&page=17\n",
      "Fetching https://www.domain.com.au/rent/?price=400-405&excludedeposittaken=1&sort=price-asc&state=vic&page=18\n",
      "Fetching https://www.domain.com.au/rent/?price=400-405&excludedeposittaken=1&sort=price-asc&state=vic&page=19\n",
      "Fetching https://www.domain.com.au/rent/?price=400-405&excludedeposittaken=1&sort=price-asc&state=vic&page=20\n",
      "No listings found on page 14 for price range 400-405.\n",
      "Fetching https://www.domain.com.au/rent/?price=400-405&excludedeposittaken=1&sort=price-asc&state=vic&page=21\n",
      "Fetching https://www.domain.com.au/rent/?price=400-405&excludedeposittaken=1&sort=price-asc&state=vic&page=22\n",
      "Fetching https://www.domain.com.au/rent/?price=400-405&excludedeposittaken=1&sort=price-asc&state=vic&page=23\n",
      "No listings found on page 17 for price range 400-405.\n",
      "Fetching https://www.domain.com.au/rent/?price=400-405&excludedeposittaken=1&sort=price-asc&state=vic&page=24\n",
      "No listings found on page 15 for price range 400-405.\n",
      "Fetching https://www.domain.com.au/rent/?price=400-405&excludedeposittaken=1&sort=price-asc&state=vic&page=25\n",
      "No listings found on page 13 for price range 400-405.\n",
      "Fetching https://www.domain.com.au/rent/?price=400-405&excludedeposittaken=1&sort=price-asc&state=vic&page=26\n",
      "No listings found on page 16 for price range 400-405.\n",
      "Fetching https://www.domain.com.au/rent/?price=400-405&excludedeposittaken=1&sort=price-asc&state=vic&page=27\n",
      "Fetching https://www.domain.com.au/rent/?price=400-405&excludedeposittaken=1&sort=price-asc&state=vic&page=28\n",
      "Fetching https://www.domain.com.au/rent/?price=400-405&excludedeposittaken=1&sort=price-asc&state=vic&page=29\n",
      "No listings found on page 18 for price range 400-405.\n",
      "Fetching https://www.domain.com.au/rent/?price=400-405&excludedeposittaken=1&sort=price-asc&state=vic&page=30\n",
      "No listings found on page 48 for price range 350-400.\n",
      "Fetching https://www.domain.com.au/rent/?price=400-405&excludedeposittaken=1&sort=price-asc&state=vic&page=31\n",
      "Fetching https://www.domain.com.au/rent/?price=400-405&excludedeposittaken=1&sort=price-asc&state=vic&page=32\n",
      "Fetching https://www.domain.com.au/rent/?price=400-405&excludedeposittaken=1&sort=price-asc&state=vic&page=33\n",
      "No listings found on page 20 for price range 400-405.\n",
      "Fetching https://www.domain.com.au/rent/?price=400-405&excludedeposittaken=1&sort=price-asc&state=vic&page=34\n",
      "No listings found on page 21 for price range 400-405.\n",
      "Fetching https://www.domain.com.au/rent/?price=400-405&excludedeposittaken=1&sort=price-asc&state=vic&page=35\n",
      "No listings found on page 22 for price range 400-405.\n",
      "Fetching https://www.domain.com.au/rent/?price=400-405&excludedeposittaken=1&sort=price-asc&state=vic&page=36\n",
      "Fetching https://www.domain.com.au/rent/?price=400-405&excludedeposittaken=1&sort=price-asc&state=vic&page=37\n",
      "Fetching https://www.domain.com.au/rent/?price=400-405&excludedeposittaken=1&sort=price-asc&state=vic&page=38\n",
      "Fetching https://www.domain.com.au/rent/?price=400-405&excludedeposittaken=1&sort=price-asc&state=vic&page=39\n",
      "No listings found on page 28 for price range 400-405.\n",
      "Fetching https://www.domain.com.au/rent/?price=400-405&excludedeposittaken=1&sort=price-asc&state=vic&page=40\n",
      "No listings found on page 25 for price range 400-405.\n",
      "Fetching https://www.domain.com.au/rent/?price=400-405&excludedeposittaken=1&sort=price-asc&state=vic&page=41\n",
      "No listings found on page 23 for price range 400-405.\n",
      "Fetching https://www.domain.com.au/rent/?price=400-405&excludedeposittaken=1&sort=price-asc&state=vic&page=42\n",
      "Fetching https://www.domain.com.au/rent/?price=400-405&excludedeposittaken=1&sort=price-asc&state=vic&page=43\n",
      "No listings found on page 30 for price range 400-405.\n",
      "Fetching https://www.domain.com.au/rent/?price=400-405&excludedeposittaken=1&sort=price-asc&state=vic&page=44\n",
      "No listings found on page 32 for price range 400-405.\n",
      "Fetching https://www.domain.com.au/rent/?price=400-405&excludedeposittaken=1&sort=price-asc&state=vic&page=45\n",
      "No listings found on page 24 for price range 400-405.\n",
      "Fetching https://www.domain.com.au/rent/?price=400-405&excludedeposittaken=1&sort=price-asc&state=vic&page=46\n",
      "No listings found on page 26 for price range 400-405.\n",
      "Fetching https://www.domain.com.au/rent/?price=400-405&excludedeposittaken=1&sort=price-asc&state=vic&page=47\n",
      "No listings found on page 31 for price range 400-405.\n",
      "Fetching https://www.domain.com.au/rent/?price=400-405&excludedeposittaken=1&sort=price-asc&state=vic&page=48\n",
      "No listings found on page 29 for price range 400-405.\n",
      "Fetching https://www.domain.com.au/rent/?price=400-405&excludedeposittaken=1&sort=price-asc&state=vic&page=49\n",
      "No listings found on page 27 for price range 400-405.\n",
      "Fetching https://www.domain.com.au/rent/?price=400-405&excludedeposittaken=1&sort=price-asc&state=vic&page=50\n",
      "No listings found on page 33 for price range 400-405.\n",
      "Fetching https://www.domain.com.au/rent/?price=405-410&excludedeposittaken=1&sort=price-asc&state=vic&page=1\n",
      "No listings found on page 19 for price range 400-405.\n",
      "Fetching https://www.domain.com.au/rent/?price=405-410&excludedeposittaken=1&sort=price-asc&state=vic&page=2\n",
      "No listings found on page 35 for price range 400-405.\n",
      "Fetching https://www.domain.com.au/rent/?price=405-410&excludedeposittaken=1&sort=price-asc&state=vic&page=3\n",
      "No listings found on page 34 for price range 400-405.\n",
      "Fetching https://www.domain.com.au/rent/?price=405-410&excludedeposittaken=1&sort=price-asc&state=vic&page=4\n",
      "No listings found on page 38 for price range 400-405.\n",
      "Fetching https://www.domain.com.au/rent/?price=405-410&excludedeposittaken=1&sort=price-asc&state=vic&page=5\n",
      "No listings found on page 36 for price range 400-405.\n",
      "Fetching https://www.domain.com.au/rent/?price=405-410&excludedeposittaken=1&sort=price-asc&state=vic&page=6\n",
      "No listings found on page 39 for price range 400-405.\n",
      "Fetching https://www.domain.com.au/rent/?price=405-410&excludedeposittaken=1&sort=price-asc&state=vic&page=7\n",
      "No listings found on page 37 for price range 400-405.\n",
      "Fetching https://www.domain.com.au/rent/?price=405-410&excludedeposittaken=1&sort=price-asc&state=vic&page=8\n",
      "Fetching https://www.domain.com.au/rent/?price=405-410&excludedeposittaken=1&sort=price-asc&state=vic&page=9\n",
      "No listings found on page 42 for price range 400-405.\n",
      "Fetching https://www.domain.com.au/rent/?price=405-410&excludedeposittaken=1&sort=price-asc&state=vic&page=10\n",
      "No listings found on page 45 for price range 400-405.\n",
      "Fetching https://www.domain.com.au/rent/?price=405-410&excludedeposittaken=1&sort=price-asc&state=vic&page=11\n",
      "No listings found on page 47 for price range 400-405.\n",
      "Fetching https://www.domain.com.au/rent/?price=405-410&excludedeposittaken=1&sort=price-asc&state=vic&page=12\n",
      "No listings found on page 43 for price range 400-405.\n",
      "Fetching https://www.domain.com.au/rent/?price=405-410&excludedeposittaken=1&sort=price-asc&state=vic&page=13\n",
      "No listings found on page 41 for price range 400-405.\n",
      "Fetching https://www.domain.com.au/rent/?price=405-410&excludedeposittaken=1&sort=price-asc&state=vic&page=14\n",
      "No listings found on page 10 for price range 405-410.\n",
      "Fetching https://www.domain.com.au/rent/?price=405-410&excludedeposittaken=1&sort=price-asc&state=vic&page=15\n",
      "No listings found on page 49 for price range 400-405.\n",
      "Fetching https://www.domain.com.au/rent/?price=405-410&excludedeposittaken=1&sort=price-asc&state=vic&page=16\n",
      "No listings found on page 9 for price range 405-410.\n",
      "Fetching https://www.domain.com.au/rent/?price=405-410&excludedeposittaken=1&sort=price-asc&state=vic&page=17\n",
      "No listings found on page 44 for price range 400-405.\n",
      "Fetching https://www.domain.com.au/rent/?price=405-410&excludedeposittaken=1&sort=price-asc&state=vic&page=18\n",
      "No listings found on page 48 for price range 400-405.\n",
      "Fetching https://www.domain.com.au/rent/?price=405-410&excludedeposittaken=1&sort=price-asc&state=vic&page=19\n",
      "No listings found on page 11 for price range 405-410.\n",
      "Fetching https://www.domain.com.au/rent/?price=405-410&excludedeposittaken=1&sort=price-asc&state=vic&page=20\n",
      "No listings found on page 46 for price range 400-405.\n",
      "Fetching https://www.domain.com.au/rent/?price=405-410&excludedeposittaken=1&sort=price-asc&state=vic&page=21\n",
      "No listings found on page 7 for price range 405-410.\n",
      "Fetching https://www.domain.com.au/rent/?price=405-410&excludedeposittaken=1&sort=price-asc&state=vic&page=22\n",
      "No listings found on page 13 for price range 405-410.\n",
      "Fetching https://www.domain.com.au/rent/?price=405-410&excludedeposittaken=1&sort=price-asc&state=vic&page=23\n",
      "No listings found on page 14 for price range 405-410.\n",
      "Fetching https://www.domain.com.au/rent/?price=405-410&excludedeposittaken=1&sort=price-asc&state=vic&page=24\n",
      "No listings found on page 12 for price range 405-410.\n",
      "Fetching https://www.domain.com.au/rent/?price=405-410&excludedeposittaken=1&sort=price-asc&state=vic&page=25\n",
      "No listings found on page 40 for price range 400-405.\n",
      "Fetching https://www.domain.com.au/rent/?price=405-410&excludedeposittaken=1&sort=price-asc&state=vic&page=26\n",
      "No listings found on page 50 for price range 400-405.\n",
      "Fetching https://www.domain.com.au/rent/?price=405-410&excludedeposittaken=1&sort=price-asc&state=vic&page=27\n",
      "Fetching https://www.domain.com.au/rent/?price=405-410&excludedeposittaken=1&sort=price-asc&state=vic&page=28\n",
      "No listings found on page 16 for price range 405-410.\n",
      "Fetching https://www.domain.com.au/rent/?price=405-410&excludedeposittaken=1&sort=price-asc&state=vic&page=29\n",
      "Fetching https://www.domain.com.au/rent/?price=405-410&excludedeposittaken=1&sort=price-asc&state=vic&page=30\n",
      "Fetching https://www.domain.com.au/rent/?price=405-410&excludedeposittaken=1&sort=price-asc&state=vic&page=31\n",
      "No listings found on page 15 for price range 405-410.\n",
      "Fetching https://www.domain.com.au/rent/?price=405-410&excludedeposittaken=1&sort=price-asc&state=vic&page=32\n",
      "Fetching https://www.domain.com.au/rent/?price=405-410&excludedeposittaken=1&sort=price-asc&state=vic&page=33\n",
      "Fetching https://www.domain.com.au/rent/?price=405-410&excludedeposittaken=1&sort=price-asc&state=vic&page=34\n",
      "No listings found on page 17 for price range 405-410.\n",
      "Fetching https://www.domain.com.au/rent/?price=405-410&excludedeposittaken=1&sort=price-asc&state=vic&page=35\n",
      "No listings found on page 18 for price range 405-410.\n",
      "Fetching https://www.domain.com.au/rent/?price=405-410&excludedeposittaken=1&sort=price-asc&state=vic&page=36\n",
      "No listings found on page 19 for price range 405-410.\n",
      "Fetching https://www.domain.com.au/rent/?price=405-410&excludedeposittaken=1&sort=price-asc&state=vic&page=37\n",
      "No listings found on page 22 for price range 405-410.\n",
      "Fetching https://www.domain.com.au/rent/?price=405-410&excludedeposittaken=1&sort=price-asc&state=vic&page=38\n",
      "No listings found on page 25 for price range 405-410.\n",
      "Fetching https://www.domain.com.au/rent/?price=405-410&excludedeposittaken=1&sort=price-asc&state=vic&page=39\n",
      "No listings found on page 24 for price range 405-410.\n",
      "Fetching https://www.domain.com.au/rent/?price=405-410&excludedeposittaken=1&sort=price-asc&state=vic&page=40\n",
      "No listings found on page 23 for price range 405-410.\n",
      "Fetching https://www.domain.com.au/rent/?price=405-410&excludedeposittaken=1&sort=price-asc&state=vic&page=41\n",
      "No listings found on page 26 for price range 405-410.\n",
      "Fetching https://www.domain.com.au/rent/?price=405-410&excludedeposittaken=1&sort=price-asc&state=vic&page=42\n",
      "No listings found on page 29 for price range 405-410.\n",
      "Fetching https://www.domain.com.au/rent/?price=405-410&excludedeposittaken=1&sort=price-asc&state=vic&page=43\n",
      "No listings found on page 20 for price range 405-410.\n",
      "Fetching https://www.domain.com.au/rent/?price=405-410&excludedeposittaken=1&sort=price-asc&state=vic&page=44\n",
      "No listings found on page 21 for price range 405-410.\n",
      "Fetching https://www.domain.com.au/rent/?price=405-410&excludedeposittaken=1&sort=price-asc&state=vic&page=45\n",
      "No listings found on page 30 for price range 405-410.\n",
      "Fetching https://www.domain.com.au/rent/?price=405-410&excludedeposittaken=1&sort=price-asc&state=vic&page=46\n",
      "No listings found on page 31 for price range 405-410.\n",
      "Fetching https://www.domain.com.au/rent/?price=405-410&excludedeposittaken=1&sort=price-asc&state=vic&page=47\n",
      "No listings found on page 33 for price range 405-410.\n",
      "Fetching https://www.domain.com.au/rent/?price=405-410&excludedeposittaken=1&sort=price-asc&state=vic&page=48\n",
      "No listings found on page 28 for price range 405-410.\n",
      "Fetching https://www.domain.com.au/rent/?price=405-410&excludedeposittaken=1&sort=price-asc&state=vic&page=49\n",
      "No listings found on page 32 for price range 405-410.\n",
      "Fetching https://www.domain.com.au/rent/?price=405-410&excludedeposittaken=1&sort=price-asc&state=vic&page=50\n",
      "No listings found on page 37 for price range 405-410.\n",
      "Fetching https://www.domain.com.au/rent/?price=410-415&excludedeposittaken=1&sort=price-asc&state=vic&page=1\n",
      "No listings found on page 35 for price range 405-410.\n",
      "Fetching https://www.domain.com.au/rent/?price=410-415&excludedeposittaken=1&sort=price-asc&state=vic&page=2\n",
      "No listings found on page 38 for price range 405-410.\n",
      "Fetching https://www.domain.com.au/rent/?price=410-415&excludedeposittaken=1&sort=price-asc&state=vic&page=3\n",
      "No listings found on page 36 for price range 405-410.\n",
      "Fetching https://www.domain.com.au/rent/?price=410-415&excludedeposittaken=1&sort=price-asc&state=vic&page=4\n",
      "Fetching https://www.domain.com.au/rent/?price=410-415&excludedeposittaken=1&sort=price-asc&state=vic&page=5\n",
      "No listings found on page 39 for price range 405-410.\n",
      "Fetching https://www.domain.com.au/rent/?price=410-415&excludedeposittaken=1&sort=price-asc&state=vic&page=6\n",
      "No listings found on page 34 for price range 405-410.\n",
      "Fetching https://www.domain.com.au/rent/?price=410-415&excludedeposittaken=1&sort=price-asc&state=vic&page=7\n",
      "No listings found on page 8 for price range 405-410.\n",
      "Fetching https://www.domain.com.au/rent/?price=410-415&excludedeposittaken=1&sort=price-asc&state=vic&page=8\n",
      "No listings found on page 40 for price range 405-410.\n",
      "Fetching https://www.domain.com.au/rent/?price=410-415&excludedeposittaken=1&sort=price-asc&state=vic&page=9\n",
      "No listings found on page 41 for price range 405-410.\n",
      "Fetching https://www.domain.com.au/rent/?price=410-415&excludedeposittaken=1&sort=price-asc&state=vic&page=10\n",
      "No listings found on page 46 for price range 405-410.\n",
      "Fetching https://www.domain.com.au/rent/?price=410-415&excludedeposittaken=1&sort=price-asc&state=vic&page=11\n",
      "No listings found on page 43 for price range 405-410.\n",
      "Fetching https://www.domain.com.au/rent/?price=410-415&excludedeposittaken=1&sort=price-asc&state=vic&page=12\n",
      "No listings found on page 45 for price range 405-410.\n",
      "Fetching https://www.domain.com.au/rent/?price=410-415&excludedeposittaken=1&sort=price-asc&state=vic&page=13\n",
      "No listings found on page 44 for price range 405-410.\n",
      "Fetching https://www.domain.com.au/rent/?price=410-415&excludedeposittaken=1&sort=price-asc&state=vic&page=14\n",
      "No listings found on page 42 for price range 405-410.\n",
      "Fetching https://www.domain.com.au/rent/?price=410-415&excludedeposittaken=1&sort=price-asc&state=vic&page=15\n",
      "No listings found on page 27 for price range 405-410.\n",
      "Fetching https://www.domain.com.au/rent/?price=410-415&excludedeposittaken=1&sort=price-asc&state=vic&page=16\n",
      "No listings found on page 48 for price range 405-410.\n",
      "Fetching https://www.domain.com.au/rent/?price=410-415&excludedeposittaken=1&sort=price-asc&state=vic&page=17\n",
      "No listings found on page 49 for price range 405-410.\n",
      "Fetching https://www.domain.com.au/rent/?price=410-415&excludedeposittaken=1&sort=price-asc&state=vic&page=18\n",
      "No listings found on page 50 for price range 405-410.\n",
      "Fetching https://www.domain.com.au/rent/?price=410-415&excludedeposittaken=1&sort=price-asc&state=vic&page=19\n",
      "No listings found on page 47 for price range 405-410.\n",
      "Fetching https://www.domain.com.au/rent/?price=410-415&excludedeposittaken=1&sort=price-asc&state=vic&page=20\n",
      "Fetching https://www.domain.com.au/rent/?price=410-415&excludedeposittaken=1&sort=price-asc&state=vic&page=21\n",
      "No listings found on page 9 for price range 410-415.\n",
      "Fetching https://www.domain.com.au/rent/?price=410-415&excludedeposittaken=1&sort=price-asc&state=vic&page=22\n",
      "No listings found on page 11 for price range 410-415.\n",
      "Fetching https://www.domain.com.au/rent/?price=410-415&excludedeposittaken=1&sort=price-asc&state=vic&page=23\n",
      "No listings found on page 12 for price range 410-415.\n",
      "Fetching https://www.domain.com.au/rent/?price=410-415&excludedeposittaken=1&sort=price-asc&state=vic&page=24\n",
      "Fetching https://www.domain.com.au/rent/?price=410-415&excludedeposittaken=1&sort=price-asc&state=vic&page=25\n",
      "Fetching https://www.domain.com.au/rent/?price=410-415&excludedeposittaken=1&sort=price-asc&state=vic&page=26\n",
      "Fetching https://www.domain.com.au/rent/?price=410-415&excludedeposittaken=1&sort=price-asc&state=vic&page=27\n",
      "No listings found on page 16 for price range 410-415.\n",
      "Fetching https://www.domain.com.au/rent/?price=410-415&excludedeposittaken=1&sort=price-asc&state=vic&page=28\n",
      "No listings found on page 17 for price range 410-415.\n",
      "Fetching https://www.domain.com.au/rent/?price=410-415&excludedeposittaken=1&sort=price-asc&state=vic&page=29\n",
      "No listings found on page 14 for price range 410-415.\n",
      "Fetching https://www.domain.com.au/rent/?price=410-415&excludedeposittaken=1&sort=price-asc&state=vic&page=30\n",
      "No listings found on page 15 for price range 410-415.\n",
      "Fetching https://www.domain.com.au/rent/?price=410-415&excludedeposittaken=1&sort=price-asc&state=vic&page=31\n",
      "No listings found on page 18 for price range 410-415.\n",
      "Fetching https://www.domain.com.au/rent/?price=410-415&excludedeposittaken=1&sort=price-asc&state=vic&page=32\n",
      "No listings found on page 19 for price range 410-415.\n",
      "Fetching https://www.domain.com.au/rent/?price=410-415&excludedeposittaken=1&sort=price-asc&state=vic&page=33\n",
      "No listings found on page 13 for price range 410-415.\n",
      "Fetching https://www.domain.com.au/rent/?price=410-415&excludedeposittaken=1&sort=price-asc&state=vic&page=34\n",
      "No listings found on page 10 for price range 410-415.\n",
      "Fetching https://www.domain.com.au/rent/?price=410-415&excludedeposittaken=1&sort=price-asc&state=vic&page=35\n",
      "No listings found on page 21 for price range 410-415.\n",
      "Fetching https://www.domain.com.au/rent/?price=410-415&excludedeposittaken=1&sort=price-asc&state=vic&page=36\n",
      "Fetching https://www.domain.com.au/rent/?price=410-415&excludedeposittaken=1&sort=price-asc&state=vic&page=37\n",
      "Fetching https://www.domain.com.au/rent/?price=410-415&excludedeposittaken=1&sort=price-asc&state=vic&page=38\n",
      "Fetching https://www.domain.com.au/rent/?price=410-415&excludedeposittaken=1&sort=price-asc&state=vic&page=39\n",
      "No listings found on page 24 for price range 410-415.\n",
      "Fetching https://www.domain.com.au/rent/?price=410-415&excludedeposittaken=1&sort=price-asc&state=vic&page=40\n",
      "No listings found on page 26 for price range 410-415.\n",
      "Fetching https://www.domain.com.au/rent/?price=410-415&excludedeposittaken=1&sort=price-asc&state=vic&page=41\n",
      "No listings found on page 23 for price range 410-415.\n",
      "Fetching https://www.domain.com.au/rent/?price=410-415&excludedeposittaken=1&sort=price-asc&state=vic&page=42\n",
      "No listings found on page 27 for price range 410-415.\n",
      "Fetching https://www.domain.com.au/rent/?price=410-415&excludedeposittaken=1&sort=price-asc&state=vic&page=43\n",
      "No listings found on page 29 for price range 410-415.\n",
      "Fetching https://www.domain.com.au/rent/?price=410-415&excludedeposittaken=1&sort=price-asc&state=vic&page=44\n",
      "No listings found on page 20 for price range 410-415.\n",
      "Fetching https://www.domain.com.au/rent/?price=410-415&excludedeposittaken=1&sort=price-asc&state=vic&page=45\n",
      "No listings found on page 33 for price range 410-415.\n",
      "Fetching https://www.domain.com.au/rent/?price=410-415&excludedeposittaken=1&sort=price-asc&state=vic&page=46\n",
      "No listings found on page 30 for price range 410-415.\n",
      "Fetching https://www.domain.com.au/rent/?price=410-415&excludedeposittaken=1&sort=price-asc&state=vic&page=47\n",
      "No listings found on page 28 for price range 410-415.\n",
      "Fetching https://www.domain.com.au/rent/?price=410-415&excludedeposittaken=1&sort=price-asc&state=vic&page=48\n",
      "No listings found on page 25 for price range 410-415.\n",
      "Fetching https://www.domain.com.au/rent/?price=410-415&excludedeposittaken=1&sort=price-asc&state=vic&page=49\n",
      "No listings found on page 31 for price range 410-415.\n",
      "Fetching https://www.domain.com.au/rent/?price=410-415&excludedeposittaken=1&sort=price-asc&state=vic&page=50\n",
      "No listings found on page 22 for price range 410-415.\n",
      "Fetching https://www.domain.com.au/rent/?price=415-420&excludedeposittaken=1&sort=price-asc&state=vic&page=1\n",
      "No listings found on page 35 for price range 410-415.\n",
      "Fetching https://www.domain.com.au/rent/?price=415-420&excludedeposittaken=1&sort=price-asc&state=vic&page=2\n",
      "No listings found on page 38 for price range 410-415.\n",
      "Fetching https://www.domain.com.au/rent/?price=415-420&excludedeposittaken=1&sort=price-asc&state=vic&page=3\n",
      "No listings found on page 32 for price range 410-415.\n",
      "Fetching https://www.domain.com.au/rent/?price=415-420&excludedeposittaken=1&sort=price-asc&state=vic&page=4\n",
      "Fetching https://www.domain.com.au/rent/?price=415-420&excludedeposittaken=1&sort=price-asc&state=vic&page=5\n",
      "No listings found on page 37 for price range 410-415.\n",
      "Fetching https://www.domain.com.au/rent/?price=415-420&excludedeposittaken=1&sort=price-asc&state=vic&page=6\n",
      "No listings found on page 40 for price range 410-415.\n",
      "Fetching https://www.domain.com.au/rent/?price=415-420&excludedeposittaken=1&sort=price-asc&state=vic&page=7\n",
      "No listings found on page 42 for price range 410-415.\n",
      "Fetching https://www.domain.com.au/rent/?price=415-420&excludedeposittaken=1&sort=price-asc&state=vic&page=8\n",
      "No listings found on page 39 for price range 410-415.\n",
      "Fetching https://www.domain.com.au/rent/?price=415-420&excludedeposittaken=1&sort=price-asc&state=vic&page=9\n",
      "No listings found on page 41 for price range 410-415.\n",
      "Fetching https://www.domain.com.au/rent/?price=415-420&excludedeposittaken=1&sort=price-asc&state=vic&page=10\n",
      "No listings found on page 43 for price range 410-415.\n",
      "Fetching https://www.domain.com.au/rent/?price=415-420&excludedeposittaken=1&sort=price-asc&state=vic&page=11\n",
      "No listings found on page 44 for price range 410-415.\n",
      "Fetching https://www.domain.com.au/rent/?price=415-420&excludedeposittaken=1&sort=price-asc&state=vic&page=12\n",
      "No listings found on page 45 for price range 410-415.\n",
      "Fetching https://www.domain.com.au/rent/?price=415-420&excludedeposittaken=1&sort=price-asc&state=vic&page=13\n",
      "No listings found on page 47 for price range 410-415.\n",
      "Fetching https://www.domain.com.au/rent/?price=415-420&excludedeposittaken=1&sort=price-asc&state=vic&page=14\n",
      "No listings found on page 49 for price range 410-415.\n",
      "Fetching https://www.domain.com.au/rent/?price=415-420&excludedeposittaken=1&sort=price-asc&state=vic&page=15\n",
      "No listings found on page 46 for price range 410-415.\n",
      "Fetching https://www.domain.com.au/rent/?price=415-420&excludedeposittaken=1&sort=price-asc&state=vic&page=16\n",
      "No listings found on page 50 for price range 410-415.\n",
      "Fetching https://www.domain.com.au/rent/?price=415-420&excludedeposittaken=1&sort=price-asc&state=vic&page=17\n",
      "Fetching https://www.domain.com.au/rent/?price=415-420&excludedeposittaken=1&sort=price-asc&state=vic&page=18\n",
      "No listings found on page 36 for price range 410-415.\n",
      "Fetching https://www.domain.com.au/rent/?price=415-420&excludedeposittaken=1&sort=price-asc&state=vic&page=19\n",
      "No listings found on page 48 for price range 410-415.\n",
      "Fetching https://www.domain.com.au/rent/?price=415-420&excludedeposittaken=1&sort=price-asc&state=vic&page=20\n",
      "No listings found on page 34 for price range 410-415.\n",
      "Fetching https://www.domain.com.au/rent/?price=415-420&excludedeposittaken=1&sort=price-asc&state=vic&page=21\n",
      "Fetching https://www.domain.com.au/rent/?price=415-420&excludedeposittaken=1&sort=price-asc&state=vic&page=22\n",
      "Fetching https://www.domain.com.au/rent/?price=415-420&excludedeposittaken=1&sort=price-asc&state=vic&page=23\n",
      "Fetching https://www.domain.com.au/rent/?price=415-420&excludedeposittaken=1&sort=price-asc&state=vic&page=24\n",
      "No listings found on page 16 for price range 415-420.\n",
      "Fetching https://www.domain.com.au/rent/?price=415-420&excludedeposittaken=1&sort=price-asc&state=vic&page=25\n",
      "Fetching https://www.domain.com.au/rent/?price=415-420&excludedeposittaken=1&sort=price-asc&state=vic&page=26\n",
      "No listings found on page 17 for price range 415-420.\n",
      "Fetching https://www.domain.com.au/rent/?price=415-420&excludedeposittaken=1&sort=price-asc&state=vic&page=27\n",
      "No listings found on page 18 for price range 415-420.\n",
      "Fetching https://www.domain.com.au/rent/?price=415-420&excludedeposittaken=1&sort=price-asc&state=vic&page=28\n",
      "No listings found on page 15 for price range 415-420.\n",
      "Fetching https://www.domain.com.au/rent/?price=415-420&excludedeposittaken=1&sort=price-asc&state=vic&page=29\n",
      "Fetching https://www.domain.com.au/rent/?price=415-420&excludedeposittaken=1&sort=price-asc&state=vic&page=30\n",
      "No listings found on page 19 for price range 415-420.\n",
      "Fetching https://www.domain.com.au/rent/?price=415-420&excludedeposittaken=1&sort=price-asc&state=vic&page=31\n",
      "Fetching https://www.domain.com.au/rent/?price=415-420&excludedeposittaken=1&sort=price-asc&state=vic&page=32\n",
      "No listings found on page 20 for price range 415-420.\n",
      "Fetching https://www.domain.com.au/rent/?price=415-420&excludedeposittaken=1&sort=price-asc&state=vic&page=33\n",
      "Fetching https://www.domain.com.au/rent/?price=415-420&excludedeposittaken=1&sort=price-asc&state=vic&page=34\n",
      "Fetching https://www.domain.com.au/rent/?price=415-420&excludedeposittaken=1&sort=price-asc&state=vic&page=35\n",
      "No listings found on page 21 for price range 415-420.\n",
      "Fetching https://www.domain.com.au/rent/?price=415-420&excludedeposittaken=1&sort=price-asc&state=vic&page=36\n",
      "No listings found on page 23 for price range 415-420.\n",
      "Fetching https://www.domain.com.au/rent/?price=415-420&excludedeposittaken=1&sort=price-asc&state=vic&page=37\n",
      "No listings found on page 24 for price range 415-420.\n",
      "Fetching https://www.domain.com.au/rent/?price=415-420&excludedeposittaken=1&sort=price-asc&state=vic&page=38\n",
      "No listings found on page 25 for price range 415-420.\n",
      "Fetching https://www.domain.com.au/rent/?price=415-420&excludedeposittaken=1&sort=price-asc&state=vic&page=39\n",
      "No listings found on page 27 for price range 415-420.\n",
      "Fetching https://www.domain.com.au/rent/?price=415-420&excludedeposittaken=1&sort=price-asc&state=vic&page=40\n",
      "No listings found on page 26 for price range 415-420.\n",
      "Fetching https://www.domain.com.au/rent/?price=415-420&excludedeposittaken=1&sort=price-asc&state=vic&page=41\n",
      "No listings found on page 28 for price range 415-420.\n",
      "Fetching https://www.domain.com.au/rent/?price=415-420&excludedeposittaken=1&sort=price-asc&state=vic&page=42\n",
      "Fetching https://www.domain.com.au/rent/?price=415-420&excludedeposittaken=1&sort=price-asc&state=vic&page=43\n",
      "Fetching https://www.domain.com.au/rent/?price=415-420&excludedeposittaken=1&sort=price-asc&state=vic&page=44\n",
      "No listings found on page 30 for price range 415-420.\n",
      "Fetching https://www.domain.com.au/rent/?price=415-420&excludedeposittaken=1&sort=price-asc&state=vic&page=45\n",
      "No listings found on page 29 for price range 415-420.\n",
      "Fetching https://www.domain.com.au/rent/?price=415-420&excludedeposittaken=1&sort=price-asc&state=vic&page=46\n",
      "No listings found on page 33 for price range 415-420.\n",
      "Fetching https://www.domain.com.au/rent/?price=415-420&excludedeposittaken=1&sort=price-asc&state=vic&page=47\n",
      "No listings found on page 35 for price range 415-420.\n",
      "Fetching https://www.domain.com.au/rent/?price=415-420&excludedeposittaken=1&sort=price-asc&state=vic&page=48\n",
      "No listings found on page 32 for price range 415-420.\n",
      "Fetching https://www.domain.com.au/rent/?price=415-420&excludedeposittaken=1&sort=price-asc&state=vic&page=49\n",
      "No listings found on page 38 for price range 415-420.\n",
      "Fetching https://www.domain.com.au/rent/?price=415-420&excludedeposittaken=1&sort=price-asc&state=vic&page=50\n",
      "No listings found on page 31 for price range 415-420.\n",
      "Fetching https://www.domain.com.au/rent/?price=420-425&excludedeposittaken=1&sort=price-asc&state=vic&page=1\n",
      "No listings found on page 22 for price range 415-420.\n",
      "Fetching https://www.domain.com.au/rent/?price=420-425&excludedeposittaken=1&sort=price-asc&state=vic&page=2\n",
      "Fetching https://www.domain.com.au/rent/?price=420-425&excludedeposittaken=1&sort=price-asc&state=vic&page=3\n",
      "Fetching https://www.domain.com.au/rent/?price=420-425&excludedeposittaken=1&sort=price-asc&state=vic&page=4\n",
      "No listings found on page 36 for price range 415-420.\n",
      "Fetching https://www.domain.com.au/rent/?price=420-425&excludedeposittaken=1&sort=price-asc&state=vic&page=5\n",
      "No listings found on page 42 for price range 415-420.\n",
      "Fetching https://www.domain.com.au/rent/?price=420-425&excludedeposittaken=1&sort=price-asc&state=vic&page=6\n",
      "No listings found on page 43 for price range 415-420.\n",
      "Fetching https://www.domain.com.au/rent/?price=420-425&excludedeposittaken=1&sort=price-asc&state=vic&page=7\n",
      "No listings found on page 45 for price range 415-420.\n",
      "Fetching https://www.domain.com.au/rent/?price=420-425&excludedeposittaken=1&sort=price-asc&state=vic&page=8\n",
      "No listings found on page 49 for price range 415-420.\n",
      "Fetching https://www.domain.com.au/rent/?price=420-425&excludedeposittaken=1&sort=price-asc&state=vic&page=9\n",
      "No listings found on page 44 for price range 415-420.\n",
      "Fetching https://www.domain.com.au/rent/?price=420-425&excludedeposittaken=1&sort=price-asc&state=vic&page=10\n",
      "No listings found on page 50 for price range 415-420.\n",
      "Fetching https://www.domain.com.au/rent/?price=420-425&excludedeposittaken=1&sort=price-asc&state=vic&page=11\n",
      "No listings found on page 47 for price range 415-420.\n",
      "Fetching https://www.domain.com.au/rent/?price=420-425&excludedeposittaken=1&sort=price-asc&state=vic&page=12\n",
      "No listings found on page 48 for price range 415-420.\n",
      "Fetching https://www.domain.com.au/rent/?price=420-425&excludedeposittaken=1&sort=price-asc&state=vic&page=13\n",
      "No listings found on page 40 for price range 415-420.\n",
      "Fetching https://www.domain.com.au/rent/?price=420-425&excludedeposittaken=1&sort=price-asc&state=vic&page=14\n",
      "No listings found on page 34 for price range 415-420.\n",
      "Fetching https://www.domain.com.au/rent/?price=420-425&excludedeposittaken=1&sort=price-asc&state=vic&page=15\n",
      "Fetching https://www.domain.com.au/rent/?price=420-425&excludedeposittaken=1&sort=price-asc&state=vic&page=16\n",
      "Fetching https://www.domain.com.au/rent/?price=420-425&excludedeposittaken=1&sort=price-asc&state=vic&page=17\n",
      "Fetching https://www.domain.com.au/rent/?price=420-425&excludedeposittaken=1&sort=price-asc&state=vic&page=18\n",
      "No listings found on page 37 for price range 415-420.\n",
      "Fetching https://www.domain.com.au/rent/?price=420-425&excludedeposittaken=1&sort=price-asc&state=vic&page=19\n",
      "No listings found on page 46 for price range 415-420.\n",
      "Fetching https://www.domain.com.au/rent/?price=420-425&excludedeposittaken=1&sort=price-asc&state=vic&page=20\n",
      "Fetching https://www.domain.com.au/rent/?price=420-425&excludedeposittaken=1&sort=price-asc&state=vic&page=21\n",
      "No listings found on page 39 for price range 415-420.\n",
      "Fetching https://www.domain.com.au/rent/?price=420-425&excludedeposittaken=1&sort=price-asc&state=vic&page=22\n",
      "Fetching https://www.domain.com.au/rent/?price=420-425&excludedeposittaken=1&sort=price-asc&state=vic&page=23\n",
      "Fetching https://www.domain.com.au/rent/?price=420-425&excludedeposittaken=1&sort=price-asc&state=vic&page=24\n",
      "No listings found on page 41 for price range 415-420.\n",
      "Fetching https://www.domain.com.au/rent/?price=420-425&excludedeposittaken=1&sort=price-asc&state=vic&page=25\n",
      "No listings found on page 16 for price range 420-425.\n",
      "Fetching https://www.domain.com.au/rent/?price=420-425&excludedeposittaken=1&sort=price-asc&state=vic&page=26\n",
      "Fetching https://www.domain.com.au/rent/?price=420-425&excludedeposittaken=1&sort=price-asc&state=vic&page=27\n",
      "No listings found on page 24 for price range 420-425.\n",
      "Fetching https://www.domain.com.au/rent/?price=420-425&excludedeposittaken=1&sort=price-asc&state=vic&page=28\n",
      "No listings found on page 15 for price range 420-425.\n",
      "Fetching https://www.domain.com.au/rent/?price=420-425&excludedeposittaken=1&sort=price-asc&state=vic&page=29\n",
      "No listings found on page 21 for price range 420-425.\n",
      "Fetching https://www.domain.com.au/rent/?price=420-425&excludedeposittaken=1&sort=price-asc&state=vic&page=30\n",
      "No listings found on page 19 for price range 420-425.\n",
      "Fetching https://www.domain.com.au/rent/?price=420-425&excludedeposittaken=1&sort=price-asc&state=vic&page=31\n",
      "No listings found on page 20 for price range 420-425.\n",
      "Fetching https://www.domain.com.au/rent/?price=420-425&excludedeposittaken=1&sort=price-asc&state=vic&page=32\n",
      "No listings found on page 18 for price range 420-425.\n",
      "Fetching https://www.domain.com.au/rent/?price=420-425&excludedeposittaken=1&sort=price-asc&state=vic&page=33\n",
      "No listings found on page 22 for price range 420-425.\n",
      "Fetching https://www.domain.com.au/rent/?price=420-425&excludedeposittaken=1&sort=price-asc&state=vic&page=34\n",
      "No listings found on page 17 for price range 420-425.\n",
      "Fetching https://www.domain.com.au/rent/?price=420-425&excludedeposittaken=1&sort=price-asc&state=vic&page=35\n",
      "Fetching https://www.domain.com.au/rent/?price=420-425&excludedeposittaken=1&sort=price-asc&state=vic&page=36\n",
      "No listings found on page 26 for price range 420-425.\n",
      "Fetching https://www.domain.com.au/rent/?price=420-425&excludedeposittaken=1&sort=price-asc&state=vic&page=37\n",
      "Fetching https://www.domain.com.au/rent/?price=420-425&excludedeposittaken=1&sort=price-asc&state=vic&page=38\n",
      "No listings found on page 27 for price range 420-425.\n",
      "Fetching https://www.domain.com.au/rent/?price=420-425&excludedeposittaken=1&sort=price-asc&state=vic&page=39\n",
      "No listings found on page 29 for price range 420-425.\n",
      "Fetching https://www.domain.com.au/rent/?price=420-425&excludedeposittaken=1&sort=price-asc&state=vic&page=40\n",
      "No listings found on page 25 for price range 420-425.\n",
      "Fetching https://www.domain.com.au/rent/?price=420-425&excludedeposittaken=1&sort=price-asc&state=vic&page=41\n",
      "No listings found on page 23 for price range 420-425.\n",
      "Fetching https://www.domain.com.au/rent/?price=420-425&excludedeposittaken=1&sort=price-asc&state=vic&page=42\n",
      "Fetching https://www.domain.com.au/rent/?price=420-425&excludedeposittaken=1&sort=price-asc&state=vic&page=43\n",
      "Fetching https://www.domain.com.au/rent/?price=420-425&excludedeposittaken=1&sort=price-asc&state=vic&page=44\n",
      "No listings found on page 30 for price range 420-425.\n",
      "Fetching https://www.domain.com.au/rent/?price=420-425&excludedeposittaken=1&sort=price-asc&state=vic&page=45\n",
      "No listings found on page 28 for price range 420-425.\n",
      "Fetching https://www.domain.com.au/rent/?price=420-425&excludedeposittaken=1&sort=price-asc&state=vic&page=46\n",
      "No listings found on page 36 for price range 420-425.\n",
      "Fetching https://www.domain.com.au/rent/?price=420-425&excludedeposittaken=1&sort=price-asc&state=vic&page=47\n",
      "No listings found on page 33 for price range 420-425.\n",
      "Fetching https://www.domain.com.au/rent/?price=420-425&excludedeposittaken=1&sort=price-asc&state=vic&page=48\n",
      "No listings found on page 31 for price range 420-425.\n",
      "Fetching https://www.domain.com.au/rent/?price=420-425&excludedeposittaken=1&sort=price-asc&state=vic&page=49\n",
      "No listings found on page 35 for price range 420-425.\n",
      "Fetching https://www.domain.com.au/rent/?price=420-425&excludedeposittaken=1&sort=price-asc&state=vic&page=50\n",
      "Fetching https://www.domain.com.au/rent/?price=425-430&excludedeposittaken=1&sort=price-asc&state=vic&page=1\n",
      "Fetching https://www.domain.com.au/rent/?price=425-430&excludedeposittaken=1&sort=price-asc&state=vic&page=2\n",
      "No listings found on page 32 for price range 420-425.\n",
      "Fetching https://www.domain.com.au/rent/?price=425-430&excludedeposittaken=1&sort=price-asc&state=vic&page=3\n",
      "No listings found on page 34 for price range 420-425.\n",
      "Fetching https://www.domain.com.au/rent/?price=425-430&excludedeposittaken=1&sort=price-asc&state=vic&page=4\n",
      "No listings found on page 42 for price range 420-425.\n",
      "Fetching https://www.domain.com.au/rent/?price=425-430&excludedeposittaken=1&sort=price-asc&state=vic&page=5\n",
      "No listings found on page 38 for price range 420-425.\n",
      "Fetching https://www.domain.com.au/rent/?price=425-430&excludedeposittaken=1&sort=price-asc&state=vic&page=6\n",
      "No listings found on page 37 for price range 420-425.\n",
      "Fetching https://www.domain.com.au/rent/?price=425-430&excludedeposittaken=1&sort=price-asc&state=vic&page=7\n",
      "No listings found on page 39 for price range 420-425.\n",
      "Fetching https://www.domain.com.au/rent/?price=425-430&excludedeposittaken=1&sort=price-asc&state=vic&page=8\n",
      "No listings found on page 40 for price range 420-425.\n",
      "Fetching https://www.domain.com.au/rent/?price=425-430&excludedeposittaken=1&sort=price-asc&state=vic&page=9\n",
      "No listings found on page 43 for price range 420-425.\n",
      "Fetching https://www.domain.com.au/rent/?price=425-430&excludedeposittaken=1&sort=price-asc&state=vic&page=10\n",
      "No listings found on page 44 for price range 420-425.\n",
      "Fetching https://www.domain.com.au/rent/?price=425-430&excludedeposittaken=1&sort=price-asc&state=vic&page=11\n",
      "Fetching https://www.domain.com.au/rent/?price=425-430&excludedeposittaken=1&sort=price-asc&state=vic&page=12\n",
      "Fetching https://www.domain.com.au/rent/?price=425-430&excludedeposittaken=1&sort=price-asc&state=vic&page=13\n",
      "No listings found on page 50 for price range 420-425.\n",
      "Fetching https://www.domain.com.au/rent/?price=425-430&excludedeposittaken=1&sort=price-asc&state=vic&page=14\n",
      "No listings found on page 47 for price range 420-425.\n",
      "Fetching https://www.domain.com.au/rent/?price=425-430&excludedeposittaken=1&sort=price-asc&state=vic&page=15\n",
      "No listings found on page 46 for price range 420-425.\n",
      "Fetching https://www.domain.com.au/rent/?price=425-430&excludedeposittaken=1&sort=price-asc&state=vic&page=16\n",
      "No listings found on page 49 for price range 420-425.\n",
      "Fetching https://www.domain.com.au/rent/?price=425-430&excludedeposittaken=1&sort=price-asc&state=vic&page=17\n",
      "No listings found on page 48 for price range 420-425.\n",
      "Fetching https://www.domain.com.au/rent/?price=425-430&excludedeposittaken=1&sort=price-asc&state=vic&page=18\n",
      "No listings found on page 45 for price range 420-425.\n",
      "Fetching https://www.domain.com.au/rent/?price=425-430&excludedeposittaken=1&sort=price-asc&state=vic&page=19\n",
      "Fetching https://www.domain.com.au/rent/?price=425-430&excludedeposittaken=1&sort=price-asc&state=vic&page=20\n",
      "Fetching https://www.domain.com.au/rent/?price=425-430&excludedeposittaken=1&sort=price-asc&state=vic&page=21\n",
      "Fetching https://www.domain.com.au/rent/?price=425-430&excludedeposittaken=1&sort=price-asc&state=vic&page=22\n",
      "No listings found on page 15 for price range 425-430.\n",
      "Fetching https://www.domain.com.au/rent/?price=425-430&excludedeposittaken=1&sort=price-asc&state=vic&page=23\n",
      "Fetching https://www.domain.com.au/rent/?price=425-430&excludedeposittaken=1&sort=price-asc&state=vic&page=24\n",
      "Fetching https://www.domain.com.au/rent/?price=425-430&excludedeposittaken=1&sort=price-asc&state=vic&page=25\n",
      "No listings found on page 41 for price range 420-425.\n",
      "Fetching https://www.domain.com.au/rent/?price=425-430&excludedeposittaken=1&sort=price-asc&state=vic&page=26\n",
      "No listings found on page 19 for price range 425-430.\n",
      "Fetching https://www.domain.com.au/rent/?price=425-430&excludedeposittaken=1&sort=price-asc&state=vic&page=27\n",
      "No listings found on page 14 for price range 425-430.\n",
      "Fetching https://www.domain.com.au/rent/?price=425-430&excludedeposittaken=1&sort=price-asc&state=vic&page=28\n",
      "No listings found on page 17 for price range 425-430.\n",
      "Fetching https://www.domain.com.au/rent/?price=425-430&excludedeposittaken=1&sort=price-asc&state=vic&page=29\n",
      "Fetching https://www.domain.com.au/rent/?price=425-430&excludedeposittaken=1&sort=price-asc&state=vic&page=30\n",
      "No listings found on page 21 for price range 425-430.\n",
      "Fetching https://www.domain.com.au/rent/?price=425-430&excludedeposittaken=1&sort=price-asc&state=vic&page=31\n",
      "No listings found on page 18 for price range 425-430.\n",
      "Fetching https://www.domain.com.au/rent/?price=425-430&excludedeposittaken=1&sort=price-asc&state=vic&page=32\n",
      "No listings found on page 16 for price range 425-430.\n",
      "Fetching https://www.domain.com.au/rent/?price=425-430&excludedeposittaken=1&sort=price-asc&state=vic&page=33\n",
      "Fetching https://www.domain.com.au/rent/?price=425-430&excludedeposittaken=1&sort=price-asc&state=vic&page=34\n",
      "Fetching https://www.domain.com.au/rent/?price=425-430&excludedeposittaken=1&sort=price-asc&state=vic&page=35\n",
      "No listings found on page 23 for price range 425-430.\n",
      "Fetching https://www.domain.com.au/rent/?price=425-430&excludedeposittaken=1&sort=price-asc&state=vic&page=36\n",
      "No listings found on page 13 for price range 425-430.\n",
      "Fetching https://www.domain.com.au/rent/?price=425-430&excludedeposittaken=1&sort=price-asc&state=vic&page=37\n",
      "No listings found on page 20 for price range 425-430.\n",
      "Fetching https://www.domain.com.au/rent/?price=425-430&excludedeposittaken=1&sort=price-asc&state=vic&page=38\n",
      "No listings found on page 22 for price range 425-430.\n",
      "Fetching https://www.domain.com.au/rent/?price=425-430&excludedeposittaken=1&sort=price-asc&state=vic&page=39\n",
      "Fetching https://www.domain.com.au/rent/?price=425-430&excludedeposittaken=1&sort=price-asc&state=vic&page=40\n",
      "Fetching https://www.domain.com.au/rent/?price=425-430&excludedeposittaken=1&sort=price-asc&state=vic&page=41\n",
      "Fetching https://www.domain.com.au/rent/?price=425-430&excludedeposittaken=1&sort=price-asc&state=vic&page=42\n",
      "No listings found on page 32 for price range 425-430.\n",
      "Fetching https://www.domain.com.au/rent/?price=425-430&excludedeposittaken=1&sort=price-asc&state=vic&page=43\n",
      "No listings found on page 27 for price range 425-430.\n",
      "Fetching https://www.domain.com.au/rent/?price=425-430&excludedeposittaken=1&sort=price-asc&state=vic&page=44\n",
      "No listings found on page 24 for price range 425-430.\n",
      "Fetching https://www.domain.com.au/rent/?price=425-430&excludedeposittaken=1&sort=price-asc&state=vic&page=45\n",
      "No listings found on page 35 for price range 425-430.\n",
      "Fetching https://www.domain.com.au/rent/?price=425-430&excludedeposittaken=1&sort=price-asc&state=vic&page=46\n",
      "No listings found on page 33 for price range 425-430.\n",
      "Fetching https://www.domain.com.au/rent/?price=425-430&excludedeposittaken=1&sort=price-asc&state=vic&page=47\n",
      "No listings found on page 34 for price range 425-430.\n",
      "Fetching https://www.domain.com.au/rent/?price=425-430&excludedeposittaken=1&sort=price-asc&state=vic&page=48\n",
      "No listings found on page 26 for price range 425-430.\n",
      "Fetching https://www.domain.com.au/rent/?price=425-430&excludedeposittaken=1&sort=price-asc&state=vic&page=49\n",
      "No listings found on page 28 for price range 425-430.\n",
      "Fetching https://www.domain.com.au/rent/?price=425-430&excludedeposittaken=1&sort=price-asc&state=vic&page=50\n",
      "No listings found on page 30 for price range 425-430.\n",
      "Fetching https://www.domain.com.au/rent/?price=430-435&excludedeposittaken=1&sort=price-asc&state=vic&page=1\n",
      "No listings found on page 25 for price range 425-430.\n",
      "Fetching https://www.domain.com.au/rent/?price=430-435&excludedeposittaken=1&sort=price-asc&state=vic&page=2\n",
      "No listings found on page 38 for price range 425-430.\n",
      "Fetching https://www.domain.com.au/rent/?price=430-435&excludedeposittaken=1&sort=price-asc&state=vic&page=3\n",
      "No listings found on page 29 for price range 425-430.\n",
      "Fetching https://www.domain.com.au/rent/?price=430-435&excludedeposittaken=1&sort=price-asc&state=vic&page=4\n",
      "No listings found on page 42 for price range 425-430.\n",
      "Fetching https://www.domain.com.au/rent/?price=430-435&excludedeposittaken=1&sort=price-asc&state=vic&page=5\n",
      "No listings found on page 40 for price range 425-430.\n",
      "Fetching https://www.domain.com.au/rent/?price=430-435&excludedeposittaken=1&sort=price-asc&state=vic&page=6\n",
      "No listings found on page 31 for price range 425-430.\n",
      "Fetching https://www.domain.com.au/rent/?price=430-435&excludedeposittaken=1&sort=price-asc&state=vic&page=7\n",
      "No listings found on page 39 for price range 425-430.\n",
      "Fetching https://www.domain.com.au/rent/?price=430-435&excludedeposittaken=1&sort=price-asc&state=vic&page=8\n",
      "No listings found on page 36 for price range 425-430.\n",
      "Fetching https://www.domain.com.au/rent/?price=430-435&excludedeposittaken=1&sort=price-asc&state=vic&page=9\n",
      "No listings found on page 41 for price range 425-430.\n",
      "Fetching https://www.domain.com.au/rent/?price=430-435&excludedeposittaken=1&sort=price-asc&state=vic&page=10\n",
      "No listings found on page 37 for price range 425-430.\n",
      "Fetching https://www.domain.com.au/rent/?price=430-435&excludedeposittaken=1&sort=price-asc&state=vic&page=11\n",
      "No listings found on page 44 for price range 425-430.\n",
      "Fetching https://www.domain.com.au/rent/?price=430-435&excludedeposittaken=1&sort=price-asc&state=vic&page=12\n",
      "No listings found on page 43 for price range 425-430.\n",
      "Fetching https://www.domain.com.au/rent/?price=430-435&excludedeposittaken=1&sort=price-asc&state=vic&page=13\n",
      "No listings found on page 46 for price range 425-430.\n",
      "Fetching https://www.domain.com.au/rent/?price=430-435&excludedeposittaken=1&sort=price-asc&state=vic&page=14\n",
      "No listings found on page 50 for price range 425-430.\n",
      "Fetching https://www.domain.com.au/rent/?price=430-435&excludedeposittaken=1&sort=price-asc&state=vic&page=15\n",
      "No listings found on page 48 for price range 425-430.\n",
      "Fetching https://www.domain.com.au/rent/?price=430-435&excludedeposittaken=1&sort=price-asc&state=vic&page=16\n",
      "Fetching https://www.domain.com.au/rent/?price=430-435&excludedeposittaken=1&sort=price-asc&state=vic&page=17\n",
      "Fetching https://www.domain.com.au/rent/?price=430-435&excludedeposittaken=1&sort=price-asc&state=vic&page=18\n",
      "Fetching https://www.domain.com.au/rent/?price=430-435&excludedeposittaken=1&sort=price-asc&state=vic&page=19\n",
      "No listings found on page 15 for price range 430-435.\n",
      "Fetching https://www.domain.com.au/rent/?price=430-435&excludedeposittaken=1&sort=price-asc&state=vic&page=20\n",
      "No listings found on page 14 for price range 430-435.\n",
      "Fetching https://www.domain.com.au/rent/?price=430-435&excludedeposittaken=1&sort=price-asc&state=vic&page=21\n",
      "No listings found on page 13 for price range 430-435.\n",
      "Fetching https://www.domain.com.au/rent/?price=430-435&excludedeposittaken=1&sort=price-asc&state=vic&page=22\n",
      "No listings found on page 16 for price range 430-435.\n",
      "Fetching https://www.domain.com.au/rent/?price=430-435&excludedeposittaken=1&sort=price-asc&state=vic&page=23\n",
      "No listings found on page 45 for price range 425-430.\n",
      "Fetching https://www.domain.com.au/rent/?price=430-435&excludedeposittaken=1&sort=price-asc&state=vic&page=24\n",
      "No listings found on page 47 for price range 425-430.\n",
      "Fetching https://www.domain.com.au/rent/?price=430-435&excludedeposittaken=1&sort=price-asc&state=vic&page=25\n",
      "Fetching https://www.domain.com.au/rent/?price=430-435&excludedeposittaken=1&sort=price-asc&state=vic&page=26\n",
      "Fetching https://www.domain.com.au/rent/?price=430-435&excludedeposittaken=1&sort=price-asc&state=vic&page=27\n",
      "Fetching https://www.domain.com.au/rent/?price=430-435&excludedeposittaken=1&sort=price-asc&state=vic&page=28\n",
      "No listings found on page 18 for price range 430-435.\n",
      "Fetching https://www.domain.com.au/rent/?price=430-435&excludedeposittaken=1&sort=price-asc&state=vic&page=29\n",
      "No listings found on page 17 for price range 430-435.\n",
      "Fetching https://www.domain.com.au/rent/?price=430-435&excludedeposittaken=1&sort=price-asc&state=vic&page=30\n",
      "Fetching https://www.domain.com.au/rent/?price=430-435&excludedeposittaken=1&sort=price-asc&state=vic&page=31\n",
      "No listings found on page 22 for price range 430-435.\n",
      "Fetching https://www.domain.com.au/rent/?price=430-435&excludedeposittaken=1&sort=price-asc&state=vic&page=32\n",
      "No listings found on page 49 for price range 425-430.\n",
      "Fetching https://www.domain.com.au/rent/?price=430-435&excludedeposittaken=1&sort=price-asc&state=vic&page=33\n",
      "Fetching https://www.domain.com.au/rent/?price=430-435&excludedeposittaken=1&sort=price-asc&state=vic&page=34\n",
      "No listings found on page 21 for price range 430-435.\n",
      "Fetching https://www.domain.com.au/rent/?price=430-435&excludedeposittaken=1&sort=price-asc&state=vic&page=35\n",
      "No listings found on page 20 for price range 430-435.\n",
      "Fetching https://www.domain.com.au/rent/?price=430-435&excludedeposittaken=1&sort=price-asc&state=vic&page=36\n",
      "No listings found on page 24 for price range 430-435.\n",
      "Fetching https://www.domain.com.au/rent/?price=430-435&excludedeposittaken=1&sort=price-asc&state=vic&page=37\n",
      "No listings found on page 26 for price range 430-435.\n",
      "Fetching https://www.domain.com.au/rent/?price=430-435&excludedeposittaken=1&sort=price-asc&state=vic&page=38\n",
      "No listings found on page 23 for price range 430-435.\n",
      "Fetching https://www.domain.com.au/rent/?price=430-435&excludedeposittaken=1&sort=price-asc&state=vic&page=39\n",
      "No listings found on page 25 for price range 430-435.\n",
      "Fetching https://www.domain.com.au/rent/?price=430-435&excludedeposittaken=1&sort=price-asc&state=vic&page=40\n",
      "No listings found on page 19 for price range 430-435.\n",
      "Fetching https://www.domain.com.au/rent/?price=430-435&excludedeposittaken=1&sort=price-asc&state=vic&page=41\n",
      "No listings found on page 28 for price range 430-435.\n",
      "Fetching https://www.domain.com.au/rent/?price=430-435&excludedeposittaken=1&sort=price-asc&state=vic&page=42\n",
      "No listings found on page 31 for price range 430-435.\n",
      "Fetching https://www.domain.com.au/rent/?price=430-435&excludedeposittaken=1&sort=price-asc&state=vic&page=43\n",
      "Fetching https://www.domain.com.au/rent/?price=430-435&excludedeposittaken=1&sort=price-asc&state=vic&page=44\n",
      "No listings found on page 30 for price range 430-435.\n",
      "Fetching https://www.domain.com.au/rent/?price=430-435&excludedeposittaken=1&sort=price-asc&state=vic&page=45\n",
      "Fetching https://www.domain.com.au/rent/?price=430-435&excludedeposittaken=1&sort=price-asc&state=vic&page=46\n",
      "No listings found on page 27 for price range 430-435.\n",
      "Fetching https://www.domain.com.au/rent/?price=430-435&excludedeposittaken=1&sort=price-asc&state=vic&page=47\n",
      "Fetching https://www.domain.com.au/rent/?price=430-435&excludedeposittaken=1&sort=price-asc&state=vic&page=48\n",
      "Fetching https://www.domain.com.au/rent/?price=430-435&excludedeposittaken=1&sort=price-asc&state=vic&page=49\n",
      "No listings found on page 29 for price range 430-435.\n",
      "Fetching https://www.domain.com.au/rent/?price=430-435&excludedeposittaken=1&sort=price-asc&state=vic&page=50\n",
      "No listings found on page 32 for price range 430-435.\n",
      "Fetching https://www.domain.com.au/rent/?price=435-440&excludedeposittaken=1&sort=price-asc&state=vic&page=1\n",
      "Fetching https://www.domain.com.au/rent/?price=435-440&excludedeposittaken=1&sort=price-asc&state=vic&page=2\n",
      "No listings found on page 37 for price range 430-435.\n",
      "Fetching https://www.domain.com.au/rent/?price=435-440&excludedeposittaken=1&sort=price-asc&state=vic&page=3\n",
      "No listings found on page 33 for price range 430-435.\n",
      "Fetching https://www.domain.com.au/rent/?price=435-440&excludedeposittaken=1&sort=price-asc&state=vic&page=4\n",
      "No listings found on page 36 for price range 430-435.\n",
      "Fetching https://www.domain.com.au/rent/?price=435-440&excludedeposittaken=1&sort=price-asc&state=vic&page=5\n",
      "No listings found on page 38 for price range 430-435.\n",
      "Fetching https://www.domain.com.au/rent/?price=435-440&excludedeposittaken=1&sort=price-asc&state=vic&page=6\n",
      "No listings found on page 39 for price range 430-435.\n",
      "Fetching https://www.domain.com.au/rent/?price=435-440&excludedeposittaken=1&sort=price-asc&state=vic&page=7\n",
      "No listings found on page 34 for price range 430-435.\n",
      "Fetching https://www.domain.com.au/rent/?price=435-440&excludedeposittaken=1&sort=price-asc&state=vic&page=8\n",
      "No listings found on page 41 for price range 430-435.\n",
      "Fetching https://www.domain.com.au/rent/?price=435-440&excludedeposittaken=1&sort=price-asc&state=vic&page=9\n",
      "No listings found on page 40 for price range 430-435.\n",
      "Fetching https://www.domain.com.au/rent/?price=435-440&excludedeposittaken=1&sort=price-asc&state=vic&page=10\n",
      "No listings found on page 35 for price range 430-435.\n",
      "Fetching https://www.domain.com.au/rent/?price=435-440&excludedeposittaken=1&sort=price-asc&state=vic&page=11\n",
      "No listings found on page 43 for price range 430-435.\n",
      "Fetching https://www.domain.com.au/rent/?price=435-440&excludedeposittaken=1&sort=price-asc&state=vic&page=12\n",
      "No listings found on page 50 for price range 430-435.\n",
      "Fetching https://www.domain.com.au/rent/?price=435-440&excludedeposittaken=1&sort=price-asc&state=vic&page=13\n",
      "No listings found on page 49 for price range 430-435.\n",
      "Fetching https://www.domain.com.au/rent/?price=435-440&excludedeposittaken=1&sort=price-asc&state=vic&page=14\n",
      "No listings found on page 47 for price range 430-435.\n",
      "Fetching https://www.domain.com.au/rent/?price=435-440&excludedeposittaken=1&sort=price-asc&state=vic&page=15\n",
      "No listings found on page 42 for price range 430-435.\n",
      "Fetching https://www.domain.com.au/rent/?price=435-440&excludedeposittaken=1&sort=price-asc&state=vic&page=16\n",
      "No listings found on page 45 for price range 430-435.\n",
      "Fetching https://www.domain.com.au/rent/?price=435-440&excludedeposittaken=1&sort=price-asc&state=vic&page=17\n",
      "No listings found on page 46 for price range 430-435.\n",
      "Fetching https://www.domain.com.au/rent/?price=435-440&excludedeposittaken=1&sort=price-asc&state=vic&page=18\n",
      "No listings found on page 48 for price range 430-435.\n",
      "Fetching https://www.domain.com.au/rent/?price=435-440&excludedeposittaken=1&sort=price-asc&state=vic&page=19\n",
      "No listings found on page 16 for price range 435-440.\n",
      "Fetching https://www.domain.com.au/rent/?price=435-440&excludedeposittaken=1&sort=price-asc&state=vic&page=20\n",
      "Fetching https://www.domain.com.au/rent/?price=435-440&excludedeposittaken=1&sort=price-asc&state=vic&page=21\n",
      "No listings found on page 14 for price range 435-440.\n",
      "Fetching https://www.domain.com.au/rent/?price=435-440&excludedeposittaken=1&sort=price-asc&state=vic&page=22\n",
      "No listings found on page 15 for price range 435-440.\n",
      "Fetching https://www.domain.com.au/rent/?price=435-440&excludedeposittaken=1&sort=price-asc&state=vic&page=23\n",
      "Fetching https://www.domain.com.au/rent/?price=435-440&excludedeposittaken=1&sort=price-asc&state=vic&page=24\n",
      "No listings found on page 13 for price range 435-440.\n",
      "Fetching https://www.domain.com.au/rent/?price=435-440&excludedeposittaken=1&sort=price-asc&state=vic&page=25\n",
      "Fetching https://www.domain.com.au/rent/?price=435-440&excludedeposittaken=1&sort=price-asc&state=vic&page=26\n",
      "Fetching https://www.domain.com.au/rent/?price=435-440&excludedeposittaken=1&sort=price-asc&state=vic&page=27\n",
      "Fetching https://www.domain.com.au/rent/?price=435-440&excludedeposittaken=1&sort=price-asc&state=vic&page=28\n",
      "Fetching https://www.domain.com.au/rent/?price=435-440&excludedeposittaken=1&sort=price-asc&state=vic&page=29\n",
      "No listings found on page 17 for price range 435-440.\n",
      "Fetching https://www.domain.com.au/rent/?price=435-440&excludedeposittaken=1&sort=price-asc&state=vic&page=30\n",
      "No listings found on page 19 for price range 435-440.\n",
      "Fetching https://www.domain.com.au/rent/?price=435-440&excludedeposittaken=1&sort=price-asc&state=vic&page=31\n",
      "Fetching https://www.domain.com.au/rent/?price=435-440&excludedeposittaken=1&sort=price-asc&state=vic&page=32\n",
      "Fetching https://www.domain.com.au/rent/?price=435-440&excludedeposittaken=1&sort=price-asc&state=vic&page=33\n",
      "No listings found on page 24 for price range 435-440.\n",
      "Fetching https://www.domain.com.au/rent/?price=435-440&excludedeposittaken=1&sort=price-asc&state=vic&page=34\n",
      "Fetching https://www.domain.com.au/rent/?price=435-440&excludedeposittaken=1&sort=price-asc&state=vic&page=35\n",
      "No listings found on page 23 for price range 435-440.\n",
      "Fetching https://www.domain.com.au/rent/?price=435-440&excludedeposittaken=1&sort=price-asc&state=vic&page=36\n",
      "No listings found on page 18 for price range 435-440.\n",
      "Fetching https://www.domain.com.au/rent/?price=435-440&excludedeposittaken=1&sort=price-asc&state=vic&page=37\n",
      "No listings found on page 27 for price range 435-440.\n",
      "Fetching https://www.domain.com.au/rent/?price=435-440&excludedeposittaken=1&sort=price-asc&state=vic&page=38\n",
      "No listings found on page 25 for price range 435-440.\n",
      "Fetching https://www.domain.com.au/rent/?price=435-440&excludedeposittaken=1&sort=price-asc&state=vic&page=39\n",
      "No listings found on page 21 for price range 435-440.\n",
      "Fetching https://www.domain.com.au/rent/?price=435-440&excludedeposittaken=1&sort=price-asc&state=vic&page=40\n",
      "No listings found on page 20 for price range 435-440.\n",
      "Fetching https://www.domain.com.au/rent/?price=435-440&excludedeposittaken=1&sort=price-asc&state=vic&page=41\n",
      "No listings found on page 22 for price range 435-440.\n",
      "Fetching https://www.domain.com.au/rent/?price=435-440&excludedeposittaken=1&sort=price-asc&state=vic&page=42\n",
      "No listings found on page 29 for price range 435-440.\n",
      "Fetching https://www.domain.com.au/rent/?price=435-440&excludedeposittaken=1&sort=price-asc&state=vic&page=43\n",
      "No listings found on page 30 for price range 435-440.\n",
      "Fetching https://www.domain.com.au/rent/?price=435-440&excludedeposittaken=1&sort=price-asc&state=vic&page=44\n",
      "Fetching https://www.domain.com.au/rent/?price=435-440&excludedeposittaken=1&sort=price-asc&state=vic&page=45\n",
      "No listings found on page 28 for price range 435-440.\n",
      "Fetching https://www.domain.com.au/rent/?price=435-440&excludedeposittaken=1&sort=price-asc&state=vic&page=46\n",
      "Fetching https://www.domain.com.au/rent/?price=435-440&excludedeposittaken=1&sort=price-asc&state=vic&page=47\n",
      "No listings found on page 33 for price range 435-440.\n",
      "Fetching https://www.domain.com.au/rent/?price=435-440&excludedeposittaken=1&sort=price-asc&state=vic&page=48\n",
      "Fetching https://www.domain.com.au/rent/?price=435-440&excludedeposittaken=1&sort=price-asc&state=vic&page=49\n",
      "No listings found on page 35 for price range 435-440.\n",
      "Fetching https://www.domain.com.au/rent/?price=435-440&excludedeposittaken=1&sort=price-asc&state=vic&page=50\n",
      "No listings found on page 31 for price range 435-440.\n",
      "Fetching https://www.domain.com.au/rent/?price=440-445&excludedeposittaken=1&sort=price-asc&state=vic&page=1\n",
      "No listings found on page 26 for price range 435-440.\n",
      "Fetching https://www.domain.com.au/rent/?price=440-445&excludedeposittaken=1&sort=price-asc&state=vic&page=2\n",
      "No listings found on page 34 for price range 435-440.\n",
      "Fetching https://www.domain.com.au/rent/?price=440-445&excludedeposittaken=1&sort=price-asc&state=vic&page=3\n",
      "No listings found on page 44 for price range 430-435.\n",
      "Fetching https://www.domain.com.au/rent/?price=440-445&excludedeposittaken=1&sort=price-asc&state=vic&page=4\n",
      "No listings found on page 40 for price range 435-440.\n",
      "Fetching https://www.domain.com.au/rent/?price=440-445&excludedeposittaken=1&sort=price-asc&state=vic&page=5\n",
      "No listings found on page 42 for price range 435-440.\n",
      "Fetching https://www.domain.com.au/rent/?price=440-445&excludedeposittaken=1&sort=price-asc&state=vic&page=6\n",
      "No listings found on page 36 for price range 435-440.\n",
      "Fetching https://www.domain.com.au/rent/?price=440-445&excludedeposittaken=1&sort=price-asc&state=vic&page=7\n",
      "No listings found on page 38 for price range 435-440.\n",
      "Fetching https://www.domain.com.au/rent/?price=440-445&excludedeposittaken=1&sort=price-asc&state=vic&page=8\n",
      "No listings found on page 46 for price range 435-440.\n",
      "Fetching https://www.domain.com.au/rent/?price=440-445&excludedeposittaken=1&sort=price-asc&state=vic&page=9\n",
      "No listings found on page 43 for price range 435-440.\n",
      "Fetching https://www.domain.com.au/rent/?price=440-445&excludedeposittaken=1&sort=price-asc&state=vic&page=10\n",
      "No listings found on page 44 for price range 435-440.\n",
      "Fetching https://www.domain.com.au/rent/?price=440-445&excludedeposittaken=1&sort=price-asc&state=vic&page=11\n"
     ]
    }
   ],
   "source": [
    "# Generating all links\n",
    "url_links = generate_url_list(BASE_URL)"
   ]
  },
  {
   "cell_type": "code",
   "execution_count": null,
   "metadata": {},
   "outputs": [
    {
     "name": "stdout",
     "output_type": "stream",
     "text": [
      "13823\n"
     ]
    }
   ],
   "source": [
    "# Checking we have the correct number of properties\n",
    "print(len(url_links))"
   ]
  },
  {
   "cell_type": "markdown",
   "metadata": {},
   "source": [
    "2. Fetching The Data From Each Of The URLs "
   ]
  },
  {
   "cell_type": "code",
   "execution_count": null,
   "metadata": {},
   "outputs": [
    {
     "name": "stderr",
     "output_type": "stream",
     "text": [
      "  6%|▌         | 794/13823 [01:56<26:10,  8.30it/s]  "
     ]
    },
    {
     "name": "stdout",
     "output_type": "stream",
     "text": [
      "Issue with https://www.domain.com.au/3-jean-street-lalor-vic-3075-17181912: 'NoneType' object has no attribute 'find'\n"
     ]
    },
    {
     "name": "stderr",
     "output_type": "stream",
     "text": [
      " 23%|██▎       | 3177/13823 [08:16<30:00,  5.91it/s]"
     ]
    },
    {
     "name": "stdout",
     "output_type": "stream",
     "text": [
      "Issue with https://www.domain.com.au/22-200-wattletree-road-malvern-vic-3144-17185487: 'NoneType' object has no attribute 'text'\n"
     ]
    },
    {
     "name": "stderr",
     "output_type": "stream",
     "text": [
      " 37%|███▋      | 5145/13823 [12:54<15:56,  9.07it/s]  "
     ]
    },
    {
     "name": "stdout",
     "output_type": "stream",
     "text": [
      "Issue with https://www.domain.com.au/2601-65-dudley-street-west-melbourne-vic-3003-15760997: 'NoneType' object has no attribute 'find'\n"
     ]
    },
    {
     "name": "stderr",
     "output_type": "stream",
     "text": [
      " 46%|████▌     | 6348/13823 [15:23<16:09,  7.71it/s]"
     ]
    },
    {
     "name": "stdout",
     "output_type": "stream",
     "text": [
      "Issue with https://www.domain.com.au/226-shoreline-drive-golden-beach-vic-3851-16718849: 'NoneType' object has no attribute 'find'\n"
     ]
    },
    {
     "name": "stderr",
     "output_type": "stream",
     "text": [
      " 62%|██████▏   | 8544/13823 [20:45<18:05,  4.86it/s]  "
     ]
    },
    {
     "name": "stdout",
     "output_type": "stream",
     "text": [
      "Issue with https://www.domain.com.au/2-mylson-avenue-broadford-vic-3658-17187643: 'NoneType' object has no attribute 'find'\n"
     ]
    },
    {
     "name": "stderr",
     "output_type": "stream",
     "text": [
      " 70%|███████   | 9739/13823 [23:55<13:40,  4.98it/s]"
     ]
    },
    {
     "name": "stdout",
     "output_type": "stream",
     "text": [
      "Issue with https://www.domain.com.au/116-300-victoria-street-brunswick-vic-3056-16183098: 'NoneType' object has no attribute 'text'\n"
     ]
    },
    {
     "name": "stderr",
     "output_type": "stream",
     "text": [
      " 72%|███████▏  | 9975/13823 [24:31<07:26,  8.61it/s]"
     ]
    },
    {
     "name": "stdout",
     "output_type": "stream",
     "text": [
      "Issue with https://www.domain.com.au/30-leger-street-manor-lakes-vic-3024-17182455: 'NoneType' object has no attribute 'text'\n",
      "Issue with https://www.domain.com.au/5-2-elata-street-oakleigh-south-vic-3167-17176641: 'NoneType' object has no attribute 'text'\n"
     ]
    },
    {
     "name": "stderr",
     "output_type": "stream",
     "text": [
      " 72%|███████▏  | 9979/13823 [24:32<07:33,  8.47it/s]"
     ]
    },
    {
     "name": "stdout",
     "output_type": "stream",
     "text": [
      "Issue with https://www.domain.com.au/3-devon-court-mount-martha-vic-3934-17168700: 'NoneType' object has no attribute 'text'\n"
     ]
    },
    {
     "name": "stderr",
     "output_type": "stream",
     "text": [
      " 81%|████████▏ | 11248/13823 [27:48<06:22,  6.74it/s]"
     ]
    },
    {
     "name": "stdout",
     "output_type": "stream",
     "text": [
      "Issue with https://www.domain.com.au/21-nyah-st-keilor-east-vic-3033-17078424: 'NoneType' object has no attribute 'find'\n"
     ]
    },
    {
     "name": "stderr",
     "output_type": "stream",
     "text": [
      "100%|██████████| 13823/13823 [33:22<00:00,  6.90it/s]\n"
     ]
    }
   ],
   "source": [
    "# Scraping all data\n",
    "rental_data = fetch_all_rental_data(url_links)"
   ]
  },
  {
   "cell_type": "code",
   "execution_count": 14,
   "metadata": {},
   "outputs": [
    {
     "ename": "NameError",
     "evalue": "name 'LANDING_PATH' is not defined",
     "output_type": "error",
     "traceback": [
      "\u001b[0;31m---------------------------------------------------------------------------\u001b[0m",
      "\u001b[0;31mNameError\u001b[0m                                 Traceback (most recent call last)",
      "Cell \u001b[0;32mIn[14], line 2\u001b[0m\n\u001b[1;32m      1\u001b[0m \u001b[38;5;66;03m# Creates the directory for the rental data if it doesn't exist\u001b[39;00m\n\u001b[0;32m----> 2\u001b[0m \u001b[38;5;28;01mif\u001b[39;00m \u001b[38;5;129;01mnot\u001b[39;00m os\u001b[38;5;241m.\u001b[39mpath\u001b[38;5;241m.\u001b[39mexists(\u001b[38;5;124mf\u001b[39m\u001b[38;5;124m\"\u001b[39m\u001b[38;5;124m../\u001b[39m\u001b[38;5;132;01m{\u001b[39;00m\u001b[43mLANDING_PATH\u001b[49m\u001b[38;5;132;01m}\u001b[39;00m\u001b[38;5;124m\"\u001b[39m):\n\u001b[1;32m      3\u001b[0m     os\u001b[38;5;241m.\u001b[39mmakedirs(\u001b[38;5;124mf\u001b[39m\u001b[38;5;124m\"\u001b[39m\u001b[38;5;124m../\u001b[39m\u001b[38;5;132;01m{\u001b[39;00mLANDING_PATH\u001b[38;5;132;01m}\u001b[39;00m\u001b[38;5;124m\"\u001b[39m)\n\u001b[1;32m      5\u001b[0m \u001b[38;5;66;03m# Save the data in the data/landing directory\u001b[39;00m\n",
      "\u001b[0;31mNameError\u001b[0m: name 'LANDING_PATH' is not defined"
     ]
    }
   ],
   "source": [
    "# Creates the directory for the rental data if it doesn't exist\n",
    "if not os.path.exists(f\"../{LANDING_PATH}\"):\n",
    "    os.makedirs(f\"../{LANDING_PATH}\")\n",
    "\n",
    "# Save the data in the data/landing directory\n",
    "with open(f'../{LANDING_PATH}/all_properties_metadata.json', 'w') as f:\n",
    "    dump(rental_data, f)\n",
    "    print(f\"File saved in the {LANDING_PATH} directory\")"
   ]
  },
  {
   "cell_type": "markdown",
   "metadata": {},
   "source": [
    "### *oldlisting.com* Rental Data Scrape"
   ]
  },
  {
   "cell_type": "code",
   "execution_count": null,
   "metadata": {},
   "outputs": [],
   "source": [
    "# Get postcode data:\n",
    "scrape_postcodes(url=\"https://www.onlymelbourne.com.au/melbourne-postcodes\")"
   ]
  },
  {
   "cell_type": "markdown",
   "metadata": {},
   "source": [
    "Don't run the following 2 chunks, oldlistings.com has changed since and have been commented out"
   ]
  },
  {
   "cell_type": "code",
   "execution_count": null,
   "metadata": {},
   "outputs": [],
   "source": [
    "#get_oldlisting_data()"
   ]
  },
  {
   "cell_type": "markdown",
   "metadata": {},
   "source": [
    "Run this function iteratively, until website has been scraped "
   ]
  },
  {
   "cell_type": "code",
   "execution_count": null,
   "metadata": {},
   "outputs": [],
   "source": [
    "# Run this function iteratively to scrape additional listings until website has been scraped \n",
    "#get_remaining_oldlisting_data()"
   ]
  },
  {
   "cell_type": "markdown",
   "metadata": {},
   "source": [
    "### Scraping Additional Data"
   ]
  },
  {
   "cell_type": "markdown",
   "metadata": {},
   "source": [
    "* SA2 Districts in Victoria shapefile"
   ]
  },
  {
   "cell_type": "code",
   "execution_count": 4,
   "metadata": {},
   "outputs": [],
   "source": [
    "get_zip(url=\"https://www.abs.gov.au/statistics/standards/australian-statistical-geography-standard-asgs-edition-3/jul2021-jun2026/access-and-downloads/digital-boundary-files/SA2_2021_AUST_SHP_GDA2020.zip\", \n",
    "        output_dir = '../data/landing/SA2/SA2')"
   ]
  },
  {
   "cell_type": "markdown",
   "metadata": {},
   "source": [
    "* Suburbs shapefile"
   ]
  },
  {
   "cell_type": "code",
   "execution_count": 5,
   "metadata": {},
   "outputs": [],
   "source": [
    "get_zip(url='https://www.abs.gov.au/statistics/standards/australian-statistical-geography-standard-asgs-edition-3/jul2021-jun2026/access-and-downloads/digital-boundary-files/SAL_2021_AUST_GDA2020_SHP.zip',\n",
    "        output_dir='../data/landing/SAL_2021_AUST_GDA2020_SHP')"
   ]
  },
  {
   "cell_type": "markdown",
   "metadata": {},
   "source": [
    "* Historical Population by SA2 district"
   ]
  },
  {
   "cell_type": "code",
   "execution_count": 6,
   "metadata": {},
   "outputs": [],
   "source": [
    "get_zip(url='https://www.abs.gov.au/statistics/people/population/regional-population/2022-23/32180_ERP_2023_SA2_GDA2020.zip',\n",
    "        output_dir='../data/landing/population/population')"
   ]
  },
  {
   "cell_type": "markdown",
   "metadata": {},
   "source": [
    "* Victorian Homelessness data"
   ]
  },
  {
   "cell_type": "code",
   "execution_count": 7,
   "metadata": {},
   "outputs": [
    {
     "name": "stdout",
     "output_type": "stream",
     "text": [
      "Data successfully written to ../data/landing/homelessness/homelessness21\n"
     ]
    }
   ],
   "source": [
    "# 2021\n",
    "get_xlsx(url='https://www.abs.gov.au/statistics/people/housing/estimating-homelessness-census/2021/20490do005_2021.xlsx', \n",
    "         output_dir='../data/landing/homelessness/homelessness21')"
   ]
  },
  {
   "cell_type": "code",
   "execution_count": 8,
   "metadata": {},
   "outputs": [
    {
     "name": "stdout",
     "output_type": "stream",
     "text": [
      "Data successfully written to ../data/landing/homelessness/homelessness16\n"
     ]
    }
   ],
   "source": [
    "# 2016\n",
    "get_xlsx(url='https://www.abs.gov.au/statistics/people/housing/estimating-homelessness-census/2016/20490do005_2016.xls', \n",
    "         output_dir='../data/landing/homelessness/homelessness16')"
   ]
  },
  {
   "cell_type": "code",
   "execution_count": 9,
   "metadata": {},
   "outputs": [
    {
     "name": "stdout",
     "output_type": "stream",
     "text": [
      "Data successfully written to ../data/landing/homelessness/homelessness11\n"
     ]
    }
   ],
   "source": [
    "# 2011\n",
    "get_xlsx(url='https://www.abs.gov.au/ausstats/subscriber.nsf/log?openagent&20490_2011%20statistical%20area%20level%202.xls&2049.0&Data%20Cubes&62A1E2D9A1BE3660CA257C4600154B66&0&2011&20.12.2013&Latest', \n",
    "         output_dir='../data/landing/homelessness/homelessness11')"
   ]
  },
  {
   "cell_type": "markdown",
   "metadata": {},
   "source": [
    "* Socio-economic Indexes per SA2 district"
   ]
  },
  {
   "cell_type": "code",
   "execution_count": 10,
   "metadata": {},
   "outputs": [
    {
     "name": "stdout",
     "output_type": "stream",
     "text": [
      "Data successfully written to ../data/landing/socioeconomic/socioeconomic21\n"
     ]
    }
   ],
   "source": [
    "# 2021\n",
    "get_xlsx(url='https://www.abs.gov.au/statistics/people/people-and-communities/socio-economic-indexes-areas-seifa-australia/2021/Statistical%20Area%20Level%202%2C%20Indexes%2C%20SEIFA%202021.xlsx', \n",
    "         output_dir='../data/landing/socioeconomic/socioeconomic21')"
   ]
  },
  {
   "cell_type": "code",
   "execution_count": 11,
   "metadata": {},
   "outputs": [
    {
     "name": "stdout",
     "output_type": "stream",
     "text": [
      "Data successfully written to ../data/landing/socioeconomic/socioeconomic16\n"
     ]
    }
   ],
   "source": [
    "# 2016\n",
    "get_xlsx(url='https://www.abs.gov.au/ausstats/subscriber.nsf/log?openagent&2033055001%20-%20sa2%20indexes.xls&2033.0.55.001&Data%20Cubes&C9F7AD36397CB43DCA25825D000F917C&0&2016&27.03.2018&Latest', \n",
    "         output_dir='../data/landing/socioeconomic/socioeconomic16')"
   ]
  },
  {
   "cell_type": "code",
   "execution_count": 12,
   "metadata": {},
   "outputs": [
    {
     "name": "stdout",
     "output_type": "stream",
     "text": [
      "Data successfully written to ../data/landing/socioeconomic/socioeconomic11\n"
     ]
    }
   ],
   "source": [
    "# 2011\n",
    "get_xlsx(url='https://www.abs.gov.au/AUSSTATS/subscriber.nsf/log?openagent&2033.0.55.001%20SA2%20Indexes.xls&2033.0.55.001&Data%20Cubes&76D0BC44356DC34ACA257B3B001A4913&0&2011&12.11.2014&Latest', \n",
    "         output_dir='../data/landing/socioeconomic/socioeconomic11')"
   ]
  },
  {
   "cell_type": "markdown",
   "metadata": {},
   "source": [
    "* 5-Yearly Projected Population size per SA2 district"
   ]
  },
  {
   "cell_type": "code",
   "execution_count": 16,
   "metadata": {},
   "outputs": [
    {
     "name": "stdout",
     "output_type": "stream",
     "text": [
      "Data successfully written to ../data/landing/5yearpopproj_perSA2\n"
     ]
    }
   ],
   "source": [
    "get_xlsx(url=\"https://www.planning.vic.gov.au/__data/assets/excel_doc/0036/691659/VIF2023_SA2_Pop_Age_Sex_Projections_to_2036_Release_2.xlsx\", \n",
    "         output_dir=f\"../{LANDING_PATH}/5yearpopproj_perSA2\")\n"
   ]
  },
  {
   "cell_type": "markdown",
   "metadata": {},
   "source": [
    "* Yearly Projected Population size per SA2 district"
   ]
  },
  {
   "cell_type": "code",
   "execution_count": 17,
   "metadata": {},
   "outputs": [
    {
     "name": "stdout",
     "output_type": "stream",
     "text": [
      "Data successfully written to ../data/landing/yearly_pop_projection_perSA.csv\n"
     ]
    }
   ],
   "source": [
    "get_xlsx(url=\"https://www.gen-agedcaredata.gov.au/getmedia/564291d5-8e25-4b2e-90e6-171f554cfce9/Victoria.csv\", \n",
    "         output_dir=f\"../{LANDING_PATH}/yearly_pop_projection_perSA.csv\", \n",
    "         headers={\"User-Agent\":\n",
    "           \"Mozilla/5.0 (Macintosh; Intel Mac OS X 10_15_7) AppleWebKit/537.36 (KHTML, like Gecko) Chrome/128.0.0.0 Safari/537.36\"})\n"
   ]
  },
  {
   "cell_type": "markdown",
   "metadata": {},
   "source": [
    "* Melbourne Inflation data"
   ]
  },
  {
   "cell_type": "code",
   "execution_count": 18,
   "metadata": {},
   "outputs": [
    {
     "name": "stdout",
     "output_type": "stream",
     "text": [
      "Data successfully written to ../data/landing/inflation/inflation\n"
     ]
    }
   ],
   "source": [
    "get_xlsx(url='https://www.abs.gov.au/statistics/economy/price-indexes-and-inflation/consumer-price-index-australia/jun-quarter-2024/640107.xlsx', \n",
    "         output_dir='../data/landing/inflation/inflation')"
   ]
  },
  {
   "cell_type": "markdown",
   "metadata": {},
   "source": [
    "* Population Distribution Data"
   ]
  },
  {
   "cell_type": "code",
   "execution_count": 19,
   "metadata": {},
   "outputs": [
    {
     "name": "stdout",
     "output_type": "stream",
     "text": [
      "Data successfully written to ../data/landing/population_dist/population_dist\n"
     ]
    }
   ],
   "source": [
    "get_xlsx(url='https://www.abs.gov.au/methodologies/data-region-methodology/2011-23/14100DO0001_2011-23.xlsx', \n",
    "         output_dir='../data/landing/population_dist/population_dist')"
   ]
  },
  {
   "cell_type": "markdown",
   "metadata": {},
   "source": [
    "* Business Data"
   ]
  },
  {
   "cell_type": "code",
   "execution_count": 20,
   "metadata": {},
   "outputs": [
    {
     "name": "stdout",
     "output_type": "stream",
     "text": [
      "Data successfully written to ../data/landing/business/business\n"
     ]
    }
   ],
   "source": [
    "get_xlsx(url='https://www.abs.gov.au/methodologies/data-region-methodology/2011-23/14100DO0003_2011-23.xlsx', \n",
    "         output_dir='../data/landing/business/business')"
   ]
  },
  {
   "cell_type": "markdown",
   "metadata": {},
   "source": [
    "* Income Data"
   ]
  },
  {
   "cell_type": "code",
   "execution_count": 21,
   "metadata": {},
   "outputs": [
    {
     "name": "stdout",
     "output_type": "stream",
     "text": [
      "Data successfully written to ../data/landing/income/income\n"
     ]
    }
   ],
   "source": [
    "get_xlsx(url='https://www.abs.gov.au/methodologies/data-region-methodology/2011-23/14100DO0004_2011-23.xlsx', \n",
    "         output_dir='../data/landing/income/income')"
   ]
  },
  {
   "cell_type": "markdown",
   "metadata": {},
   "source": [
    "* Unemployment Data"
   ]
  },
  {
   "cell_type": "code",
   "execution_count": 22,
   "metadata": {},
   "outputs": [
    {
     "name": "stdout",
     "output_type": "stream",
     "text": [
      "Data successfully written to ../data/landing/unemployment/unemployment\n"
     ]
    }
   ],
   "source": [
    "get_xlsx(url='https://www.abs.gov.au/methodologies/data-region-methodology/2011-23/14100DO0005_2011-23.xlsx', \n",
    "         output_dir='../data/landing/unemployment/unemployment')"
   ]
  },
  {
   "cell_type": "markdown",
   "metadata": {},
   "source": [
    "* Community Data"
   ]
  },
  {
   "cell_type": "code",
   "execution_count": 23,
   "metadata": {},
   "outputs": [
    {
     "name": "stdout",
     "output_type": "stream",
     "text": [
      "Data successfully written to ../data/landing/community/community\n"
     ]
    }
   ],
   "source": [
    "get_xlsx(url='https://www.abs.gov.au/methodologies/data-region-methodology/2011-23/14100DO0007_2011-23.xlsx', \n",
    "         output_dir='../data/landing/community/community')"
   ]
  },
  {
   "cell_type": "markdown",
   "metadata": {},
   "source": [
    "* Crime Data"
   ]
  },
  {
   "cell_type": "code",
   "execution_count": 24,
   "metadata": {},
   "outputs": [
    {
     "name": "stdout",
     "output_type": "stream",
     "text": [
      "Data successfully written to ../data/landing/recorded_offences_data\n"
     ]
    }
   ],
   "source": [
    "get_xlsx(url='https://files.crimestatistics.vic.gov.au/2024-09/Data_Tables_LGA_Recorded_Offences_Year_Ending_June_2024.xlsx',\n",
    "         output_dir='../data/landing/recorded_offences_data')"
   ]
  }
 ],
 "metadata": {
  "kernelspec": {
   "display_name": "Python 3",
   "language": "python",
   "name": "python3"
  },
  "language_info": {
   "codemirror_mode": {
    "name": "ipython",
    "version": 3
   },
   "file_extension": ".py",
   "mimetype": "text/x-python",
   "name": "python",
   "nbconvert_exporter": "python",
   "pygments_lexer": "ipython3",
   "version": "3.10.12"
  }
 },
 "nbformat": 4,
 "nbformat_minor": 2
}
