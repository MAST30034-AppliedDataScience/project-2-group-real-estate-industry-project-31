{
 "cells": [
  {
   "cell_type": "markdown",
   "metadata": {},
   "source": [
    "# Calculating Proximity to Melb CBD"
   ]
  },
  {
   "cell_type": "markdown",
   "metadata": {},
   "source": [
    "- need to change api_key to your api"
   ]
  },
  {
   "cell_type": "code",
   "execution_count": 2,
   "metadata": {},
   "outputs": [],
   "source": [
    "import time\n",
    "from openrouteservice import Client\n",
    "import math\n",
    "import pandas as pd"
   ]
  },
  {
   "cell_type": "code",
   "execution_count": 3,
   "metadata": {},
   "outputs": [],
   "source": [
    "\n",
    "# Initialize OpenRouteService client\n",
    "api_key ='5b3ce3597851110001cf6248fdd0ae85071d43598ef26e7a446a4f78' # PLUG IN YOUR API KEY HERE\n",
    "client = Client(key=api_key)\n",
    "\n",
    "# Define Melbourne CBD coordinates\n",
    "melb_cbd = [144.962646, -37.810272]\n",
    "\n",
    "def calculate_distances_to_cbd(properties, batch_size):\n",
    "    distances_to_cbd = []\n",
    "    num_batches = math.ceil(len(properties) / batch_size)\n",
    "\n",
    "    for i in range(num_batches):\n",
    "        # Get current batch of properties\n",
    "        batch = properties[i * batch_size: (i + 1) * batch_size]\n",
    "        # Create matrix request with properties as sources and Melb CBD as the destination\n",
    "        locations = batch + [melb_cbd]  # Batch properties + CBD point\n",
    "\n",
    "        while True:\n",
    "            try:\n",
    "                # Perform matrix request\n",
    "                response = client.distance_matrix(\n",
    "                    locations=locations,\n",
    "                    profile='driving-car',\n",
    "                    metrics=['distance'],\n",
    "                    sources=list(range(len(batch))),  # Sources: property indices\n",
    "                    destinations=[len(batch)]  # Destination: index of Melb CBD\n",
    "                )\n",
    "\n",
    "                # Extract distances from response (km)\n",
    "                distances = [response['distances'][j][0] / 1000 for j in range(len(batch))]\n",
    "                distances_to_cbd.extend(distances)\n",
    "                break  # Exit the loop if successful\n",
    "\n",
    "            except Exception as e:\n",
    "                print(f\"Error with batch {i+1}: {e}\")\n",
    "                if \"Rate limit exceeded\" in str(e):\n",
    "                    print(\"Rate limit exceeded. Waiting for 60 seconds...\")\n",
    "                    time.sleep(60)  # Wait for a minute before retrying\n",
    "                else:\n",
    "                    distances_to_cbd.extend([None] * len(batch))  # Append None for failed requests\n",
    "                    break  # Exit the loop on other errors\n",
    "\n",
    "        time.sleep(2)  # additional delay between batches\n",
    "\n",
    "    return distances_to_cbd"
   ]
  },
  {
   "cell_type": "markdown",
   "metadata": {},
   "source": [
    "## Running Function on Rental Properties"
   ]
  },
  {
   "cell_type": "markdown",
   "metadata": {},
   "source": [
    "- change domain_df to your df"
   ]
  },
  {
   "cell_type": "code",
   "execution_count": null,
   "metadata": {},
   "outputs": [],
   "source": [
    "# Convert the coordinates column to a list of [longitude, latitude] pairs\n",
    "property_coordinates = domain_df[['longitude', 'latitude']].values.tolist()\n",
    "\n",
    "# Calculate distances\n",
    "distances = calculate_distances_to_cbd(property_coordinates, batch_size=50)\n",
    "\n",
    "# Add the distances as a new column 'dist_cbd' to the original DataFrame\n",
    "domain_df['dist_cbd'] = distances\n",
    "\n",
    "# Display the updated DataFrame with the new column\n",
    "domain_df.head()"
   ]
  },
  {
   "cell_type": "markdown",
   "metadata": {},
   "source": [
    "**Adding CBD Dist. to Oldlistings Greater Melb Data (before preprocessing)**"
   ]
  },
  {
   "cell_type": "code",
   "execution_count": 4,
   "metadata": {},
   "outputs": [],
   "source": [
    "read_dir = '../data/raw/oldlisting/greater_melb_properties_unprocessed.csv'\n",
    "out_dir = '../data/raw/oldlisting/gm_cbd.csv'\n",
    "ol_df = pd.read_csv(read_dir)\n",
    "\n",
    "# Convert the coordinates column to a list of [longitude, latitude] pairs\n",
    "property_coordinates = ol_df[['longitude', 'latitude']].values.tolist()\n",
    "\n",
    "# Calculate distances\n",
    "distances = calculate_distances_to_cbd(property_coordinates, batch_size=50)\n",
    "\n",
    "# Add the distances as a new column 'dist_cbd' to the original DataFrame\n",
    "ol_df['dist_cbd'] = distances\n",
    "\n",
    "# Display the updated DataFrame with the new column\n",
    "ol_df.head()\n",
    "\n",
    "ol_df.to_csv(out_dir)"
   ]
  }
 ],
 "metadata": {
  "kernelspec": {
   "display_name": "Python 3.9.12 ('.venv': venv)",
   "language": "python",
   "name": "python3"
  },
  "language_info": {
   "codemirror_mode": {
    "name": "ipython",
    "version": 3
   },
   "file_extension": ".py",
   "mimetype": "text/x-python",
   "name": "python",
   "nbconvert_exporter": "python",
   "pygments_lexer": "ipython3",
   "version": "3.10.12"
  },
  "orig_nbformat": 4,
  "vscode": {
   "interpreter": {
    "hash": "c120c326cfee09a576d0a5ff18a658a38798363984a1d0eea79d04af089ebf17"
   }
  }
 },
 "nbformat": 4,
 "nbformat_minor": 2
}
