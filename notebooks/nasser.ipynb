{
 "cells": [
  {
   "cell_type": "markdown",
   "metadata": {},
   "source": [
    "### Importing Libraries and Functions"
   ]
  },
  {
   "cell_type": "code",
   "execution_count": 1,
   "metadata": {},
   "outputs": [],
   "source": [
    "import sys\n",
    "sys.path.append(\"../\")\n",
    "import overpy\n",
    "from scripts.amenities_functions import fetch_amenities, get_amenity_distances\n",
    "from scripts.amenities_functions import get_cities, get_dist_to_city\n",
    "import pandas as pd"
   ]
  },
  {
   "cell_type": "markdown",
   "metadata": {},
   "source": [
    "### Accessing Overpass API"
   ]
  },
  {
   "cell_type": "code",
   "execution_count": 2,
   "metadata": {},
   "outputs": [],
   "source": [
    "# Initialize the Overpass API\n",
    "overpass_api = overpy.Overpass()\n"
   ]
  },
  {
   "cell_type": "markdown",
   "metadata": {},
   "source": [
    "### Reading in the datasets"
   ]
  },
  {
   "cell_type": "code",
   "execution_count": 3,
   "metadata": {},
   "outputs": [],
   "source": [
    "# Domain datasets\n",
    "gm_domain_df = pd.read_parquet(\"../data/curated/properties.parquet\")\n",
    "rv_domain_df = pd.read_parquet(\"../data/curated/properties.parquet\")\n",
    "\n",
    "# oldlistings datasets\n",
    "gm_oldlisting_df = pd.read_csv(\"../data/raw/oldlisting/gm_oldlisting.csv\")\n",
    "rv_oldlisting_df = pd.read_csv(\"../data/raw/oldlisting/rv_oldlisting.csv\")"
   ]
  },
  {
   "cell_type": "markdown",
   "metadata": {},
   "source": [
    "### Fetching the Amenities Data"
   ]
  },
  {
   "cell_type": "code",
   "execution_count": 4,
   "metadata": {},
   "outputs": [],
   "source": [
    "# Dictionary storing the queries for different amenities (nodes and ways)\n",
    "queries = {\n",
    "    \"education\": [\"\"\"\n",
    "        node[\"amenity\"=\"kindergarten\"](area.searchArea);\n",
    "        node[\"amenity\"=\"school\"](area.searchArea);\n",
    "    \"\"\", \n",
    "    \"\"\"\n",
    "        way[\"amenity\"=\"kindergarten\"](area.searchArea);\n",
    "        way[\"amenity\"=\"school\"](area.searchArea);\n",
    "    \"\"\"],\n",
    "    \"parks_and_gardens\": [\"\"\"\n",
    "        node[\"leisure\"=\"park\"](area.searchArea);\n",
    "        node[\"leisure\"=\"garden\"](area.searchArea);\n",
    "    \"\"\",\n",
    "    \"\"\"\n",
    "        way[\"leisure\"=\"park\"](area.searchArea);\n",
    "        way[\"leisure\"=\"garden\"](area.searchArea);\n",
    "    \"\"\"],\n",
    "    \"train_station\": [\"\"\"\n",
    "        node[\"railway\"=\"station\"](area.searchArea);\n",
    "    \"\"\", \n",
    "    \"\"\"\n",
    "        way[\"railway\"=\"station\"](area.searchArea);\n",
    "    \"\"\"],\n",
    "    \"shopping\": [\"\"\"\n",
    "        node[\"shop\"=\"supermarket\"](area.searchArea);\n",
    "        node[\"shop\"=\"mall\"](area.searchArea);\n",
    "    \"\"\", \n",
    "    \"\"\"\n",
    "        way[\"shop\"=\"supermarket\"](area.searchArea);\n",
    "        way[\"shop\"=\"mall\"](area.searchArea);\n",
    "    \"\"\"],\n",
    "    \"healthcare\": [\"\"\"\n",
    "        node[\"amenity\"=\"hospital\"](area.searchArea);\n",
    "        node[\"amenity\"=\"clinic\"](area.searchArea);\n",
    "    \"\"\",\n",
    "    \"\"\"\n",
    "        way[\"amenity\"=\"hospital\"](area.searchArea);\n",
    "        way[\"amenity\"=\"clinic\"](area.searchArea);\n",
    "    \"\"\"]\n",
    "}\n"
   ]
  },
  {
   "cell_type": "code",
   "execution_count": 5,
   "metadata": {},
   "outputs": [
    {
     "name": "stdout",
     "output_type": "stream",
     "text": [
      "Successfully fetched data for education\n",
      "Successfully fetched data for parks_and_gardens\n",
      "Successfully fetched data for train_station\n",
      "Successfully fetched data for shopping\n",
      "Successfully fetched data for healthcare\n"
     ]
    }
   ],
   "source": [
    "# Dictionary to store DataFrames for each amenity\n",
    "amenities_dfs = {}\n",
    "\n",
    "# Iterate through the queries and fetch data for each\n",
    "for amenity_type, query in queries.items():\n",
    "    try:\n",
    "        df = fetch_amenities(overpass_api, query[0], query[1])\n",
    "        amenities_dfs[amenity_type] = df\n",
    "        print(f\"Successfully fetched data for {amenity_type}\")\n",
    "    except Exception as e:\n",
    "        print(f\"Error fetching data for {amenity_type}: {e}\")"
   ]
  },
  {
   "cell_type": "code",
   "execution_count": 6,
   "metadata": {},
   "outputs": [
    {
     "data": {
      "text/plain": [
       "{'education':               id                                     name       amenity  \\\n",
       " 0      148544339                        Syndal Pre-School  kindergarten   \n",
       " 1      191834621                       Tally Ho Preschool  kindergarten   \n",
       " 2      207718805                      St Johns Pre-School  kindergarten   \n",
       " 3      246969693             Waverley Foothills Preschool  kindergarten   \n",
       " 4      247169615           Brunswick Crèche & Day Nursery  kindergarten   \n",
       " ...          ...                                      ...           ...   \n",
       " 3475  1315871094  Shine Bright St Margaret's Kindergarten  kindergarten   \n",
       " 3476  1316142653                 St Albans East Preschool  kindergarten   \n",
       " 3477  1318009340             Country Bunch Early Learning  kindergarten   \n",
       " 3478  1318025539                    Montessori Beginnings  kindergarten   \n",
       " 3479  1318235998                   Happy Turtle Childcare  kindergarten   \n",
       " \n",
       "                                  lat                            lon  \n",
       " 0                        -37.8741972                    145.1487815  \n",
       " 1                        -37.8691111                    145.1642861  \n",
       " 2                        -37.8979989                    145.1137432  \n",
       " 3                        -37.9316411                    145.2000972  \n",
       " 4                        -37.7722530                    144.9662900  \n",
       " ...                              ...                            ...  \n",
       " 3475                    -34.19080758                    142.1574592  \n",
       " 3476  -37.74306644285714285714285714  144.8165961571428571428571429  \n",
       " 3477  -34.23471761666666666666666667                   142.18055925  \n",
       " 3478                    -34.22681335                    142.1609060  \n",
       " 3479  -34.20066442222222222222222222  142.1244222555555555555555556  \n",
       " \n",
       " [3480 rows x 5 columns],\n",
       " 'parks_and_gardens':               id                            name amenity  \\\n",
       " 0      356849465                    Hopkins Park    None   \n",
       " 1      530605948                             N/A    None   \n",
       " 2      647402239  Katandra Football Netball Club    None   \n",
       " 3     1466700636                Websters Reserve    None   \n",
       " 4     1623467620                   Azalea Garden    None   \n",
       " ...          ...                             ...     ...   \n",
       " 6520  1317812583        Austral Crescent Reserve    None   \n",
       " 6521  1317812586           Olstead Drive Reserve    None   \n",
       " 6522  1317814542                   Rotaract Park    None   \n",
       " 6523  1317814546           Delepan Drive Reserve    None   \n",
       " 6524  1317837500             Cameron Way Reserve    None   \n",
       " \n",
       "                                  lat                            lon  \n",
       " 0                         28.7894348                    -96.9933204  \n",
       " 1                        -37.8326547                    145.0212610  \n",
       " 2                        -36.2280815                    145.5605266  \n",
       " 3                        -37.7477873                    145.1555882  \n",
       " 4                        -37.5479449                    143.8211099  \n",
       " ...                              ...                            ...  \n",
       " 6520  -38.19663552142857142857142857  145.1454630785714285714285714  \n",
       " 6521                     -38.1963678  145.1538017692307692307692308  \n",
       " 6522                     -38.2564422  145.1878449166666666666666667  \n",
       " 6523  -38.25476975384615384615384615                    145.1846267  \n",
       " 6524  -38.20588621666666666666666667  145.0840440222222222222222222  \n",
       " \n",
       " [6525 rows x 5 columns],\n",
       " 'train_station':              id            name amenity                             lat  \\\n",
       " 0      27071462  Mount Waverley    None                     -37.8752637   \n",
       " 1      27091664     Jordanville    None                     -37.8736635   \n",
       " 2      27123069    East Malvern    None                     -37.8768611   \n",
       " 3      29749085     Mooroolbark    None                     -37.7846970   \n",
       " 4      29764097       Ashburton    None                     -37.8620470   \n",
       " ..          ...             ...     ...                             ...   \n",
       " 346  1215980246   Kangaroo Flat    None  -36.79497101111111111111111111   \n",
       " 347  1237457726   Menzies Creek    None  -37.92083737142857142857142857   \n",
       " 348  1239287414   Greensborough    None  -37.70378220526315789473684211   \n",
       " 349  1257414940        Lilydale    None                     -37.7570911   \n",
       " 350  1289497111       Keon Park    None                     -37.6956968   \n",
       " \n",
       "                                lon  \n",
       " 0                      145.1281258  \n",
       " 1                      145.1122691  \n",
       " 2                      145.0691707  \n",
       " 3                      145.3131856  \n",
       " 4                      145.0812907  \n",
       " ..                             ...  \n",
       " 346  144.2488350111111111111111111  \n",
       " 347  145.4051197857142857142857143  \n",
       " 348  145.1079064421052631578947368  \n",
       " 349                   145.34592348  \n",
       " 350                    145.0117068  \n",
       " \n",
       " [351 rows x 5 columns],\n",
       " 'shopping':               id                 name amenity                             lat  \\\n",
       " 0       32193447                  IGA    None                     -37.2773622   \n",
       " 1      218028470                Coles    None                     -37.7914336   \n",
       " 2      222420863            Foodworks    None                     -37.7889872   \n",
       " 3      247822855  The Old Farm Market    None                      48.4379459   \n",
       " 4      258471456                Coles    None                     -37.8547864   \n",
       " ...          ...                  ...     ...                             ...   \n",
       " 1803  1301257943  Wholefood Merchants    None  -37.88232947777777777777777778   \n",
       " 1804  1301257947  Wholefood Merchants    None  -37.88297507142857142857142857   \n",
       " 1805  1304559313            Foodworks    None                    -37.61043635   \n",
       " 1806  1309186570            Foodworks    None  -38.07932375714285714285714286   \n",
       " 1807  1316654823        Thrifty Foods    None                     48.44509544   \n",
       " \n",
       "                                 lon  \n",
       " 0                       144.7338613  \n",
       " 1                       145.1718422  \n",
       " 2                       144.9760904  \n",
       " 3                      -123.3124029  \n",
       " 4                       145.1826504  \n",
       " ...                             ...  \n",
       " 1803  145.2726682777777777777777778  \n",
       " 1804                    145.2728128  \n",
       " 1805  144.9333654666666666666666667  \n",
       " 1806  145.4505262142857142857142857  \n",
       " 1807                  -123.33842918  \n",
       " \n",
       " [1808 rows x 5 columns],\n",
       " 'healthcare':              id                                          name   amenity  \\\n",
       " 0      27288796                     Waverley Private Hospital  hospital   \n",
       " 1     206200909                          Manangatang Hospital  hospital   \n",
       " 2     262777337                            Peter James Centre  hospital   \n",
       " 3     395212301                         Access Medical Centre    clinic   \n",
       " 4     429184771             Jessie McPherson Private Hospital  hospital   \n",
       " ..          ...                                           ...       ...   \n",
       " 946  1304785462  Campbellfield Maternal & Child Health Centre    clinic   \n",
       " 947  1304826622                    Richmond Specialist Centre    clinic   \n",
       " 948  1304964439    Adult Prevention and Recovery Care (APARC)  hospital   \n",
       " 949  1304969755                           Yarra Ranges Health  hospital   \n",
       " 950  1307631634                            Don Street Medical    clinic   \n",
       " \n",
       "                                 lat                            lon  \n",
       " 0                       -37.8843792                    145.1455722  \n",
       " 1                       -35.0511403                    142.8808925  \n",
       " 2                       -37.8526149                    145.1649491  \n",
       " 3                       -37.8709404                    145.2431489  \n",
       " 4                       -37.9208228                    145.1224428  \n",
       " ..                              ...                            ...  \n",
       " 946                    -37.67542458                   144.96402564  \n",
       " 947  -37.81156081428571428571428571  144.9956853714285714285714286  \n",
       " 948                    -38.14297966                   145.13384752  \n",
       " 949                    -37.75642962                    145.3512619  \n",
       " 950  -36.76175258823529411764705882  144.2693615176470588235294118  \n",
       " \n",
       " [951 rows x 5 columns]}"
      ]
     },
     "execution_count": 6,
     "metadata": {},
     "output_type": "execute_result"
    }
   ],
   "source": [
    "amenities_dfs"
   ]
  },
  {
   "cell_type": "markdown",
   "metadata": {},
   "source": [
    "### Fetching Major City Coordinates in Victoria"
   ]
  },
  {
   "cell_type": "code",
   "execution_count": 7,
   "metadata": {},
   "outputs": [],
   "source": [
    "# Define the query to get major cities within Victoria (place = city or town)\n",
    "query = \"\"\"\n",
    "[out:json];\n",
    "area[name=\"Victoria\"]->.searchArea;\n",
    "(\n",
    "  node[\"place\"=\"city\"](area.searchArea);\n",
    ");\n",
    "out body;\n",
    "\"\"\"\n"
   ]
  },
  {
   "cell_type": "code",
   "execution_count": 8,
   "metadata": {},
   "outputs": [
    {
     "data": {
      "text/html": [
       "<div>\n",
       "<style scoped>\n",
       "    .dataframe tbody tr th:only-of-type {\n",
       "        vertical-align: middle;\n",
       "    }\n",
       "\n",
       "    .dataframe tbody tr th {\n",
       "        vertical-align: top;\n",
       "    }\n",
       "\n",
       "    .dataframe thead th {\n",
       "        text-align: right;\n",
       "    }\n",
       "</style>\n",
       "<table border=\"1\" class=\"dataframe\">\n",
       "  <thead>\n",
       "    <tr style=\"text-align: right;\">\n",
       "      <th></th>\n",
       "      <th>name</th>\n",
       "      <th>place_type</th>\n",
       "      <th>lat</th>\n",
       "      <th>lon</th>\n",
       "    </tr>\n",
       "  </thead>\n",
       "  <tbody>\n",
       "    <tr>\n",
       "      <th>0</th>\n",
       "      <td>Melbourne</td>\n",
       "      <td>city</td>\n",
       "      <td>-37.8142454</td>\n",
       "      <td>144.9631732</td>\n",
       "    </tr>\n",
       "    <tr>\n",
       "      <th>1</th>\n",
       "      <td>Mildura</td>\n",
       "      <td>city</td>\n",
       "      <td>-34.1952740</td>\n",
       "      <td>142.1503146</td>\n",
       "    </tr>\n",
       "    <tr>\n",
       "      <th>2</th>\n",
       "      <td>Bendigo</td>\n",
       "      <td>city</td>\n",
       "      <td>-36.7590183</td>\n",
       "      <td>144.2826718</td>\n",
       "    </tr>\n",
       "    <tr>\n",
       "      <th>3</th>\n",
       "      <td>Geelong</td>\n",
       "      <td>city</td>\n",
       "      <td>-38.1493248</td>\n",
       "      <td>144.3598241</td>\n",
       "    </tr>\n",
       "    <tr>\n",
       "      <th>4</th>\n",
       "      <td>Ballarat</td>\n",
       "      <td>city</td>\n",
       "      <td>-37.5623013</td>\n",
       "      <td>143.8605645</td>\n",
       "    </tr>\n",
       "    <tr>\n",
       "      <th>5</th>\n",
       "      <td>Shepparton</td>\n",
       "      <td>city</td>\n",
       "      <td>-36.3831633</td>\n",
       "      <td>145.3988874</td>\n",
       "    </tr>\n",
       "    <tr>\n",
       "      <th>6</th>\n",
       "      <td>Warrnambool</td>\n",
       "      <td>city</td>\n",
       "      <td>-38.3826242</td>\n",
       "      <td>142.4814199</td>\n",
       "    </tr>\n",
       "    <tr>\n",
       "      <th>7</th>\n",
       "      <td>Traralgon</td>\n",
       "      <td>city</td>\n",
       "      <td>-38.1946636</td>\n",
       "      <td>146.5381646</td>\n",
       "    </tr>\n",
       "    <tr>\n",
       "      <th>8</th>\n",
       "      <td>Wodonga</td>\n",
       "      <td>city</td>\n",
       "      <td>-36.1205539</td>\n",
       "      <td>146.8880837</td>\n",
       "    </tr>\n",
       "  </tbody>\n",
       "</table>\n",
       "</div>"
      ],
      "text/plain": [
       "          name place_type          lat          lon\n",
       "0    Melbourne       city  -37.8142454  144.9631732\n",
       "1      Mildura       city  -34.1952740  142.1503146\n",
       "2      Bendigo       city  -36.7590183  144.2826718\n",
       "3      Geelong       city  -38.1493248  144.3598241\n",
       "4     Ballarat       city  -37.5623013  143.8605645\n",
       "5   Shepparton       city  -36.3831633  145.3988874\n",
       "6  Warrnambool       city  -38.3826242  142.4814199\n",
       "7    Traralgon       city  -38.1946636  146.5381646\n",
       "8      Wodonga       city  -36.1205539  146.8880837"
      ]
     },
     "execution_count": 8,
     "metadata": {},
     "output_type": "execute_result"
    }
   ],
   "source": [
    "# Fetches and saves the cities as a dataframe\n",
    "cities_df = get_cities(overpass_api, query)\n",
    "cities_df.head(10)"
   ]
  },
  {
   "cell_type": "markdown",
   "metadata": {},
   "source": [
    "### Getting Driving Distance to Cities and Amentities"
   ]
  },
  {
   "cell_type": "code",
   "execution_count": 9,
   "metadata": {},
   "outputs": [],
   "source": [
    "# Initialising ORS api_keys list\n",
    "api_keys = ['5b3ce3597851110001cf624842eb8f2652b14c0589793fa6e32db6ba', # Oscar - 2500 limit\n",
    "            '5b3ce3597851110001cf62484999c1f7edce4ac5a072b1c9fb50ffa2', # Nasser - 500 limit\n",
    "            '5b3ce3597851110001cf6248fdd0ae85071d43598ef26e7a446a4f78', # Oscar - 500 limit\n",
    "            '5b3ce3597851110001cf6248c9d76723ef574cf3a8479cd0665e80fa', # Nasser - 2500 limit\n",
    "            '5b3ce3597851110001cf6248f3f1041174014fbba5afd3b9332b778b', # Uma - 2500 limit\n",
    "            '5b3ce3597851110001cf6248c64a6697beff46e1903a7e15a67239ad'  # Laura - 500 limit\n",
    "            '5b3ce3597851110001cf6248250927fcb46d441e9b1560ab5875952d'  # Charlie - 500 limit \n",
    "            ] \n",
    "\n"
   ]
  },
  {
   "cell_type": "markdown",
   "metadata": {},
   "source": [
    "1. Getting all the distances to the Major Cities"
   ]
  },
  {
   "cell_type": "code",
   "execution_count": null,
   "metadata": {},
   "outputs": [],
   "source": [
    "# Greater Melbourne - oldlisting data\n",
    "\n",
    "gm_c_oldlisting_df = get_dist_to_city(gm_oldlisting_df, cities_df, api_keys)\n",
    "gm_c_oldlisting_df.to_csv(\"../data/raw/oldlisting/gm_c_oldlisting.csv\")"
   ]
  },
  {
   "cell_type": "code",
   "execution_count": 117,
   "metadata": {},
   "outputs": [],
   "source": [
    "# Rest of Vic - oldlisting data\n",
    "\n",
    "rv_c_oldlisting_df = get_dist_to_city(rv_oldlisting_df, cities_df, api_keys)\n",
    "rv_c_oldlisting_df.to_csv(\"../data/raw/oldlisting/rv_c_oldlisting.csv\")"
   ]
  },
  {
   "cell_type": "code",
   "execution_count": null,
   "metadata": {},
   "outputs": [],
   "source": [
    "# Greater Melbourne - Domain data\n",
    "\n",
    "gm_c_domain_df = get_dist_to_city(gm_domain_df, cities_df, api_keys)\n",
    "gm_c_domain_df.to_csv(\"../data/raw/domain/gm_c_domain.csv\")"
   ]
  },
  {
   "cell_type": "code",
   "execution_count": 10,
   "metadata": {},
   "outputs": [
    {
     "ename": "KeyboardInterrupt",
     "evalue": "",
     "output_type": "error",
     "traceback": [
      "\u001b[0;31m---------------------------------------------------------------------------\u001b[0m",
      "\u001b[0;31mKeyboardInterrupt\u001b[0m                         Traceback (most recent call last)",
      "Cell \u001b[0;32mIn[10], line 3\u001b[0m\n\u001b[1;32m      1\u001b[0m \u001b[38;5;66;03m# Rest of Vic - Domain data\u001b[39;00m\n\u001b[0;32m----> 3\u001b[0m rv_c_domain_df \u001b[38;5;241m=\u001b[39m \u001b[43mget_dist_to_city\u001b[49m\u001b[43m(\u001b[49m\u001b[43mrv_domain_df\u001b[49m\u001b[43m,\u001b[49m\u001b[43m \u001b[49m\u001b[43mcities_df\u001b[49m\u001b[43m,\u001b[49m\u001b[43m \u001b[49m\u001b[43mapi_keys\u001b[49m\u001b[43m)\u001b[49m\n\u001b[1;32m      4\u001b[0m rv_c_domain_df\u001b[38;5;241m.\u001b[39mto_csv(\u001b[38;5;124m\"\u001b[39m\u001b[38;5;124m../data/raw/domain/rv_c_domain.csv\u001b[39m\u001b[38;5;124m\"\u001b[39m)\n",
      "File \u001b[0;32m/mnt/c/Users/pyrou/Documents/GitHub/project-2-group-real-estate-industry-project-31/notebooks/../scripts/amenities_functions.py:235\u001b[0m, in \u001b[0;36mget_dist_to_city\u001b[0;34m(property_df, cities_df, api_keys)\u001b[0m\n\u001b[1;32m    232\u001b[0m property_df \u001b[38;5;241m=\u001b[39m calculate_closest_amenity(property_df, cities_df)\n\u001b[1;32m    234\u001b[0m \u001b[38;5;66;03m# Step 2: Make batch ORS API calls to get driving distances\u001b[39;00m\n\u001b[0;32m--> 235\u001b[0m distances \u001b[38;5;241m=\u001b[39m \u001b[43mget_batch_distances\u001b[49m\u001b[43m(\u001b[49m\n\u001b[1;32m    236\u001b[0m \u001b[43m    \u001b[49m\u001b[43mproperty_df\u001b[49m\u001b[43m,\u001b[49m\u001b[43m \u001b[49m\n\u001b[1;32m    237\u001b[0m \u001b[43m    \u001b[49m\u001b[43mapi_keys\u001b[49m\u001b[43m,\u001b[49m\u001b[43m \u001b[49m\n\u001b[1;32m    238\u001b[0m \u001b[43m    \u001b[49m\u001b[43mp_lat\u001b[49m\u001b[38;5;241;43m=\u001b[39;49m\u001b[38;5;124;43m'\u001b[39;49m\u001b[38;5;124;43mlatitude\u001b[39;49m\u001b[38;5;124;43m'\u001b[39;49m\u001b[43m,\u001b[49m\u001b[43m \u001b[49m\n\u001b[1;32m    239\u001b[0m \u001b[43m    \u001b[49m\u001b[43mp_lon\u001b[49m\u001b[38;5;241;43m=\u001b[39;49m\u001b[38;5;124;43m'\u001b[39;49m\u001b[38;5;124;43mlongitude\u001b[39;49m\u001b[38;5;124;43m'\u001b[39;49m\u001b[43m,\u001b[49m\u001b[43m \u001b[49m\n\u001b[1;32m    240\u001b[0m \u001b[43m    \u001b[49m\u001b[43ma_lat\u001b[49m\u001b[38;5;241;43m=\u001b[39;49m\u001b[38;5;124;43m'\u001b[39;49m\u001b[38;5;124;43mamenity_lat\u001b[39;49m\u001b[38;5;124;43m'\u001b[39;49m\u001b[43m,\u001b[49m\u001b[43m \u001b[49m\n\u001b[1;32m    241\u001b[0m \u001b[43m    \u001b[49m\u001b[43ma_lon\u001b[49m\u001b[38;5;241;43m=\u001b[39;49m\u001b[38;5;124;43m'\u001b[39;49m\u001b[38;5;124;43mamenity_lon\u001b[39;49m\u001b[38;5;124;43m'\u001b[39;49m\u001b[43m,\u001b[49m\u001b[43m \u001b[49m\n\u001b[1;32m    242\u001b[0m \u001b[43m    \u001b[49m\u001b[43mbatch_size\u001b[49m\u001b[38;5;241;43m=\u001b[39;49m\u001b[38;5;241;43m50\u001b[39;49m\n\u001b[1;32m    243\u001b[0m \u001b[43m\u001b[49m\u001b[43m)\u001b[49m\n\u001b[1;32m    245\u001b[0m \u001b[38;5;66;03m# Step 3: Add the driving distance to the DataFrame with the correct column name\u001b[39;00m\n\u001b[1;32m    246\u001b[0m property_df[\u001b[38;5;124m\"\u001b[39m\u001b[38;5;124mdist_to_city\u001b[39m\u001b[38;5;124m\"\u001b[39m] \u001b[38;5;241m=\u001b[39m distances\n",
      "File \u001b[0;32m/mnt/c/Users/pyrou/Documents/GitHub/project-2-group-real-estate-industry-project-31/notebooks/../scripts/amenities_functions.py:219\u001b[0m, in \u001b[0;36mget_batch_distances\u001b[0;34m(df, api_keys, p_lat, p_lon, a_lat, a_lon, batch_size)\u001b[0m\n\u001b[1;32m    216\u001b[0m         all_distances\u001b[38;5;241m.\u001b[39mextend([\u001b[38;5;28;01mNone\u001b[39;00m] \u001b[38;5;241m*\u001b[39m \u001b[38;5;28mlen\u001b[39m(batch))\n\u001b[1;32m    218\u001b[0m     \u001b[38;5;66;03m# Respect the rate limit by adding a delay between batches\u001b[39;00m\n\u001b[0;32m--> 219\u001b[0m     \u001b[43mtime\u001b[49m\u001b[38;5;241;43m.\u001b[39;49m\u001b[43msleep\u001b[49m\u001b[43m(\u001b[49m\u001b[38;5;241;43m2\u001b[39;49m\u001b[43m)\u001b[49m  \n\u001b[1;32m    221\u001b[0m \u001b[38;5;28;01mreturn\u001b[39;00m all_distances\n",
      "\u001b[0;31mKeyboardInterrupt\u001b[0m: "
     ]
    }
   ],
   "source": [
    "# Rest of Vic - Domain data\n",
    "\n",
    "rv_c_domain_df = get_dist_to_city(rv_domain_df, cities_df, api_keys)\n",
    "rv_c_domain_df.to_csv(\"../data/raw/domain/rv_c_domain.csv\")"
   ]
  },
  {
   "cell_type": "markdown",
   "metadata": {},
   "source": [
    "2. Getting all the distances to the Amenities"
   ]
  },
  {
   "cell_type": "code",
   "execution_count": 9,
   "metadata": {},
   "outputs": [
    {
     "name": "stdout",
     "output_type": "stream",
     "text": [
      "Processing education...\n",
      "Error with batch 0.0: 403 ({'error': 'Quota exceeded'})\n",
      "Quota limit exceeded for API key 5b3ce3597851110001cf62484999c1f7edce4ac5a072b1c9fb50ffa2\n",
      "Using a new key... Waiting for 10 seconds before continuing.\n",
      "Error with batch 360.0: HTTP Error: 502\n",
      "Unhandled error occurred: HTTP Error: 502. Retrying after 10 seconds...\n",
      "Processing parks_and_gardens...\n",
      "Error with batch 0.0: 403 ({'error': 'Quota exceeded'})\n",
      "Quota limit exceeded for API key 5b3ce3597851110001cf62484999c1f7edce4ac5a072b1c9fb50ffa2\n",
      "Using a new key... Waiting for 10 seconds before continuing.\n",
      "Error with batch 148.0: 403 ({'error': 'Quota exceeded'})\n",
      "Quota limit exceeded for API key 5b3ce3597851110001cf6248fdd0ae85071d43598ef26e7a446a4f78\n",
      "Using a new key... Waiting for 10 seconds before continuing.\n",
      "Processing train_station...\n",
      "Error with batch 0.0: 403 ({'error': 'Quota exceeded'})\n",
      "Quota limit exceeded for API key 5b3ce3597851110001cf62484999c1f7edce4ac5a072b1c9fb50ffa2\n",
      "Using a new key... Waiting for 10 seconds before continuing.\n",
      "Error with batch 0.0: 403 ({'error': 'Quota exceeded'})\n",
      "Quota limit exceeded for API key 5b3ce3597851110001cf6248fdd0ae85071d43598ef26e7a446a4f78\n",
      "Using a new key... Waiting for 10 seconds before continuing.\n",
      "Error with batch 114.0: HTTP Error: 502\n",
      "Unhandled error occurred: HTTP Error: 502. Retrying after 10 seconds...\n",
      "Processing shopping...\n",
      "Error with batch 0.0: 403 ({'error': 'Quota exceeded'})\n",
      "Quota limit exceeded for API key 5b3ce3597851110001cf62484999c1f7edce4ac5a072b1c9fb50ffa2\n",
      "Using a new key... Waiting for 10 seconds before continuing.\n",
      "Error with batch 0.0: 403 ({'error': 'Quota exceeded'})\n",
      "Quota limit exceeded for API key 5b3ce3597851110001cf6248fdd0ae85071d43598ef26e7a446a4f78\n",
      "Using a new key... Waiting for 10 seconds before continuing.\n",
      "Processing healthcare...\n",
      "Error with batch 0.0: 403 ({'error': 'Quota exceeded'})\n",
      "Quota limit exceeded for API key 5b3ce3597851110001cf62484999c1f7edce4ac5a072b1c9fb50ffa2\n",
      "Using a new key... Waiting for 10 seconds before continuing.\n",
      "Error with batch 0.0: 403 ({'error': 'Quota exceeded'})\n",
      "Quota limit exceeded for API key 5b3ce3597851110001cf6248fdd0ae85071d43598ef26e7a446a4f78\n",
      "Using a new key... Waiting for 10 seconds before continuing.\n",
      "Error with batch 95.0: HTTP Error: 502\n",
      "Unhandled error occurred: HTTP Error: 502. Retrying after 10 seconds...\n"
     ]
    }
   ],
   "source": [
    "# Greater Melbourne - oldlisting data\n",
    "\n",
    "gm_c_a_oldlisting_df = get_amenity_distances(gm_c_oldlisting_df, amenities_dfs, api_keys)\n",
    "gm_c_a_oldlisting_df.to_csv(\"../data/raw/oldlisting/gm_c+a_oldlisting.csv\")"
   ]
  },
  {
   "cell_type": "code",
   "execution_count": 119,
   "metadata": {},
   "outputs": [
    {
     "name": "stdout",
     "output_type": "stream",
     "text": [
      "Processing education...\n",
      "Processing parks_and_gardens...\n",
      "Processing train_station...\n",
      "Processing shopping...\n",
      "Error with batch 186.0: HTTP Error: 502\n",
      "Unexpected error occurred: HTTP Error: 502.\n",
      "Retrying after 3 seconds...\n",
      "Processing healthcare...\n"
     ]
    }
   ],
   "source": [
    "# Rest of Vic - oldlisting data\n",
    "\n",
    "rv_c_a_oldlisting_df = get_amenity_distances(rv_c_oldlisting_df, amenities_dfs, api_keys)\n",
    "rv_c_a_oldlisting_df.to_csv(\"../data/raw/oldlisting/rv_c+a_oldlisting.csv\")"
   ]
  },
  {
   "cell_type": "code",
   "execution_count": null,
   "metadata": {},
   "outputs": [],
   "source": [
    "# Greater Melbourne - Domain data\n",
    "\n",
    "gm_c_a_domain_df = get_amenity_distances(gm_c_domain_df, amenities_dfs, api_keys)\n",
    "gm_c_a_domain_df.to_csv(\"../data/raw/domain/gm_c+a_domain.csv\")"
   ]
  },
  {
   "cell_type": "code",
   "execution_count": 11,
   "metadata": {},
   "outputs": [
    {
     "name": "stdout",
     "output_type": "stream",
     "text": [
      "Processing education...\n",
      "Processing parks_and_gardens...\n",
      "Processing train_station...\n",
      "Processing shopping...\n",
      "Processing healthcare...\n"
     ]
    }
   ],
   "source": [
    "# Rest of Vic - Domain data\n",
    "rv_c_domain_df = pd.read_csv(\"../data/raw/domain/rv_c_domain.csv\")\n",
    "rv_c_a_domain_df = get_amenity_distances(rv_c_domain_df, amenities_dfs, api_keys)\n",
    "rv_c_a_domain_df.to_csv(\"../data/raw/domain/rv_c+a_domain.csv\")"
   ]
  }
 ],
 "metadata": {
  "kernelspec": {
   "display_name": "base",
   "language": "python",
   "name": "python3"
  },
  "language_info": {
   "codemirror_mode": {
    "name": "ipython",
    "version": 3
   },
   "file_extension": ".py",
   "mimetype": "text/x-python",
   "name": "python",
   "nbconvert_exporter": "python",
   "pygments_lexer": "ipython3",
   "version": "3.11.9"
  }
 },
 "nbformat": 4,
 "nbformat_minor": 2
}
