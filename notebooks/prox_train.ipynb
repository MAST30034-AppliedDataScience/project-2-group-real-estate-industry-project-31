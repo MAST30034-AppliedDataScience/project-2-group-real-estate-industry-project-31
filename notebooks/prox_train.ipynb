{
 "cells": [
  {
   "cell_type": "markdown",
   "metadata": {},
   "source": [
    "# Computing Proximity to the Closest Train Station for all Rental Properties"
   ]
  },
  {
   "cell_type": "code",
   "execution_count": 3,
   "metadata": {},
   "outputs": [],
   "source": [
    "import requests\n",
    "import zipfile\n",
    "import io\n",
    "import geopandas as gpd\n",
    "from openrouteservice import Client\n",
    "import json\n",
    "import pandas as pd\n",
    "from shapely.geometry import Point\n",
    "import ast\n",
    "import time\n",
    "import os\n",
    "import sys\n",
    "import numpy as np\n",
    "sys.path.append('../')\n",
    "from scripts.utils import download_file, extract_zip"
   ]
  },
  {
   "cell_type": "markdown",
   "metadata": {},
   "source": [
    "## Loading Train Station Data"
   ]
  },
  {
   "cell_type": "code",
   "execution_count": 4,
   "metadata": {},
   "outputs": [
    {
     "name": "stdout",
     "output_type": "stream",
     "text": [
      "Files in extracted directory: ['Creative Commons Licence.html', 'll_gda94', 'PTV_METRO_TRAIN_STATION_b6722101-8db5-51f0-8a6f-d1e4fe805b73.html']\n"
     ]
    }
   ],
   "source": [
    "url = 'https://s3.ap-southeast-2.amazonaws.com/cl-isd-prd-datashare-s3-delivery/Order_FYXPQM.zip'\n",
    "zip_path = '../data/landing/train_stations/train_stations.zip'\n",
    "extract_to = '../data/landing/train_stations/extracted'\n",
    "    \n",
    "# Download the ZIP file\n",
    "download_file(url, zip_path)\n",
    "    \n",
    "# Extract the ZIP file\n",
    "extract_zip(zip_path, extract_to)\n",
    "\n",
    "# List files in the extracted directory\n",
    "extracted_files = os.listdir(extract_to)\n",
    "print(\"Files in extracted directory:\", extracted_files)"
   ]
  },
  {
   "cell_type": "code",
   "execution_count": 5,
   "metadata": {},
   "outputs": [
    {
     "name": "stdout",
     "output_type": "stream",
     "text": [
      "  STOP_ID   LATITUDE                                          STOP_NAME  \\\n",
      "0   19970 -37.781193             Royal Park Railway Station (Parkville)   \n",
      "1   19971 -37.788140  Flemington Bridge Railway Station (North Melbo...   \n",
      "2   19972 -37.794267         Macaulay Railway Station (North Melbourne)   \n",
      "3   19973 -37.807419   North Melbourne Railway Station (West Melbourne)   \n",
      "4   19974 -37.788657        Clifton Hill Railway Station (Clifton Hill)   \n",
      "\n",
      "    LONGITUDE TICKETZONE                                          ROUTEUSSP  \\\n",
      "0  144.952301          1                                            Upfield   \n",
      "1  144.939323          1                                            Upfield   \n",
      "2  144.936166          1                                            Upfield   \n",
      "3  144.942570          1  Flemington,Sunbury,Upfield,Werribee,Williamsto...   \n",
      "4  144.995417          1                                 Mernda,Hurstbridge   \n",
      "\n",
      "                      geometry  \n",
      "0   POINT (144.9523 -37.78119)  \n",
      "1  POINT (144.93932 -37.78814)  \n",
      "2  POINT (144.93617 -37.79427)  \n",
      "3  POINT (144.94257 -37.80742)  \n",
      "4  POINT (144.99542 -37.78866)  \n"
     ]
    },
    {
     "data": {
      "text/plain": [
       "Index(['STOP_ID', 'LATITUDE', 'STOP_NAME', 'LONGITUDE', 'TICKETZONE',\n",
       "       'ROUTEUSSP', 'geometry'],\n",
       "      dtype='object')"
      ]
     },
     "execution_count": 5,
     "metadata": {},
     "output_type": "execute_result"
    }
   ],
   "source": [
    "# Path to the shapefile\n",
    "shapefile_path = '../data/landing/train_stations/extracted/ll_gda94/esrishape/whole_of_dataset/victoria/PTV/PTV_METRO_TRAIN_STATION.shp'\n",
    "\n",
    "# Read the shapefile into a GeoDataFrame\n",
    "train_gdf = gpd.read_file(shapefile_path)\n",
    "\n",
    "# Display the first few rows of the GeoDataFrame\n",
    "print(train_gdf.head())\n",
    "\n",
    "# Display the columns of the GeoDataFrame\n",
    "train_gdf.columns"
   ]
  },
  {
   "cell_type": "code",
   "execution_count": 6,
   "metadata": {},
   "outputs": [
    {
     "data": {
      "text/html": [
       "<div>\n",
       "<style scoped>\n",
       "    .dataframe tbody tr th:only-of-type {\n",
       "        vertical-align: middle;\n",
       "    }\n",
       "\n",
       "    .dataframe tbody tr th {\n",
       "        vertical-align: top;\n",
       "    }\n",
       "\n",
       "    .dataframe thead th {\n",
       "        text-align: right;\n",
       "    }\n",
       "</style>\n",
       "<table border=\"1\" class=\"dataframe\">\n",
       "  <thead>\n",
       "    <tr style=\"text-align: right;\">\n",
       "      <th></th>\n",
       "      <th>stop_id</th>\n",
       "      <th>latitude</th>\n",
       "      <th>stop_name</th>\n",
       "      <th>longitude</th>\n",
       "      <th>ticketzone</th>\n",
       "      <th>routeussp</th>\n",
       "      <th>geometry</th>\n",
       "    </tr>\n",
       "  </thead>\n",
       "  <tbody>\n",
       "    <tr>\n",
       "      <th>0</th>\n",
       "      <td>19970</td>\n",
       "      <td>-37.781193</td>\n",
       "      <td>Royal Park Railway Station (Parkville)</td>\n",
       "      <td>144.952301</td>\n",
       "      <td>1</td>\n",
       "      <td>Upfield</td>\n",
       "      <td>POINT (144.9523 -37.78119)</td>\n",
       "    </tr>\n",
       "    <tr>\n",
       "      <th>1</th>\n",
       "      <td>19971</td>\n",
       "      <td>-37.788140</td>\n",
       "      <td>Flemington Bridge Railway Station (North Melbo...</td>\n",
       "      <td>144.939323</td>\n",
       "      <td>1</td>\n",
       "      <td>Upfield</td>\n",
       "      <td>POINT (144.93932 -37.78814)</td>\n",
       "    </tr>\n",
       "    <tr>\n",
       "      <th>2</th>\n",
       "      <td>19972</td>\n",
       "      <td>-37.794267</td>\n",
       "      <td>Macaulay Railway Station (North Melbourne)</td>\n",
       "      <td>144.936166</td>\n",
       "      <td>1</td>\n",
       "      <td>Upfield</td>\n",
       "      <td>POINT (144.93617 -37.79427)</td>\n",
       "    </tr>\n",
       "    <tr>\n",
       "      <th>3</th>\n",
       "      <td>19973</td>\n",
       "      <td>-37.807419</td>\n",
       "      <td>North Melbourne Railway Station (West Melbourne)</td>\n",
       "      <td>144.942570</td>\n",
       "      <td>1</td>\n",
       "      <td>Flemington,Sunbury,Upfield,Werribee,Williamsto...</td>\n",
       "      <td>POINT (144.94257 -37.80742)</td>\n",
       "    </tr>\n",
       "    <tr>\n",
       "      <th>4</th>\n",
       "      <td>19974</td>\n",
       "      <td>-37.788657</td>\n",
       "      <td>Clifton Hill Railway Station (Clifton Hill)</td>\n",
       "      <td>144.995417</td>\n",
       "      <td>1</td>\n",
       "      <td>Mernda,Hurstbridge</td>\n",
       "      <td>POINT (144.99542 -37.78866)</td>\n",
       "    </tr>\n",
       "  </tbody>\n",
       "</table>\n",
       "</div>"
      ],
      "text/plain": [
       "  stop_id   latitude                                          stop_name  \\\n",
       "0   19970 -37.781193             Royal Park Railway Station (Parkville)   \n",
       "1   19971 -37.788140  Flemington Bridge Railway Station (North Melbo...   \n",
       "2   19972 -37.794267         Macaulay Railway Station (North Melbourne)   \n",
       "3   19973 -37.807419   North Melbourne Railway Station (West Melbourne)   \n",
       "4   19974 -37.788657        Clifton Hill Railway Station (Clifton Hill)   \n",
       "\n",
       "    longitude ticketzone                                          routeussp  \\\n",
       "0  144.952301          1                                            Upfield   \n",
       "1  144.939323          1                                            Upfield   \n",
       "2  144.936166          1                                            Upfield   \n",
       "3  144.942570          1  Flemington,Sunbury,Upfield,Werribee,Williamsto...   \n",
       "4  144.995417          1                                 Mernda,Hurstbridge   \n",
       "\n",
       "                      geometry  \n",
       "0   POINT (144.9523 -37.78119)  \n",
       "1  POINT (144.93932 -37.78814)  \n",
       "2  POINT (144.93617 -37.79427)  \n",
       "3  POINT (144.94257 -37.80742)  \n",
       "4  POINT (144.99542 -37.78866)  "
      ]
     },
     "execution_count": 6,
     "metadata": {},
     "output_type": "execute_result"
    }
   ],
   "source": [
    "# Convert column names to lowercase\n",
    "train_gdf.columns = [col.lower() for col in train_gdf.columns]\n",
    "\n",
    "# Display the updated GeoDataFrame\n",
    "train_gdf.head()"
   ]
  },
  {
   "cell_type": "code",
   "execution_count": 7,
   "metadata": {},
   "outputs": [
    {
     "data": {
      "text/html": [
       "<div>\n",
       "<style scoped>\n",
       "    .dataframe tbody tr th:only-of-type {\n",
       "        vertical-align: middle;\n",
       "    }\n",
       "\n",
       "    .dataframe tbody tr th {\n",
       "        vertical-align: top;\n",
       "    }\n",
       "\n",
       "    .dataframe thead th {\n",
       "        text-align: right;\n",
       "    }\n",
       "</style>\n",
       "<table border=\"1\" class=\"dataframe\">\n",
       "  <thead>\n",
       "    <tr style=\"text-align: right;\">\n",
       "      <th></th>\n",
       "      <th>latitude</th>\n",
       "      <th>longitude</th>\n",
       "    </tr>\n",
       "  </thead>\n",
       "  <tbody>\n",
       "    <tr>\n",
       "      <th>count</th>\n",
       "      <td>220.000000</td>\n",
       "      <td>220.000000</td>\n",
       "    </tr>\n",
       "    <tr>\n",
       "      <th>mean</th>\n",
       "      <td>-37.852378</td>\n",
       "      <td>145.045691</td>\n",
       "    </tr>\n",
       "    <tr>\n",
       "      <th>std</th>\n",
       "      <td>0.140332</td>\n",
       "      <td>0.139902</td>\n",
       "    </tr>\n",
       "    <tr>\n",
       "      <th>min</th>\n",
       "      <td>-38.374235</td>\n",
       "      <td>144.661118</td>\n",
       "    </tr>\n",
       "    <tr>\n",
       "      <th>25%</th>\n",
       "      <td>-37.899626</td>\n",
       "      <td>144.961156</td>\n",
       "    </tr>\n",
       "    <tr>\n",
       "      <th>50%</th>\n",
       "      <td>-37.826147</td>\n",
       "      <td>145.036588</td>\n",
       "    </tr>\n",
       "    <tr>\n",
       "      <th>75%</th>\n",
       "      <td>-37.769623</td>\n",
       "      <td>145.121451</td>\n",
       "    </tr>\n",
       "    <tr>\n",
       "      <th>max</th>\n",
       "      <td>-37.579091</td>\n",
       "      <td>145.486379</td>\n",
       "    </tr>\n",
       "  </tbody>\n",
       "</table>\n",
       "</div>"
      ],
      "text/plain": [
       "         latitude   longitude\n",
       "count  220.000000  220.000000\n",
       "mean   -37.852378  145.045691\n",
       "std      0.140332    0.139902\n",
       "min    -38.374235  144.661118\n",
       "25%    -37.899626  144.961156\n",
       "50%    -37.826147  145.036588\n",
       "75%    -37.769623  145.121451\n",
       "max    -37.579091  145.486379"
      ]
     },
     "execution_count": 7,
     "metadata": {},
     "output_type": "execute_result"
    }
   ],
   "source": [
    "# Checking longitude and latitude are within the reasonable limits for Victoria\n",
    "\n",
    "# Latitude: Approx [-39, -34]\n",
    "# Longitude: Approx [140, 150]\n",
    "\n",
    "train_gdf.describe()"
   ]
  },
  {
   "cell_type": "markdown",
   "metadata": {},
   "source": [
    "## Loading Rental Data"
   ]
  },
  {
   "cell_type": "code",
   "execution_count": 1,
   "metadata": {},
   "outputs": [
    {
     "ename": "NameError",
     "evalue": "name 'pd' is not defined",
     "output_type": "error",
     "traceback": [
      "\u001b[0;31m---------------------------------------------------------------------------\u001b[0m",
      "\u001b[0;31mNameError\u001b[0m                                 Traceback (most recent call last)",
      "Cell \u001b[0;32mIn[1], line 1\u001b[0m\n\u001b[0;32m----> 1\u001b[0m domain_df \u001b[38;5;241m=\u001b[39m \u001b[43mpd\u001b[49m\u001b[38;5;241m.\u001b[39mread_parquet(\u001b[38;5;124m'\u001b[39m\u001b[38;5;124m../data/raw/all_domain_properties.parquet\u001b[39m\u001b[38;5;124m'\u001b[39m)\n\u001b[1;32m      3\u001b[0m \u001b[38;5;66;03m# Display the DataFrame\u001b[39;00m\n\u001b[1;32m      4\u001b[0m domain_df\u001b[38;5;241m.\u001b[39mhead()\n",
      "\u001b[0;31mNameError\u001b[0m: name 'pd' is not defined"
     ]
    }
   ],
   "source": [
    "domain_df = pd.read_parquet('../data/raw/all_domain_properties.parquet')\n",
    "\n",
    "# Display the DataFrame\n",
    "domain_df.head()"
   ]
  }
 ],
 "metadata": {
  "kernelspec": {
   "display_name": "Python 3.9.12 ('.venv': venv)",
   "language": "python",
   "name": "python3"
  },
  "language_info": {
   "codemirror_mode": {
    "name": "ipython",
    "version": 3
   },
   "file_extension": ".py",
   "mimetype": "text/x-python",
   "name": "python",
   "nbconvert_exporter": "python",
   "pygments_lexer": "ipython3",
   "version": "3.9.12"
  },
  "orig_nbformat": 4,
  "vscode": {
   "interpreter": {
    "hash": "c120c326cfee09a576d0a5ff18a658a38798363984a1d0eea79d04af089ebf17"
   }
  }
 },
 "nbformat": 4,
 "nbformat_minor": 2
}
